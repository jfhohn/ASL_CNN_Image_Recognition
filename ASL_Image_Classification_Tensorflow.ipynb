{
 "cells": [
  {
   "cell_type": "code",
   "execution_count": 7,
   "metadata": {},
   "outputs": [],
   "source": [
    "import tensorflow as tf\n",
    "import tensorflow.keras as keras\n",
    "import numpy as np\n",
    "import matplotlib.pyplot as plt\n",
    "import pandas as pd\n",
    "%matplotlib inline\n",
    "from tensorflow.keras.datasets import mnist"
   ]
  },
  {
   "cell_type": "code",
   "execution_count": 8,
   "metadata": {},
   "outputs": [],
   "source": [
    "df_test = pd.read_csv('./sign_mnist_test.csv')\n",
    "df_train = pd.read_csv('./sign_mnist_train.csv')"
   ]
  },
  {
   "cell_type": "code",
   "execution_count": 9,
   "metadata": {},
   "outputs": [],
   "source": [
    "#separate labels (letter classes) from training data set\n",
    "#drop label from rest of pixels\n",
    "labels_train = df_train['label']\n",
    "df_train = df_train.drop('label',axis = 1)"
   ]
  },
  {
   "cell_type": "code",
   "execution_count": 10,
   "metadata": {},
   "outputs": [
    {
     "data": {
      "text/html": [
       "<div>\n",
       "<style scoped>\n",
       "    .dataframe tbody tr th:only-of-type {\n",
       "        vertical-align: middle;\n",
       "    }\n",
       "\n",
       "    .dataframe tbody tr th {\n",
       "        vertical-align: top;\n",
       "    }\n",
       "\n",
       "    .dataframe thead th {\n",
       "        text-align: right;\n",
       "    }\n",
       "</style>\n",
       "<table border=\"1\" class=\"dataframe\">\n",
       "  <thead>\n",
       "    <tr style=\"text-align: right;\">\n",
       "      <th></th>\n",
       "      <th>label</th>\n",
       "      <th>pixel1</th>\n",
       "      <th>pixel2</th>\n",
       "      <th>pixel3</th>\n",
       "      <th>pixel4</th>\n",
       "      <th>pixel5</th>\n",
       "      <th>pixel6</th>\n",
       "      <th>pixel7</th>\n",
       "      <th>pixel8</th>\n",
       "      <th>pixel9</th>\n",
       "      <th>...</th>\n",
       "      <th>pixel775</th>\n",
       "      <th>pixel776</th>\n",
       "      <th>pixel777</th>\n",
       "      <th>pixel778</th>\n",
       "      <th>pixel779</th>\n",
       "      <th>pixel780</th>\n",
       "      <th>pixel781</th>\n",
       "      <th>pixel782</th>\n",
       "      <th>pixel783</th>\n",
       "      <th>pixel784</th>\n",
       "    </tr>\n",
       "  </thead>\n",
       "  <tbody>\n",
       "    <tr>\n",
       "      <th>0</th>\n",
       "      <td>6</td>\n",
       "      <td>149</td>\n",
       "      <td>149</td>\n",
       "      <td>150</td>\n",
       "      <td>150</td>\n",
       "      <td>150</td>\n",
       "      <td>151</td>\n",
       "      <td>151</td>\n",
       "      <td>150</td>\n",
       "      <td>151</td>\n",
       "      <td>...</td>\n",
       "      <td>138</td>\n",
       "      <td>148</td>\n",
       "      <td>127</td>\n",
       "      <td>89</td>\n",
       "      <td>82</td>\n",
       "      <td>96</td>\n",
       "      <td>106</td>\n",
       "      <td>112</td>\n",
       "      <td>120</td>\n",
       "      <td>107</td>\n",
       "    </tr>\n",
       "    <tr>\n",
       "      <th>1</th>\n",
       "      <td>5</td>\n",
       "      <td>126</td>\n",
       "      <td>128</td>\n",
       "      <td>131</td>\n",
       "      <td>132</td>\n",
       "      <td>133</td>\n",
       "      <td>134</td>\n",
       "      <td>135</td>\n",
       "      <td>135</td>\n",
       "      <td>136</td>\n",
       "      <td>...</td>\n",
       "      <td>47</td>\n",
       "      <td>104</td>\n",
       "      <td>194</td>\n",
       "      <td>183</td>\n",
       "      <td>186</td>\n",
       "      <td>184</td>\n",
       "      <td>184</td>\n",
       "      <td>184</td>\n",
       "      <td>182</td>\n",
       "      <td>180</td>\n",
       "    </tr>\n",
       "    <tr>\n",
       "      <th>2</th>\n",
       "      <td>10</td>\n",
       "      <td>85</td>\n",
       "      <td>88</td>\n",
       "      <td>92</td>\n",
       "      <td>96</td>\n",
       "      <td>105</td>\n",
       "      <td>123</td>\n",
       "      <td>135</td>\n",
       "      <td>143</td>\n",
       "      <td>147</td>\n",
       "      <td>...</td>\n",
       "      <td>68</td>\n",
       "      <td>166</td>\n",
       "      <td>242</td>\n",
       "      <td>227</td>\n",
       "      <td>230</td>\n",
       "      <td>227</td>\n",
       "      <td>226</td>\n",
       "      <td>225</td>\n",
       "      <td>224</td>\n",
       "      <td>222</td>\n",
       "    </tr>\n",
       "    <tr>\n",
       "      <th>3</th>\n",
       "      <td>0</td>\n",
       "      <td>203</td>\n",
       "      <td>205</td>\n",
       "      <td>207</td>\n",
       "      <td>206</td>\n",
       "      <td>207</td>\n",
       "      <td>209</td>\n",
       "      <td>210</td>\n",
       "      <td>209</td>\n",
       "      <td>210</td>\n",
       "      <td>...</td>\n",
       "      <td>154</td>\n",
       "      <td>248</td>\n",
       "      <td>247</td>\n",
       "      <td>248</td>\n",
       "      <td>253</td>\n",
       "      <td>236</td>\n",
       "      <td>230</td>\n",
       "      <td>240</td>\n",
       "      <td>253</td>\n",
       "      <td>255</td>\n",
       "    </tr>\n",
       "    <tr>\n",
       "      <th>4</th>\n",
       "      <td>3</td>\n",
       "      <td>188</td>\n",
       "      <td>191</td>\n",
       "      <td>193</td>\n",
       "      <td>195</td>\n",
       "      <td>199</td>\n",
       "      <td>201</td>\n",
       "      <td>202</td>\n",
       "      <td>203</td>\n",
       "      <td>203</td>\n",
       "      <td>...</td>\n",
       "      <td>26</td>\n",
       "      <td>40</td>\n",
       "      <td>64</td>\n",
       "      <td>48</td>\n",
       "      <td>29</td>\n",
       "      <td>46</td>\n",
       "      <td>49</td>\n",
       "      <td>46</td>\n",
       "      <td>46</td>\n",
       "      <td>53</td>\n",
       "    </tr>\n",
       "  </tbody>\n",
       "</table>\n",
       "<p>5 rows × 785 columns</p>\n",
       "</div>"
      ],
      "text/plain": [
       "   label  pixel1  pixel2  pixel3  pixel4  pixel5  pixel6  pixel7  pixel8  \\\n",
       "0      6     149     149     150     150     150     151     151     150   \n",
       "1      5     126     128     131     132     133     134     135     135   \n",
       "2     10      85      88      92      96     105     123     135     143   \n",
       "3      0     203     205     207     206     207     209     210     209   \n",
       "4      3     188     191     193     195     199     201     202     203   \n",
       "\n",
       "   pixel9  ...  pixel775  pixel776  pixel777  pixel778  pixel779  pixel780  \\\n",
       "0     151  ...       138       148       127        89        82        96   \n",
       "1     136  ...        47       104       194       183       186       184   \n",
       "2     147  ...        68       166       242       227       230       227   \n",
       "3     210  ...       154       248       247       248       253       236   \n",
       "4     203  ...        26        40        64        48        29        46   \n",
       "\n",
       "   pixel781  pixel782  pixel783  pixel784  \n",
       "0       106       112       120       107  \n",
       "1       184       184       182       180  \n",
       "2       226       225       224       222  \n",
       "3       230       240       253       255  \n",
       "4        49        46        46        53  \n",
       "\n",
       "[5 rows x 785 columns]"
      ]
     },
     "execution_count": 10,
     "metadata": {},
     "output_type": "execute_result"
    }
   ],
   "source": [
    "df_test.head()"
   ]
  },
  {
   "cell_type": "code",
   "execution_count": 11,
   "metadata": {},
   "outputs": [],
   "source": [
    "# #separate labels (letter classes) from test data set\n",
    "#drop label from rest of pixels\n",
    "labels_test = df_test['label']\n",
    "df_test = df_test.drop('label',axis = 1)"
   ]
  },
  {
   "cell_type": "code",
   "execution_count": 12,
   "metadata": {},
   "outputs": [],
   "source": [
    "#convert pandas to numpy arrays\n",
    "np_test =df_test.to_numpy()\n",
    "np_train = df_train.to_numpy()\n",
    "labels_train = labels_train.to_numpy()\n",
    "labels_test = labels_test.to_numpy()"
   ]
  },
  {
   "cell_type": "code",
   "execution_count": 13,
   "metadata": {},
   "outputs": [],
   "source": [
    "# This loads in the dataset. Thankfully, TensorFlow already has methods to load this dataset\n",
    "# (x_train, y_train), (x_test, y_test) = mnist.load_data()\n",
    "\n",
    "#define target values\n",
    "y_train = labels_train\n",
    "y_test = labels_test\n",
    "\n",
    "# Normalize input values\n",
    "x_train = np_train/255. #0-1\n",
    "x_test = np_test/255.\n",
    "\n",
    "# Generate 32x32 image set for use in LeNet\n",
    "cnn_x_train = x_train.reshape(-1,28,28,1) # don't know what this 1 does\n",
    "cnn_x_test = x_test.reshape(-1,28,28,1)\n",
    "# cnn_x_train = np.pad(x_train, ((0,0),(2,2),(2,2))).reshape((-1, 32, 32, 1))\n",
    "# cnn_x_test = np.pad(x_test, ((0,0),(2,2),(2,2))).reshape((-1, 32, 32, 1))\n",
    "\n",
    "# Resize images for use in MLP\n",
    "mlp_x_train = x_train.reshape((x_train.shape[0], 784))\n",
    "mlp_x_test = x_test.reshape((x_test.shape[0], 784))"
   ]
  },
  {
   "cell_type": "code",
   "execution_count": 14,
   "metadata": {},
   "outputs": [
    {
     "data": {
      "text/plain": [
       "(27455, 784)"
      ]
     },
     "execution_count": 14,
     "metadata": {},
     "output_type": "execute_result"
    }
   ],
   "source": [
    "mlp_x_train.shape"
   ]
  },
  {
   "cell_type": "code",
   "execution_count": 15,
   "metadata": {},
   "outputs": [
    {
     "name": "stdout",
     "output_type": "stream",
     "text": [
      "WARNING:tensorflow:From /opt/conda/lib/python3.7/site-packages/tensorflow_core/python/ops/resource_variable_ops.py:1630: calling BaseResourceVariable.__init__ (from tensorflow.python.ops.resource_variable_ops) with constraint is deprecated and will be removed in a future version.\n",
      "Instructions for updating:\n",
      "If using Keras pass *_constraint arguments to layers.\n",
      "Model: \"model\"\n",
      "_________________________________________________________________\n",
      "Layer (type)                 Output Shape              Param #   \n",
      "=================================================================\n",
      "input_1 (InputLayer)         [(None, 784)]             0         \n",
      "_________________________________________________________________\n",
      "dense (Dense)                (None, 512)               401920    \n",
      "_________________________________________________________________\n",
      "dense_1 (Dense)              (None, 512)               262656    \n",
      "_________________________________________________________________\n",
      "dense_2 (Dense)              (None, 25)                12825     \n",
      "=================================================================\n",
      "Total params: 677,401\n",
      "Trainable params: 677,401\n",
      "Non-trainable params: 0\n",
      "_________________________________________________________________\n"
     ]
    }
   ],
   "source": [
    "# Implements the network using TensorFlow.Keras\n",
    "def MLPNetwork(inputDim):\n",
    "    # input layer (note that batches are already taken care of for you)\n",
    "    x = keras.Input(shape=(inputDim,))\n",
    "    \n",
    "    # subsequent dense layers\n",
    "    a1 = keras.layers.Dense(512, activation='relu')(x)\n",
    "    a2 = keras.layers.Dense(512, activation='relu')(a1)\n",
    "    \n",
    "    # classification dense layer\n",
    "    logits = keras.layers.Dense(25, activation='softmax')(a2)\n",
    "    \n",
    "    # Creates the model given the above structure\n",
    "    model = keras.Model(inputs=x, outputs=logits)\n",
    "    return model\n",
    "\n",
    "MLPmod = MLPNetwork(784)\n",
    "MLPmod.summary()"
   ]
  },
  {
   "cell_type": "code",
   "execution_count": 16,
   "metadata": {},
   "outputs": [
    {
     "name": "stdout",
     "output_type": "stream",
     "text": [
      "Train on 27455 samples\n",
      "Epoch 1/10\n",
      "27455/27455 [==============================] - 3s 94us/sample - loss: 1.5433 - acc: 0.5062\n",
      "Epoch 2/10\n",
      "27455/27455 [==============================] - 2s 91us/sample - loss: 0.5785 - acc: 0.8091\n",
      "Epoch 3/10\n",
      "27455/27455 [==============================] - 2s 88us/sample - loss: 0.2695 - acc: 0.9137\n",
      "Epoch 4/10\n",
      "27455/27455 [==============================] - 2s 84us/sample - loss: 0.1479 - acc: 0.9533\n",
      "Epoch 5/10\n",
      "27455/27455 [==============================] - 2s 82us/sample - loss: 0.1036 - acc: 0.9692\n",
      "Epoch 6/10\n",
      "27455/27455 [==============================] - 2s 84us/sample - loss: 0.0588 - acc: 0.9827\n",
      "Epoch 7/10\n",
      "27455/27455 [==============================] - 2s 85us/sample - loss: 0.0808 - acc: 0.9741\n",
      "Epoch 8/10\n",
      "27455/27455 [==============================] - 3s 94us/sample - loss: 0.0316 - acc: 0.9898\n",
      "Epoch 9/10\n",
      "27455/27455 [==============================] - 3s 92us/sample - loss: 0.0011 - acc: 1.0000\n",
      "Epoch 10/10\n",
      "27455/27455 [==============================] - 2s 87us/sample - loss: 0.0850 - acc: 0.9772\n"
     ]
    }
   ],
   "source": [
    "# Sets up optimizer\n",
    "opt = keras.optimizers.Adam(learning_rate=0.001)\n",
    "MLPmod.compile(optimizer=opt, loss='sparse_categorical_crossentropy', metrics=['accuracy'])\n",
    "\n",
    "# The callback forces the network to train until it reaches 100% accuracy\n",
    "hist = MLPmod.fit(mlp_x_train, y_train, epochs=10, shuffle=True)"
   ]
  },
  {
   "cell_type": "code",
   "execution_count": 17,
   "metadata": {},
   "outputs": [
    {
     "name": "stdout",
     "output_type": "stream",
     "text": [
      "7172/7172 [==============================] - 0s 52us/sample - loss: 1.0982 - acc: 0.6675\n",
      "Test accuracy for this model is 0.6674568057060242\n"
     ]
    }
   ],
   "source": [
    "# Evaluate the trained network on the testing dataset\n",
    "testLoss, testAcc = MLPmod.evaluate(mlp_x_test, y_test)\n",
    "print(\"Test accuracy for this model is {}\".format(testAcc))"
   ]
  },
  {
   "cell_type": "code",
   "execution_count": 18,
   "metadata": {},
   "outputs": [
    {
     "name": "stdout",
     "output_type": "stream",
     "text": [
      "Model: \"model_1\"\n",
      "_________________________________________________________________\n",
      "Layer (type)                 Output Shape              Param #   \n",
      "=================================================================\n",
      "input_2 (InputLayer)         [(None, 28, 28, 1)]       0         \n",
      "_________________________________________________________________\n",
      "conv2d (Conv2D)              (None, 24, 24, 6)         156       \n",
      "_________________________________________________________________\n",
      "average_pooling2d (AveragePo (None, 12, 12, 6)         0         \n",
      "_________________________________________________________________\n",
      "conv2d_1 (Conv2D)            (None, 8, 8, 16)          2416      \n",
      "_________________________________________________________________\n",
      "average_pooling2d_1 (Average (None, 4, 4, 16)          0         \n",
      "_________________________________________________________________\n",
      "flatten (Flatten)            (None, 256)               0         \n",
      "_________________________________________________________________\n",
      "dense_3 (Dense)              (None, 120)               30840     \n",
      "_________________________________________________________________\n",
      "dense_4 (Dense)              (None, 84)                10164     \n",
      "_________________________________________________________________\n",
      "prelogits (Dense)            (None, 25)                2125      \n",
      "_________________________________________________________________\n",
      "logits (Activation)          (None, 25)                0         \n",
      "=================================================================\n",
      "Total params: 45,701\n",
      "Trainable params: 45,701\n",
      "Non-trainable params: 0\n",
      "_________________________________________________________________\n"
     ]
    }
   ],
   "source": [
    "# Creates the model within this function\n",
    "def LeNet():\n",
    "    # input\n",
    "    xIn = keras.Input(shape=(28,28,1))\n",
    "    \n",
    "    # subsequent layers\n",
    "    out = keras.layers.Conv2D(6, 5, activation='relu')(xIn)\n",
    "    out = keras.layers.AveragePooling2D(2, 2)(out)\n",
    "    out = keras.layers.Conv2D(16, 5, activation='relu')(out)\n",
    "    out = keras.layers.AveragePooling2D(2, 2)(out)\n",
    "    out = keras.layers.Flatten()(out)\n",
    "    out = keras.layers.Dense(120, activation='relu')(out)\n",
    "    out = keras.layers.Dense(84, activation='relu')(out)\n",
    "    out = keras.layers.Dense(25, name='prelogits')(out)  # more on this later\n",
    "    out = keras.layers.Activation('softmax', name='logits')(out)\n",
    "    \n",
    "    # Creates model\n",
    "    mod = keras.Model(inputs=xIn, outputs=out) #access loss?\n",
    "    \n",
    "    return mod\n",
    "\n",
    "# Declares the model and prepares it for training\n",
    "LeNetMod = LeNet()\n",
    "opt = keras.optimizers.Adam()\n",
    "LeNetMod.compile(optimizer=opt, loss='sparse_categorical_crossentropy', metrics=['accuracy']) #balanced error rate(FP, recall certain classes)\n",
    "LeNetMod.summary()"
   ]
  },
  {
   "cell_type": "code",
   "execution_count": 48,
   "metadata": {},
   "outputs": [
    {
     "name": "stdout",
     "output_type": "stream",
     "text": [
      "Train on 20591 samples, validate on 6864 samples\n",
      "Epoch 1/30\n",
      "20591/20591 [==============================] - 1s 64us/sample - loss: 0.0581 - acc: 0.9801 - val_loss: 0.0681 - val_acc: 0.9768\n",
      "Epoch 2/30\n",
      "20591/20591 [==============================] - 1s 60us/sample - loss: 0.0149 - acc: 0.9962 - val_loss: 0.0012 - val_acc: 1.0000\n",
      "Epoch 3/30\n",
      "20591/20591 [==============================] - 1s 60us/sample - loss: 9.6404e-04 - acc: 1.0000 - val_loss: 7.6461e-04 - val_acc: 1.0000\n",
      "Epoch 4/30\n",
      "20591/20591 [==============================] - 1s 58us/sample - loss: 6.7799e-04 - acc: 1.0000 - val_loss: 5.8458e-04 - val_acc: 1.0000\n",
      "Epoch 5/30\n",
      "20591/20591 [==============================] - 1s 65us/sample - loss: 5.5634e-04 - acc: 1.0000 - val_loss: 4.8461e-04 - val_acc: 1.0000\n",
      "Epoch 6/30\n",
      "20591/20591 [==============================] - 1s 59us/sample - loss: 4.7561e-04 - acc: 1.0000 - val_loss: 4.2146e-04 - val_acc: 1.0000\n",
      "Epoch 7/30\n",
      "20591/20591 [==============================] - 1s 57us/sample - loss: 3.8245e-04 - acc: 1.0000 - val_loss: 3.7197e-04 - val_acc: 1.0000\n",
      "Epoch 8/30\n",
      "20591/20591 [==============================] - 1s 57us/sample - loss: 3.3012e-04 - acc: 1.0000 - val_loss: 3.1450e-04 - val_acc: 1.0000\n",
      "Epoch 9/30\n",
      "20591/20591 [==============================] - 1s 56us/sample - loss: 2.9716e-04 - acc: 1.0000 - val_loss: 2.8897e-04 - val_acc: 1.0000\n",
      "Epoch 10/30\n",
      "20591/20591 [==============================] - 1s 58us/sample - loss: 2.5788e-04 - acc: 1.0000 - val_loss: 2.6247e-04 - val_acc: 1.0000\n",
      "Epoch 11/30\n",
      "20591/20591 [==============================] - 1s 57us/sample - loss: 2.2585e-04 - acc: 1.0000 - val_loss: 2.3228e-04 - val_acc: 1.0000\n",
      "Epoch 12/30\n",
      "20591/20591 [==============================] - 1s 52us/sample - loss: 2.0367e-04 - acc: 1.0000 - val_loss: 2.1092e-04 - val_acc: 1.0000\n",
      "Epoch 13/30\n",
      "20591/20591 [==============================] - 1s 50us/sample - loss: 1.9003e-04 - acc: 1.0000 - val_loss: 1.7592e-04 - val_acc: 1.0000\n",
      "Epoch 14/30\n",
      "20591/20591 [==============================] - 1s 57us/sample - loss: 1.6202e-04 - acc: 1.0000 - val_loss: 2.3245e-04 - val_acc: 1.0000\n",
      "Epoch 15/30\n",
      "20591/20591 [==============================] - 1s 59us/sample - loss: 1.4668e-04 - acc: 1.0000 - val_loss: 1.4665e-04 - val_acc: 1.0000\n",
      "Epoch 16/30\n",
      "20591/20591 [==============================] - 1s 57us/sample - loss: 1.3002e-04 - acc: 1.0000 - val_loss: 1.4042e-04 - val_acc: 1.0000\n",
      "Epoch 17/30\n",
      "20591/20591 [==============================] - 1s 59us/sample - loss: 1.1894e-04 - acc: 1.0000 - val_loss: 1.2341e-04 - val_acc: 1.0000\n",
      "Epoch 18/30\n",
      "20591/20591 [==============================] - 1s 61us/sample - loss: 1.0882e-04 - acc: 1.0000 - val_loss: 1.2740e-04 - val_acc: 1.0000\n",
      "Epoch 19/30\n",
      "20591/20591 [==============================] - 1s 60us/sample - loss: 1.0001e-04 - acc: 1.0000 - val_loss: 1.0826e-04 - val_acc: 1.0000\n",
      "Epoch 20/30\n",
      "20591/20591 [==============================] - 1s 56us/sample - loss: 9.4197e-05 - acc: 1.0000 - val_loss: 1.0457e-04 - val_acc: 1.0000\n",
      "Epoch 21/30\n",
      "20591/20591 [==============================] - 1s 59us/sample - loss: 8.2330e-05 - acc: 1.0000 - val_loss: 8.7126e-05 - val_acc: 1.0000\n",
      "Epoch 22/30\n",
      "20591/20591 [==============================] - 1s 58us/sample - loss: 7.7049e-05 - acc: 1.0000 - val_loss: 8.7437e-05 - val_acc: 1.0000\n",
      "Epoch 23/30\n",
      "20591/20591 [==============================] - 1s 55us/sample - loss: 7.0756e-05 - acc: 1.0000 - val_loss: 7.2984e-05 - val_acc: 1.0000\n",
      "Epoch 24/30\n",
      "20591/20591 [==============================] - 1s 55us/sample - loss: 6.4579e-05 - acc: 1.0000 - val_loss: 7.0524e-05 - val_acc: 1.0000\n",
      "Epoch 25/30\n",
      "20591/20591 [==============================] - 1s 57us/sample - loss: 6.3382e-05 - acc: 1.0000 - val_loss: 6.3062e-05 - val_acc: 1.0000\n",
      "Epoch 26/30\n",
      "20591/20591 [==============================] - 1s 61us/sample - loss: 5.4509e-05 - acc: 1.0000 - val_loss: 6.3452e-05 - val_acc: 1.0000\n",
      "Epoch 27/30\n",
      "20591/20591 [==============================] - 1s 54us/sample - loss: 4.9750e-05 - acc: 1.0000 - val_loss: 5.4340e-05 - val_acc: 1.0000\n",
      "Epoch 28/30\n",
      "20591/20591 [==============================] - 1s 52us/sample - loss: 4.5625e-05 - acc: 1.0000 - val_loss: 4.9565e-05 - val_acc: 1.0000\n",
      "Epoch 29/30\n",
      "20591/20591 [==============================] - 1s 56us/sample - loss: 4.0998e-05 - acc: 1.0000 - val_loss: 4.5357e-05 - val_acc: 1.0000\n",
      "Epoch 30/30\n",
      "20591/20591 [==============================] - 1s 53us/sample - loss: 3.7143e-05 - acc: 1.0000 - val_loss: 4.7125e-05 - val_acc: 1.0000\n"
     ]
    }
   ],
   "source": [
    "# Trains the network using mini-batch learning\n",
    "cnnHist = LeNetMod.fit(cnn_x_train, y_train, validation_split = 0.25, \n",
    "                       batch_size=128, epochs=30, shuffle=True, callbacks = [history])"
   ]
  },
  {
   "cell_type": "code",
   "execution_count": 49,
   "metadata": {},
   "outputs": [
    {
     "data": {
      "text/plain": [
       "<matplotlib.legend.Legend at 0x7f4ddc15b910>"
      ]
     },
     "execution_count": 49,
     "metadata": {},
     "output_type": "execute_result"
    },
    {
     "data": {
      "image/png": "[encoded data removed]",
      "text/plain": [
       "<Figure size 432x288 with 1 Axes>"
      ]
     },
     "metadata": {
      "needs_background": "light"
     },
     "output_type": "display_data"
    }
   ],
   "source": [
    "from tensorflow.keras.callbacks import History \n",
    "cnnHist.history# training loss\n",
    "a = cnnHist.history['loss']\n",
    "b = cnnHist.history['val_loss']\n",
    "plt.plot(range(len(a)),a)\n",
    "plt.plot(range(len(b)),b)\n",
    "plt.xlabel('Epochs')\n",
    "plt.ylabel('Loss')\n",
    "plt.legend(['Loss','Validation Loss'])"
   ]
  },
  {
   "cell_type": "code",
   "execution_count": 50,
   "metadata": {},
   "outputs": [
    {
     "name": "stdout",
     "output_type": "stream",
     "text": [
      "7172/7172 [==============================] - 0s 67us/sample - loss: 0.8598 - acc: 0.8603\n",
      "Test accuracy for this model is 0.860289990901947\n"
     ]
    }
   ],
   "source": [
    "# Evaluate the trained network on the testing dataset\n",
    "testLoss, testAcc = LeNetMod.evaluate(cnn_x_test, y_test)\n",
    "print(\"Test accuracy for this model is {}\".format(testAcc))"
   ]
  },
  {
   "cell_type": "code",
   "execution_count": 51,
   "metadata": {},
   "outputs": [
    {
     "data": {
      "text/plain": [
       "Text(0.5, 1.0, 'Number 19 classified as 23')"
      ]
     },
     "execution_count": 51,
     "metadata": {},
     "output_type": "execute_result"
    },
    {
     "data": {
      "image/png": "[encoded data removed]",
      "text/plain": [
       "<Figure size 432x288 with 1 Axes>"
      ]
     },
     "metadata": {
      "needs_background": "light"
     },
     "output_type": "display_data"
    }
   ],
   "source": [
    "# Plot an incorrect value...\n",
    "preds = LeNetMod.predict(cnn_x_test)\n",
    "preds = np.argmax(preds, axis=1)\n",
    "incorrectPreds = np.argwhere(preds != y_test)\n",
    "randIncInd = np.random.choice(incorrectPreds.reshape(-1))\n",
    "plt.imshow(cnn_x_test[randIncInd].reshape(28,28), cmap = 'gray')\n",
    "plt.title(\"Number {} classified as {}\".format(y_test[randIncInd], preds[randIncInd]))"
   ]
  },
  {
   "cell_type": "code",
   "execution_count": 52,
   "metadata": {},
   "outputs": [
    {
     "data": {
      "text/plain": [
       "Text(95.72222222222221, 0.5, 'Actual')"
      ]
     },
     "execution_count": 52,
     "metadata": {},
     "output_type": "execute_result"
    },
    {
     "data": {
      "image/png": "[encoded data removed]",
      "text/plain": [
       "<Figure size 1000x1000 with 2 Axes>"
      ]
     },
     "metadata": {
      "needs_background": "light"
     },
     "output_type": "display_data"
    }
   ],
   "source": [
    "from sklearn.metrics import confusion_matrix\n",
    "from seaborn import heatmap\n",
    "\n",
    "conMat = confusion_matrix(y_test, preds)\n",
    "plt.figure(figsize=(10,10), dpi=100)\n",
    "heatmap(conMat/np.sum(conMat,axis=1), annot=True, annot_kws={\"size\": 5}, fmt='.2%', cmap='Blues')\n",
    "plt.title(\"Confusion Matrix\")\n",
    "plt.xlabel(\"Predicted\")\n",
    "plt.ylabel(\"Actual\")"
   ]
  },
  {
   "cell_type": "markdown",
   "metadata": {},
   "source": [
    "### Improvements\n",
    "\n",
    "- add layers/architecture (available layers in tensorflow) dropout could be helpful\n",
    "- dropout used in FNN, fully connected to delete certain weights (helps to generalize better)\n",
    "- add penalty to certain classes e.g 16 is 42% incorrect, give greater weight to certain class\n",
    "- data augmentation (rotate image, resizing)"
   ]
  },
  {
   "cell_type": "code",
   "execution_count": null,
   "metadata": {},
   "outputs": [],
   "source": []
  }
 ],
 "metadata": {
  "kernelspec": {
   "display_name": "Python 3",
   "language": "python",
   "name": "python3"
  },
  "language_info": {
   "codemirror_mode": {
    "name": "ipython",
    "version": 3
   },
   "file_extension": ".py",
   "mimetype": "text/x-python",
   "name": "python",
   "nbconvert_exporter": "python",
   "pygments_lexer": "ipython3",
   "version": "3.7.6"
  }
 },
 "nbformat": 4,
 "nbformat_minor": 4
}
