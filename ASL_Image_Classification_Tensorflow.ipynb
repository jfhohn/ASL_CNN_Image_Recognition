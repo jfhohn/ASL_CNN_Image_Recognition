{
 "cells": [
  {
   "cell_type": "markdown",
   "metadata": {},
   "source": [
    "### Steps for CNN of ASL Dataset\n",
    "\n",
    "Load ASL training and test datasets \n",
    "- don't know how to process the image from individual pixels to torch or matplotlib\n",
    "\n",
    "Define a Convolutional Neural Network\n",
    "- working on understand different parts of torch architecture steps\n",
    "\n",
    "Define a loss function\n",
    "\n",
    "Train the network on the training data\n",
    "\n",
    "Test the network on the test data\n",
    "\n",
    "Visualize # of each letter in datasets(Bar graph to show samples in each class)\n",
    "\n",
    "Randomly generate 1 sample from each class\n",
    "\n",
    "Show correctly classified and wrongly classified to show why some are easier to classify vs harder to classify\n",
    "\n",
    "#### Dataset Origin \n",
    "https://www.kaggle.com/datamunge/sign-language-mnist\n",
    "\n",
    "#### Pytorch tutorial/inspiration\n",
    "https://pytorch.org/tutorials/beginner/blitz/cifar10_tutorial.html"
   ]
  },
  {
   "cell_type": "code",
   "execution_count": 2,
   "metadata": {},
   "outputs": [],
   "source": [
    "import tensorflow as tf\n",
    "import tensorflow.keras as keras\n",
    "import numpy as np\n",
    "import matplotlib.pyplot as plt\n",
    "import pandas as pd\n",
    "%matplotlib inline\n",
    "# from tensorflow.keras.datasets import mnist"
   ]
  },
  {
   "cell_type": "code",
   "execution_count": 3,
   "metadata": {},
   "outputs": [],
   "source": [
    "df_test = pd.read_csv('./sign_mnist_test.csv')\n",
    "df_train = pd.read_csv('./sign_mnist_train.csv')"
   ]
  },
  {
   "cell_type": "code",
   "execution_count": 4,
   "metadata": {},
   "outputs": [],
   "source": [
    "#separate labels (letter classes) from training data set\n",
    "#drop label from rest of pixels\n",
    "labels_train = df_train['label']\n",
    "df_train = df_train.drop('label',axis = 1)"
   ]
  },
  {
   "cell_type": "code",
   "execution_count": 4,
   "metadata": {},
   "outputs": [
    {
     "data": {
      "text/html": [
       "<div>\n",
       "<style scoped>\n",
       "    .dataframe tbody tr th:only-of-type {\n",
       "        vertical-align: middle;\n",
       "    }\n",
       "\n",
       "    .dataframe tbody tr th {\n",
       "        vertical-align: top;\n",
       "    }\n",
       "\n",
       "    .dataframe thead th {\n",
       "        text-align: right;\n",
       "    }\n",
       "</style>\n",
       "<table border=\"1\" class=\"dataframe\">\n",
       "  <thead>\n",
       "    <tr style=\"text-align: right;\">\n",
       "      <th></th>\n",
       "      <th>label</th>\n",
       "      <th>pixel1</th>\n",
       "      <th>pixel2</th>\n",
       "      <th>pixel3</th>\n",
       "      <th>pixel4</th>\n",
       "      <th>pixel5</th>\n",
       "      <th>pixel6</th>\n",
       "      <th>pixel7</th>\n",
       "      <th>pixel8</th>\n",
       "      <th>pixel9</th>\n",
       "      <th>...</th>\n",
       "      <th>pixel775</th>\n",
       "      <th>pixel776</th>\n",
       "      <th>pixel777</th>\n",
       "      <th>pixel778</th>\n",
       "      <th>pixel779</th>\n",
       "      <th>pixel780</th>\n",
       "      <th>pixel781</th>\n",
       "      <th>pixel782</th>\n",
       "      <th>pixel783</th>\n",
       "      <th>pixel784</th>\n",
       "    </tr>\n",
       "  </thead>\n",
       "  <tbody>\n",
       "    <tr>\n",
       "      <th>0</th>\n",
       "      <td>6</td>\n",
       "      <td>149</td>\n",
       "      <td>149</td>\n",
       "      <td>150</td>\n",
       "      <td>150</td>\n",
       "      <td>150</td>\n",
       "      <td>151</td>\n",
       "      <td>151</td>\n",
       "      <td>150</td>\n",
       "      <td>151</td>\n",
       "      <td>...</td>\n",
       "      <td>138</td>\n",
       "      <td>148</td>\n",
       "      <td>127</td>\n",
       "      <td>89</td>\n",
       "      <td>82</td>\n",
       "      <td>96</td>\n",
       "      <td>106</td>\n",
       "      <td>112</td>\n",
       "      <td>120</td>\n",
       "      <td>107</td>\n",
       "    </tr>\n",
       "    <tr>\n",
       "      <th>1</th>\n",
       "      <td>5</td>\n",
       "      <td>126</td>\n",
       "      <td>128</td>\n",
       "      <td>131</td>\n",
       "      <td>132</td>\n",
       "      <td>133</td>\n",
       "      <td>134</td>\n",
       "      <td>135</td>\n",
       "      <td>135</td>\n",
       "      <td>136</td>\n",
       "      <td>...</td>\n",
       "      <td>47</td>\n",
       "      <td>104</td>\n",
       "      <td>194</td>\n",
       "      <td>183</td>\n",
       "      <td>186</td>\n",
       "      <td>184</td>\n",
       "      <td>184</td>\n",
       "      <td>184</td>\n",
       "      <td>182</td>\n",
       "      <td>180</td>\n",
       "    </tr>\n",
       "    <tr>\n",
       "      <th>2</th>\n",
       "      <td>10</td>\n",
       "      <td>85</td>\n",
       "      <td>88</td>\n",
       "      <td>92</td>\n",
       "      <td>96</td>\n",
       "      <td>105</td>\n",
       "      <td>123</td>\n",
       "      <td>135</td>\n",
       "      <td>143</td>\n",
       "      <td>147</td>\n",
       "      <td>...</td>\n",
       "      <td>68</td>\n",
       "      <td>166</td>\n",
       "      <td>242</td>\n",
       "      <td>227</td>\n",
       "      <td>230</td>\n",
       "      <td>227</td>\n",
       "      <td>226</td>\n",
       "      <td>225</td>\n",
       "      <td>224</td>\n",
       "      <td>222</td>\n",
       "    </tr>\n",
       "    <tr>\n",
       "      <th>3</th>\n",
       "      <td>0</td>\n",
       "      <td>203</td>\n",
       "      <td>205</td>\n",
       "      <td>207</td>\n",
       "      <td>206</td>\n",
       "      <td>207</td>\n",
       "      <td>209</td>\n",
       "      <td>210</td>\n",
       "      <td>209</td>\n",
       "      <td>210</td>\n",
       "      <td>...</td>\n",
       "      <td>154</td>\n",
       "      <td>248</td>\n",
       "      <td>247</td>\n",
       "      <td>248</td>\n",
       "      <td>253</td>\n",
       "      <td>236</td>\n",
       "      <td>230</td>\n",
       "      <td>240</td>\n",
       "      <td>253</td>\n",
       "      <td>255</td>\n",
       "    </tr>\n",
       "    <tr>\n",
       "      <th>4</th>\n",
       "      <td>3</td>\n",
       "      <td>188</td>\n",
       "      <td>191</td>\n",
       "      <td>193</td>\n",
       "      <td>195</td>\n",
       "      <td>199</td>\n",
       "      <td>201</td>\n",
       "      <td>202</td>\n",
       "      <td>203</td>\n",
       "      <td>203</td>\n",
       "      <td>...</td>\n",
       "      <td>26</td>\n",
       "      <td>40</td>\n",
       "      <td>64</td>\n",
       "      <td>48</td>\n",
       "      <td>29</td>\n",
       "      <td>46</td>\n",
       "      <td>49</td>\n",
       "      <td>46</td>\n",
       "      <td>46</td>\n",
       "      <td>53</td>\n",
       "    </tr>\n",
       "  </tbody>\n",
       "</table>\n",
       "<p>5 rows × 785 columns</p>\n",
       "</div>"
      ],
      "text/plain": [
       "   label  pixel1  pixel2  pixel3  pixel4  pixel5  pixel6  pixel7  pixel8  \\\n",
       "0      6     149     149     150     150     150     151     151     150   \n",
       "1      5     126     128     131     132     133     134     135     135   \n",
       "2     10      85      88      92      96     105     123     135     143   \n",
       "3      0     203     205     207     206     207     209     210     209   \n",
       "4      3     188     191     193     195     199     201     202     203   \n",
       "\n",
       "   pixel9  ...  pixel775  pixel776  pixel777  pixel778  pixel779  pixel780  \\\n",
       "0     151  ...       138       148       127        89        82        96   \n",
       "1     136  ...        47       104       194       183       186       184   \n",
       "2     147  ...        68       166       242       227       230       227   \n",
       "3     210  ...       154       248       247       248       253       236   \n",
       "4     203  ...        26        40        64        48        29        46   \n",
       "\n",
       "   pixel781  pixel782  pixel783  pixel784  \n",
       "0       106       112       120       107  \n",
       "1       184       184       182       180  \n",
       "2       226       225       224       222  \n",
       "3       230       240       253       255  \n",
       "4        49        46        46        53  \n",
       "\n",
       "[5 rows x 785 columns]"
      ]
     },
     "execution_count": 4,
     "metadata": {},
     "output_type": "execute_result"
    }
   ],
   "source": [
    "df_test.head()"
   ]
  },
  {
   "cell_type": "code",
   "execution_count": 5,
   "metadata": {},
   "outputs": [],
   "source": [
    "# #separate labels (letter classes) from test data set\n",
    "#drop label from rest of pixels\n",
    "labels_test = df_test['label']\n",
    "df_test = df_test.drop('label',axis = 1)"
   ]
  },
  {
   "cell_type": "code",
   "execution_count": 6,
   "metadata": {},
   "outputs": [],
   "source": [
    "#convert pandas to numpy arrays\n",
    "np_test =df_test.to_numpy()\n",
    "np_train = df_train.to_numpy()\n",
    "labels_train = labels_train.to_numpy()\n",
    "labels_test = labels_test.to_numpy()"
   ]
  },
  {
   "cell_type": "code",
   "execution_count": 7,
   "metadata": {},
   "outputs": [],
   "source": [
    "# This loads in the dataset. Thankfully, TensorFlow already has methods to load this dataset\n",
    "# (x_train, y_train), (x_test, y_test) = mnist.load_data()\n",
    "\n",
    "#define target values\n",
    "y_train = labels_train\n",
    "y_test = labels_test\n",
    "\n",
    "# Normalize input values\n",
    "x_train = np_train/255. #0-1\n",
    "x_test = np_test/255.\n",
    "\n",
    "# Generate 32x32 image set for use in LeNet\n",
    "cnn_x_train = x_train.reshape(-1,28,28,1) # don't know what this 1 does\n",
    "cnn_x_test = x_test.reshape(-1,28,28,1)\n",
    "# cnn_x_train = np.pad(x_train, ((0,0),(2,2),(2,2))).reshape((-1, 32, 32, 1))\n",
    "# cnn_x_test = np.pad(x_test, ((0,0),(2,2),(2,2))).reshape((-1, 32, 32, 1))\n",
    "\n",
    "# Resize images for use in MLP\n",
    "mlp_x_train = x_train.reshape((x_train.shape[0], 784))\n",
    "mlp_x_test = x_test.reshape((x_test.shape[0], 784))"
   ]
  },
  {
   "cell_type": "code",
   "execution_count": 8,
   "metadata": {},
   "outputs": [
    {
     "data": {
      "text/plain": [
       "(27455, 784)"
      ]
     },
     "execution_count": 8,
     "metadata": {},
     "output_type": "execute_result"
    }
   ],
   "source": [
    "mlp_x_train.shape"
   ]
  },
  {
   "cell_type": "code",
   "execution_count": 9,
   "metadata": {},
   "outputs": [
    {
     "name": "stdout",
     "output_type": "stream",
     "text": [
      "WARNING:tensorflow:From /opt/conda/lib/python3.7/site-packages/tensorflow_core/python/ops/resource_variable_ops.py:1630: calling BaseResourceVariable.__init__ (from tensorflow.python.ops.resource_variable_ops) with constraint is deprecated and will be removed in a future version.\n",
      "Instructions for updating:\n",
      "If using Keras pass *_constraint arguments to layers.\n",
      "Model: \"model\"\n",
      "_________________________________________________________________\n",
      "Layer (type)                 Output Shape              Param #   \n",
      "=================================================================\n",
      "input_1 (InputLayer)         [(None, 784)]             0         \n",
      "_________________________________________________________________\n",
      "dense (Dense)                (None, 512)               401920    \n",
      "_________________________________________________________________\n",
      "dense_1 (Dense)              (None, 512)               262656    \n",
      "_________________________________________________________________\n",
      "dense_2 (Dense)              (None, 25)                12825     \n",
      "=================================================================\n",
      "Total params: 677,401\n",
      "Trainable params: 677,401\n",
      "Non-trainable params: 0\n",
      "_________________________________________________________________\n"
     ]
    }
   ],
   "source": [
    "# Implements the network using TensorFlow.Keras\n",
    "def MLPNetwork(inputDim):\n",
    "    # input layer (note that batches are already taken care of for you)\n",
    "    x = keras.Input(shape=(inputDim,))\n",
    "    \n",
    "    # subsequent dense layers\n",
    "    a1 = keras.layers.Dense(512, activation='relu')(x)\n",
    "    a2 = keras.layers.Dense(512, activation='relu')(a1)\n",
    "    \n",
    "    # classification dense layer\n",
    "    logits = keras.layers.Dense(25, activation='softmax')(a2)\n",
    "    \n",
    "    # Creates the model given the above structure\n",
    "    model = keras.Model(inputs=x, outputs=logits)\n",
    "    return model\n",
    "\n",
    "MLPmod = MLPNetwork(784)\n",
    "MLPmod.summary()"
   ]
  },
  {
   "cell_type": "code",
   "execution_count": 10,
   "metadata": {},
   "outputs": [
    {
     "name": "stdout",
     "output_type": "stream",
     "text": [
      "Train on 27455 samples\n",
      "Epoch 1/10\n",
      "27455/27455 [==============================] - 4s 129us/sample - loss: 1.5623 - acc: 0.5060\n",
      "Epoch 2/10\n",
      "27455/27455 [==============================] - 3s 100us/sample - loss: 0.5682 - acc: 0.8141\n",
      "Epoch 3/10\n",
      "27455/27455 [==============================] - 2s 84us/sample - loss: 0.2673 - acc: 0.9155\n",
      "Epoch 4/10\n",
      "27455/27455 [==============================] - 3s 92us/sample - loss: 0.1443 - acc: 0.9543\n",
      "Epoch 5/10\n",
      "27455/27455 [==============================] - 3s 104us/sample - loss: 0.1044 - acc: 0.9682\n",
      "Epoch 6/10\n",
      "27455/27455 [==============================] - 3s 104us/sample - loss: 0.1161 - acc: 0.9627\n",
      "Epoch 7/10\n",
      "27455/27455 [==============================] - 2s 90us/sample - loss: 0.0111 - acc: 0.9981\n",
      "Epoch 8/10\n",
      "27455/27455 [==============================] - 3s 97us/sample - loss: 0.1109 - acc: 0.9626\n",
      "Epoch 9/10\n",
      "27455/27455 [==============================] - 3s 94us/sample - loss: 0.0523 - acc: 0.9842\n",
      "Epoch 10/10\n",
      "27455/27455 [==============================] - 3s 99us/sample - loss: 0.0420 - acc: 0.9872\n"
     ]
    }
   ],
   "source": [
    "# Sets up optimizer\n",
    "opt = keras.optimizers.Adam(learning_rate=0.001)\n",
    "MLPmod.compile(optimizer=opt, loss='sparse_categorical_crossentropy', metrics=['accuracy'])\n",
    "\n",
    "# The callback forces the network to train until it reaches 100% accuracy\n",
    "hist = MLPmod.fit(mlp_x_train, y_train, epochs=10, shuffle=True)"
   ]
  },
  {
   "cell_type": "code",
   "execution_count": 12,
   "metadata": {},
   "outputs": [
    {
     "name": "stdout",
     "output_type": "stream",
     "text": [
      "7172/7172 [==============================] - 0s 60us/sample - loss: 0.8379 - acc: 0.8345\n",
      "Test accuracy for this model is 0.8344952464103699\n"
     ]
    }
   ],
   "source": [
    "# Evaluate the trained network on the testing dataset\n",
    "testLoss, testAcc = MLPmod.evaluate(mlp_x_test, y_test)\n",
    "print(\"Test accuracy for this model is {}\".format(testAcc))"
   ]
  },
  {
   "cell_type": "code",
   "execution_count": 9,
   "metadata": {},
   "outputs": [
    {
     "name": "stdout",
     "output_type": "stream",
     "text": [
      "WARNING:tensorflow:From /opt/conda/lib/python3.7/site-packages/tensorflow_core/python/ops/resource_variable_ops.py:1630: calling BaseResourceVariable.__init__ (from tensorflow.python.ops.resource_variable_ops) with constraint is deprecated and will be removed in a future version.\n",
      "Instructions for updating:\n",
      "If using Keras pass *_constraint arguments to layers.\n",
      "Model: \"model\"\n",
      "_________________________________________________________________\n",
      "Layer (type)                 Output Shape              Param #   \n",
      "=================================================================\n",
      "input_1 (InputLayer)         [(None, 28, 28, 1)]       0         \n",
      "_________________________________________________________________\n",
      "conv2d (Conv2D)              (None, 24, 24, 6)         156       \n",
      "_________________________________________________________________\n",
      "average_pooling2d (AveragePo (None, 12, 12, 6)         0         \n",
      "_________________________________________________________________\n",
      "conv2d_1 (Conv2D)            (None, 8, 8, 16)          2416      \n",
      "_________________________________________________________________\n",
      "average_pooling2d_1 (Average (None, 4, 4, 16)          0         \n",
      "_________________________________________________________________\n",
      "flatten (Flatten)            (None, 256)               0         \n",
      "_________________________________________________________________\n",
      "dense (Dense)                (None, 120)               30840     \n",
      "_________________________________________________________________\n",
      "dense_1 (Dense)              (None, 84)                10164     \n",
      "_________________________________________________________________\n",
      "prelogits (Dense)            (None, 25)                2125      \n",
      "_________________________________________________________________\n",
      "logits (Activation)          (None, 25)                0         \n",
      "=================================================================\n",
      "Total params: 45,701\n",
      "Trainable params: 45,701\n",
      "Non-trainable params: 0\n",
      "_________________________________________________________________\n"
     ]
    }
   ],
   "source": [
    "# Creates the model within this function\n",
    "def LeNet():\n",
    "    # input\n",
    "    xIn = keras.Input(shape=(28,28,1))\n",
    "    \n",
    "    # subsequent layers\n",
    "    out = keras.layers.Conv2D(6, 5, activation='relu')(xIn)\n",
    "    out = keras.layers.AveragePooling2D(2, 2)(out)\n",
    "    #dropout 1 \n",
    "    out = keras.layers.Conv2D(16, 5, activation='relu')(out)\n",
    "    out = keras.layers.AveragePooling2D(2, 2)(out)\n",
    "    # dropout 2\n",
    "    #extra convolution and dropout?\n",
    "    out = keras.layers.Flatten()(out)\n",
    "    out = keras.layers.Dense(120, activation='relu')(out)\n",
    "    out = keras.layers.Dense(84, activation='relu')(out)\n",
    "    out = keras.layers.Dense(25, name='prelogits')(out)  # more on this later\n",
    "    out = keras.layers.Activation('softmax', name='logits')(out)\n",
    "    \n",
    "    # Creates model\n",
    "    mod = keras.Model(inputs=xIn, outputs=out) #access loss?\n",
    "    \n",
    "    return mod\n",
    "\n",
    "# Declares the model and prepares it for training\n",
    "LeNetMod = LeNet()\n",
    "opt = keras.optimizers.Adam()\n",
    "LeNetMod.compile(optimizer=opt, loss='sparse_categorical_crossentropy', metrics=['accuracy']) #balanced error rate(FP, recall certain classes)\n",
    "LeNetMod.summary()"
   ]
  },
  {
   "cell_type": "code",
   "execution_count": 10,
   "metadata": {},
   "outputs": [
    {
     "name": "stdout",
     "output_type": "stream",
     "text": [
      "Train on 20591 samples, validate on 6864 samples\n",
      "Epoch 1/20\n",
      "20591/20591 [==============================] - 5s 224us/sample - loss: 1.7798 - acc: 0.4552 - val_loss: 0.9184 - val_acc: 0.7161\n",
      "Epoch 2/20\n",
      "20591/20591 [==============================] - 2s 107us/sample - loss: 0.6103 - acc: 0.8032 - val_loss: 0.3525 - val_acc: 0.8874\n",
      "Epoch 3/20\n",
      "20591/20591 [==============================] - 2s 100us/sample - loss: 0.2403 - acc: 0.9278 - val_loss: 0.1535 - val_acc: 0.9516\n",
      "Epoch 4/20\n",
      "20591/20591 [==============================] - 2s 108us/sample - loss: 0.1210 - acc: 0.9661 - val_loss: 0.0740 - val_acc: 0.9825\n",
      "Epoch 5/20\n",
      "20591/20591 [==============================] - 2s 112us/sample - loss: 0.0498 - acc: 0.9896 - val_loss: 0.0245 - val_acc: 0.9964\n",
      "Epoch 6/20\n",
      "20591/20591 [==============================] - 2s 102us/sample - loss: 0.0419 - acc: 0.9898 - val_loss: 0.0268 - val_acc: 0.9936\n",
      "Epoch 7/20\n",
      "20591/20591 [==============================] - 2s 100us/sample - loss: 0.0241 - acc: 0.9948 - val_loss: 0.0655 - val_acc: 0.9787\n",
      "Epoch 8/20\n",
      "20591/20591 [==============================] - 2s 100us/sample - loss: 0.0197 - acc: 0.9953 - val_loss: 0.0081 - val_acc: 0.9994\n",
      "Epoch 9/20\n",
      "20591/20591 [==============================] - 2s 98us/sample - loss: 0.0329 - acc: 0.9903 - val_loss: 0.2414 - val_acc: 0.9289\n",
      "Epoch 10/20\n",
      "20591/20591 [==============================] - 2s 93us/sample - loss: 0.0172 - acc: 0.9949 - val_loss: 0.0016 - val_acc: 1.0000\n",
      "Epoch 11/20\n",
      "20591/20591 [==============================] - 2s 90us/sample - loss: 0.0010 - acc: 1.0000 - val_loss: 0.0013 - val_acc: 1.0000\n",
      "Epoch 12/20\n",
      "20591/20591 [==============================] - 2s 95us/sample - loss: 8.3974e-04 - acc: 1.0000 - val_loss: 6.8036e-04 - val_acc: 1.0000\n",
      "Epoch 13/20\n",
      "20591/20591 [==============================] - 2s 96us/sample - loss: 5.6826e-04 - acc: 1.0000 - val_loss: 5.1613e-04 - val_acc: 1.0000\n",
      "Epoch 14/20\n",
      "20591/20591 [==============================] - 2s 92us/sample - loss: 0.0593 - acc: 0.9801 - val_loss: 0.0496 - val_acc: 0.9808\n",
      "Epoch 15/20\n",
      "20591/20591 [==============================] - 2s 98us/sample - loss: 0.0094 - acc: 0.9975 - val_loss: 8.0796e-04 - val_acc: 1.0000\n",
      "Epoch 16/20\n",
      "20591/20591 [==============================] - 2s 98us/sample - loss: 6.7672e-04 - acc: 1.0000 - val_loss: 5.0719e-04 - val_acc: 1.0000\n",
      "Epoch 17/20\n",
      "20591/20591 [==============================] - 2s 110us/sample - loss: 3.9315e-04 - acc: 1.0000 - val_loss: 3.7013e-04 - val_acc: 1.0000\n",
      "Epoch 18/20\n",
      "20591/20591 [==============================] - 2s 95us/sample - loss: 2.8289e-04 - acc: 1.0000 - val_loss: 2.8652e-04 - val_acc: 1.0000\n",
      "Epoch 19/20\n",
      "20591/20591 [==============================] - 2s 98us/sample - loss: 2.2465e-04 - acc: 1.0000 - val_loss: 2.2417e-04 - val_acc: 1.0000\n",
      "Epoch 20/20\n",
      "20591/20591 [==============================] - 2s 102us/sample - loss: 0.0273 - acc: 0.9926 - val_loss: 0.2057 - val_acc: 0.9312\n"
     ]
    }
   ],
   "source": [
    "from tensorflow.keras.callbacks import History\n",
    "history = History()\n",
    "# Trains the network using mini-batch learning\n",
    "cnnHist = LeNetMod.fit(cnn_x_train, y_train, validation_split = 0.25, \n",
    "                       batch_size=50, epochs=20, shuffle=True, callbacks = [history])"
   ]
  },
  {
   "cell_type": "code",
   "execution_count": 13,
   "metadata": {},
   "outputs": [
    {
     "data": {
      "text/plain": [
       "<matplotlib.legend.Legend at 0x7f41d5aaf890>"
      ]
     },
     "execution_count": 13,
     "metadata": {},
     "output_type": "execute_result"
    },
    {
     "data": {
      "image/png": "[encoded data removed]",
      "text/plain": [
       "<Figure size 432x288 with 1 Axes>"
      ]
     },
     "metadata": {
      "needs_background": "light"
     },
     "output_type": "display_data"
    }
   ],
   "source": [
    "cnnHist.history# training loss\n",
    "a = cnnHist.history['loss']\n",
    "b = cnnHist.history['val_loss']\n",
    "plt.plot(range(len(a)),a)\n",
    "plt.plot(range(len(b)),b)\n",
    "plt.xlabel('Epochs')\n",
    "plt.ylabel('Loss')\n",
    "plt.legend(['Loss','Validation Loss'])"
   ]
  },
  {
   "cell_type": "code",
   "execution_count": 14,
   "metadata": {},
   "outputs": [
    {
     "name": "stdout",
     "output_type": "stream",
     "text": [
      "7172/7172 [==============================] - 0s 64us/sample - loss: 0.9761 - acc: 0.7663\n",
      "Test accuracy for this model is 0.7663134336471558\n"
     ]
    }
   ],
   "source": [
    "# Evaluate the trained network on the testing dataset\n",
    "testLoss, testAcc = LeNetMod.evaluate(cnn_x_test, y_test)\n",
    "print(\"Test accuracy for this model is {}\".format(testAcc))"
   ]
  },
  {
   "cell_type": "code",
   "execution_count": 15,
   "metadata": {},
   "outputs": [
    {
     "data": {
      "text/plain": [
       "Text(0.5, 1.0, 'Number 20 classified as 17')"
      ]
     },
     "execution_count": 15,
     "metadata": {},
     "output_type": "execute_result"
    },
    {
     "data": {
      "image/png": "[encoded data removed]",
      "text/plain": [
       "<Figure size 432x288 with 1 Axes>"
      ]
     },
     "metadata": {
      "needs_background": "light"
     },
     "output_type": "display_data"
    }
   ],
   "source": [
    "# Plot an incorrect value...\n",
    "preds = LeNetMod.predict(cnn_x_test)\n",
    "preds = np.argmax(preds, axis=1)\n",
    "incorrectPreds = np.argwhere(preds != y_test)\n",
    "randIncInd = np.random.choice(incorrectPreds.reshape(-1))\n",
    "plt.imshow(cnn_x_test[randIncInd].reshape(28,28), cmap = 'gray')\n",
    "plt.title(\"Number {} classified as {}\".format(y_test[randIncInd], preds[randIncInd]))"
   ]
  },
  {
   "cell_type": "code",
   "execution_count": 31,
   "metadata": {},
   "outputs": [
    {
     "data": {
      "text/plain": [
       "Text(95.72222222222221, 0.5, 'Actual')"
      ]
     },
     "execution_count": 31,
     "metadata": {},
     "output_type": "execute_result"
    },
    {
     "data": {
      "image/png": "[encoded data removed]",
      "text/plain": [
       "<Figure size 1000x1000 with 2 Axes>"
      ]
     },
     "metadata": {
      "needs_background": "light"
     },
     "output_type": "display_data"
    }
   ],
   "source": [
    "from sklearn.metrics import confusion_matrix\n",
    "from seaborn import heatmap\n",
    "\n",
    "conMat = confusion_matrix(y_test, preds)\n",
    "plt.figure(figsize=(10,10), dpi=100)\n",
    "heatmap(conMat/np.sum(conMat,axis=1), annot=True, annot_kws={\"size\": 5}, fmt='.2%', cmap='Blues')\n",
    "plt.title(\"Confusion Matrix\")\n",
    "plt.xlabel(\"Predicted\")\n",
    "plt.ylabel(\"Actual\")"
   ]
  },
  {
   "cell_type": "markdown",
   "metadata": {},
   "source": [
    "### Improvements 4-24\n",
    "\n",
    "- add layers/architecture (available layers in tensorflow) dropout could be helpful\n",
    "- dropout used in FNN, fully connected to delete certain weights (helps to generalize better)\n",
    "- add penalty to certain classes e.g 16 is 42% incorrect, give greater weight to certain class\n",
    "- data augmentation (rotate image, resizing)\n",
    "- test different optimizer (SGD) and test different loss function (categorical cross entropy)\n",
    "- .ImageDataGenerator??? rotates pictures?\n",
    "- hyperparameters to consider: batch size, epochs, learning rate, kernel size, activation functions?"
   ]
  },
  {
   "cell_type": "markdown",
   "metadata": {},
   "source": [
    "### Code from original notebook to show visualization of class spread and display random images\n",
    "- include subplots for a few random images?"
   ]
  },
  {
   "cell_type": "code",
   "execution_count": 17,
   "metadata": {},
   "outputs": [
    {
     "ename": "KeyError",
     "evalue": "'label'",
     "output_type": "error",
     "traceback": [
      "\u001b[0;31m---------------------------------------------------------------------------\u001b[0m",
      "\u001b[0;31mKeyError\u001b[0m                                  Traceback (most recent call last)",
      "\u001b[0;32m/opt/conda/lib/python3.7/site-packages/pandas/core/indexes/base.py\u001b[0m in \u001b[0;36mget_loc\u001b[0;34m(self, key, method, tolerance)\u001b[0m\n\u001b[1;32m   2894\u001b[0m             \u001b[0;32mtry\u001b[0m\u001b[0;34m:\u001b[0m\u001b[0;34m\u001b[0m\u001b[0;34m\u001b[0m\u001b[0m\n\u001b[0;32m-> 2895\u001b[0;31m                 \u001b[0;32mreturn\u001b[0m \u001b[0mself\u001b[0m\u001b[0;34m.\u001b[0m\u001b[0m_engine\u001b[0m\u001b[0;34m.\u001b[0m\u001b[0mget_loc\u001b[0m\u001b[0;34m(\u001b[0m\u001b[0mcasted_key\u001b[0m\u001b[0;34m)\u001b[0m\u001b[0;34m\u001b[0m\u001b[0;34m\u001b[0m\u001b[0m\n\u001b[0m\u001b[1;32m   2896\u001b[0m             \u001b[0;32mexcept\u001b[0m \u001b[0mKeyError\u001b[0m \u001b[0;32mas\u001b[0m \u001b[0merr\u001b[0m\u001b[0;34m:\u001b[0m\u001b[0;34m\u001b[0m\u001b[0;34m\u001b[0m\u001b[0m\n",
      "\u001b[0;32mpandas/_libs/index.pyx\u001b[0m in \u001b[0;36mpandas._libs.index.IndexEngine.get_loc\u001b[0;34m()\u001b[0m\n",
      "\u001b[0;32mpandas/_libs/index.pyx\u001b[0m in \u001b[0;36mpandas._libs.index.IndexEngine.get_loc\u001b[0;34m()\u001b[0m\n",
      "\u001b[0;32mpandas/_libs/hashtable_class_helper.pxi\u001b[0m in \u001b[0;36mpandas._libs.hashtable.PyObjectHashTable.get_item\u001b[0;34m()\u001b[0m\n",
      "\u001b[0;32mpandas/_libs/hashtable_class_helper.pxi\u001b[0m in \u001b[0;36mpandas._libs.hashtable.PyObjectHashTable.get_item\u001b[0;34m()\u001b[0m\n",
      "\u001b[0;31mKeyError\u001b[0m: 'label'",
      "\nThe above exception was the direct cause of the following exception:\n",
      "\u001b[0;31mKeyError\u001b[0m                                  Traceback (most recent call last)",
      "\u001b[0;32m<ipython-input-17-4d43e908fdd6>\u001b[0m in \u001b[0;36m<module>\u001b[0;34m\u001b[0m\n\u001b[1;32m      1\u001b[0m \u001b[0;31m#separate labels (letter classes) from training data set\u001b[0m\u001b[0;34m\u001b[0m\u001b[0;34m\u001b[0m\u001b[0;34m\u001b[0m\u001b[0m\n\u001b[1;32m      2\u001b[0m \u001b[0;31m#drop label from rest of pixels\u001b[0m\u001b[0;34m\u001b[0m\u001b[0;34m\u001b[0m\u001b[0;34m\u001b[0m\u001b[0m\n\u001b[0;32m----> 3\u001b[0;31m \u001b[0mlabels_train\u001b[0m \u001b[0;34m=\u001b[0m \u001b[0mdf_train\u001b[0m\u001b[0;34m[\u001b[0m\u001b[0;34m'label'\u001b[0m\u001b[0;34m]\u001b[0m\u001b[0;34m\u001b[0m\u001b[0;34m\u001b[0m\u001b[0m\n\u001b[0m\u001b[1;32m      4\u001b[0m \u001b[0mdf_train\u001b[0m \u001b[0;34m=\u001b[0m \u001b[0mdf_train\u001b[0m\u001b[0;34m.\u001b[0m\u001b[0mdrop\u001b[0m\u001b[0;34m(\u001b[0m\u001b[0;34m'label'\u001b[0m\u001b[0;34m,\u001b[0m\u001b[0maxis\u001b[0m \u001b[0;34m=\u001b[0m \u001b[0;36m1\u001b[0m\u001b[0;34m)\u001b[0m\u001b[0;34m\u001b[0m\u001b[0;34m\u001b[0m\u001b[0m\n\u001b[1;32m      5\u001b[0m \u001b[0;31m# #separate labels (letter classes) from test data set\u001b[0m\u001b[0;34m\u001b[0m\u001b[0;34m\u001b[0m\u001b[0;34m\u001b[0m\u001b[0m\n",
      "\u001b[0;32m/opt/conda/lib/python3.7/site-packages/pandas/core/frame.py\u001b[0m in \u001b[0;36m__getitem__\u001b[0;34m(self, key)\u001b[0m\n\u001b[1;32m   2904\u001b[0m             \u001b[0;32mif\u001b[0m \u001b[0mself\u001b[0m\u001b[0;34m.\u001b[0m\u001b[0mcolumns\u001b[0m\u001b[0;34m.\u001b[0m\u001b[0mnlevels\u001b[0m \u001b[0;34m>\u001b[0m \u001b[0;36m1\u001b[0m\u001b[0;34m:\u001b[0m\u001b[0;34m\u001b[0m\u001b[0;34m\u001b[0m\u001b[0m\n\u001b[1;32m   2905\u001b[0m                 \u001b[0;32mreturn\u001b[0m \u001b[0mself\u001b[0m\u001b[0;34m.\u001b[0m\u001b[0m_getitem_multilevel\u001b[0m\u001b[0;34m(\u001b[0m\u001b[0mkey\u001b[0m\u001b[0;34m)\u001b[0m\u001b[0;34m\u001b[0m\u001b[0;34m\u001b[0m\u001b[0m\n\u001b[0;32m-> 2906\u001b[0;31m             \u001b[0mindexer\u001b[0m \u001b[0;34m=\u001b[0m \u001b[0mself\u001b[0m\u001b[0;34m.\u001b[0m\u001b[0mcolumns\u001b[0m\u001b[0;34m.\u001b[0m\u001b[0mget_loc\u001b[0m\u001b[0;34m(\u001b[0m\u001b[0mkey\u001b[0m\u001b[0;34m)\u001b[0m\u001b[0;34m\u001b[0m\u001b[0;34m\u001b[0m\u001b[0m\n\u001b[0m\u001b[1;32m   2907\u001b[0m             \u001b[0;32mif\u001b[0m \u001b[0mis_integer\u001b[0m\u001b[0;34m(\u001b[0m\u001b[0mindexer\u001b[0m\u001b[0;34m)\u001b[0m\u001b[0;34m:\u001b[0m\u001b[0;34m\u001b[0m\u001b[0;34m\u001b[0m\u001b[0m\n\u001b[1;32m   2908\u001b[0m                 \u001b[0mindexer\u001b[0m \u001b[0;34m=\u001b[0m \u001b[0;34m[\u001b[0m\u001b[0mindexer\u001b[0m\u001b[0;34m]\u001b[0m\u001b[0;34m\u001b[0m\u001b[0;34m\u001b[0m\u001b[0m\n",
      "\u001b[0;32m/opt/conda/lib/python3.7/site-packages/pandas/core/indexes/base.py\u001b[0m in \u001b[0;36mget_loc\u001b[0;34m(self, key, method, tolerance)\u001b[0m\n\u001b[1;32m   2895\u001b[0m                 \u001b[0;32mreturn\u001b[0m \u001b[0mself\u001b[0m\u001b[0;34m.\u001b[0m\u001b[0m_engine\u001b[0m\u001b[0;34m.\u001b[0m\u001b[0mget_loc\u001b[0m\u001b[0;34m(\u001b[0m\u001b[0mcasted_key\u001b[0m\u001b[0;34m)\u001b[0m\u001b[0;34m\u001b[0m\u001b[0;34m\u001b[0m\u001b[0m\n\u001b[1;32m   2896\u001b[0m             \u001b[0;32mexcept\u001b[0m \u001b[0mKeyError\u001b[0m \u001b[0;32mas\u001b[0m \u001b[0merr\u001b[0m\u001b[0;34m:\u001b[0m\u001b[0;34m\u001b[0m\u001b[0;34m\u001b[0m\u001b[0m\n\u001b[0;32m-> 2897\u001b[0;31m                 \u001b[0;32mraise\u001b[0m \u001b[0mKeyError\u001b[0m\u001b[0;34m(\u001b[0m\u001b[0mkey\u001b[0m\u001b[0;34m)\u001b[0m \u001b[0;32mfrom\u001b[0m \u001b[0merr\u001b[0m\u001b[0;34m\u001b[0m\u001b[0;34m\u001b[0m\u001b[0m\n\u001b[0m\u001b[1;32m   2898\u001b[0m \u001b[0;34m\u001b[0m\u001b[0m\n\u001b[1;32m   2899\u001b[0m         \u001b[0;32mif\u001b[0m \u001b[0mtolerance\u001b[0m \u001b[0;32mis\u001b[0m \u001b[0;32mnot\u001b[0m \u001b[0;32mNone\u001b[0m\u001b[0;34m:\u001b[0m\u001b[0;34m\u001b[0m\u001b[0;34m\u001b[0m\u001b[0m\n",
      "\u001b[0;31mKeyError\u001b[0m: 'label'"
     ]
    }
   ],
   "source": [
    "#separate labels (letter classes) from training data set\n",
    "#drop label from rest of pixels\n",
    "labels_train = df_train['label']\n",
    "df_train = df_train.drop('label',axis = 1)\n",
    "# #separate labels (letter classes) from test data set\n",
    "#drop label from rest of pixels\n",
    "labels_test = df_test['label']\n",
    "df_test = df_test.drop('label',axis = 1)"
   ]
  },
  {
   "cell_type": "code",
   "execution_count": 18,
   "metadata": {},
   "outputs": [
    {
     "ename": "TypeError",
     "evalue": "cannot concatenate object of type '<class 'numpy.ndarray'>'; only Series and DataFrame objs are valid",
     "output_type": "error",
     "traceback": [
      "\u001b[0;31m---------------------------------------------------------------------------\u001b[0m",
      "\u001b[0;31mTypeError\u001b[0m                                 Traceback (most recent call last)",
      "\u001b[0;32m<ipython-input-18-fc31ceb71237>\u001b[0m in \u001b[0;36m<module>\u001b[0;34m\u001b[0m\n\u001b[1;32m      1\u001b[0m \u001b[0;31m# create dataframe with all labels to make a bargraph\u001b[0m\u001b[0;34m\u001b[0m\u001b[0;34m\u001b[0m\u001b[0;34m\u001b[0m\u001b[0m\n\u001b[1;32m      2\u001b[0m \u001b[0mframes\u001b[0m \u001b[0;34m=\u001b[0m \u001b[0;34m[\u001b[0m\u001b[0mlabels_train\u001b[0m\u001b[0;34m,\u001b[0m\u001b[0mlabels_test\u001b[0m\u001b[0;34m]\u001b[0m\u001b[0;34m\u001b[0m\u001b[0;34m\u001b[0m\u001b[0m\n\u001b[0;32m----> 3\u001b[0;31m \u001b[0mdf_all_labels\u001b[0m \u001b[0;34m=\u001b[0m \u001b[0mpd\u001b[0m\u001b[0;34m.\u001b[0m\u001b[0mconcat\u001b[0m\u001b[0;34m(\u001b[0m\u001b[0mframes\u001b[0m\u001b[0;34m)\u001b[0m\u001b[0;34m\u001b[0m\u001b[0;34m\u001b[0m\u001b[0m\n\u001b[0m\u001b[1;32m      4\u001b[0m \u001b[0mprint\u001b[0m\u001b[0;34m(\u001b[0m\u001b[0mdf_all_labels\u001b[0m\u001b[0;34m.\u001b[0m\u001b[0mshape\u001b[0m\u001b[0;34m)\u001b[0m\u001b[0;34m\u001b[0m\u001b[0;34m\u001b[0m\u001b[0m\n\u001b[1;32m      5\u001b[0m \u001b[0mdf_all_labels\u001b[0m\u001b[0;34m.\u001b[0m\u001b[0mhead\u001b[0m\u001b[0;34m(\u001b[0m\u001b[0;34m)\u001b[0m\u001b[0;34m\u001b[0m\u001b[0;34m\u001b[0m\u001b[0m\n",
      "\u001b[0;32m/opt/conda/lib/python3.7/site-packages/pandas/core/reshape/concat.py\u001b[0m in \u001b[0;36mconcat\u001b[0;34m(objs, axis, join, ignore_index, keys, levels, names, verify_integrity, sort, copy)\u001b[0m\n\u001b[1;32m    282\u001b[0m         \u001b[0mverify_integrity\u001b[0m\u001b[0;34m=\u001b[0m\u001b[0mverify_integrity\u001b[0m\u001b[0;34m,\u001b[0m\u001b[0;34m\u001b[0m\u001b[0;34m\u001b[0m\u001b[0m\n\u001b[1;32m    283\u001b[0m         \u001b[0mcopy\u001b[0m\u001b[0;34m=\u001b[0m\u001b[0mcopy\u001b[0m\u001b[0;34m,\u001b[0m\u001b[0;34m\u001b[0m\u001b[0;34m\u001b[0m\u001b[0m\n\u001b[0;32m--> 284\u001b[0;31m         \u001b[0msort\u001b[0m\u001b[0;34m=\u001b[0m\u001b[0msort\u001b[0m\u001b[0;34m,\u001b[0m\u001b[0;34m\u001b[0m\u001b[0;34m\u001b[0m\u001b[0m\n\u001b[0m\u001b[1;32m    285\u001b[0m     )\n\u001b[1;32m    286\u001b[0m \u001b[0;34m\u001b[0m\u001b[0m\n",
      "\u001b[0;32m/opt/conda/lib/python3.7/site-packages/pandas/core/reshape/concat.py\u001b[0m in \u001b[0;36m__init__\u001b[0;34m(self, objs, axis, join, keys, levels, names, ignore_index, verify_integrity, copy, sort)\u001b[0m\n\u001b[1;32m    357\u001b[0m                     \u001b[0;34m\"only Series and DataFrame objs are valid\"\u001b[0m\u001b[0;34m\u001b[0m\u001b[0;34m\u001b[0m\u001b[0m\n\u001b[1;32m    358\u001b[0m                 )\n\u001b[0;32m--> 359\u001b[0;31m                 \u001b[0;32mraise\u001b[0m \u001b[0mTypeError\u001b[0m\u001b[0;34m(\u001b[0m\u001b[0mmsg\u001b[0m\u001b[0;34m)\u001b[0m\u001b[0;34m\u001b[0m\u001b[0;34m\u001b[0m\u001b[0m\n\u001b[0m\u001b[1;32m    360\u001b[0m \u001b[0;34m\u001b[0m\u001b[0m\n\u001b[1;32m    361\u001b[0m             \u001b[0;31m# consolidate\u001b[0m\u001b[0;34m\u001b[0m\u001b[0;34m\u001b[0m\u001b[0;34m\u001b[0m\u001b[0m\n",
      "\u001b[0;31mTypeError\u001b[0m: cannot concatenate object of type '<class 'numpy.ndarray'>'; only Series and DataFrame objs are valid"
     ]
    }
   ],
   "source": [
    "# create dataframe with all labels to make a bargraph\n",
    "frames = [labels_train,labels_test]\n",
    "df_all_labels = pd.concat(frames)\n",
    "print(df_all_labels.shape)\n",
    "df_all_labels.head()"
   ]
  },
  {
   "cell_type": "code",
   "execution_count": 16,
   "metadata": {},
   "outputs": [
    {
     "ename": "NameError",
     "evalue": "name 'df_all_labels' is not defined",
     "output_type": "error",
     "traceback": [
      "\u001b[0;31m---------------------------------------------------------------------------\u001b[0m",
      "\u001b[0;31mNameError\u001b[0m                                 Traceback (most recent call last)",
      "\u001b[0;32m<ipython-input-16-ef2e5eb46820>\u001b[0m in \u001b[0;36m<module>\u001b[0;34m\u001b[0m\n\u001b[1;32m      3\u001b[0m \u001b[0;34m'''Want to change so that 0,1,2,3 etc reads A,B,C,D etc'''\u001b[0m\u001b[0;34m\u001b[0m\u001b[0;34m\u001b[0m\u001b[0m\n\u001b[1;32m      4\u001b[0m \u001b[0;34m\u001b[0m\u001b[0m\n\u001b[0;32m----> 5\u001b[0;31m \u001b[0max\u001b[0m \u001b[0;34m=\u001b[0m \u001b[0msns\u001b[0m\u001b[0;34m.\u001b[0m\u001b[0mbarplot\u001b[0m\u001b[0;34m(\u001b[0m\u001b[0mx\u001b[0m\u001b[0;34m=\u001b[0m\u001b[0mdf_all_labels\u001b[0m\u001b[0;34m.\u001b[0m\u001b[0mvalue_counts\u001b[0m\u001b[0;34m(\u001b[0m\u001b[0;34m)\u001b[0m\u001b[0;34m.\u001b[0m\u001b[0mindex\u001b[0m\u001b[0;34m,\u001b[0m \u001b[0my\u001b[0m\u001b[0;34m=\u001b[0m\u001b[0mdf_all_labels\u001b[0m\u001b[0;34m.\u001b[0m\u001b[0mvalue_counts\u001b[0m\u001b[0;34m(\u001b[0m\u001b[0;34m)\u001b[0m\u001b[0;34m)\u001b[0m\u001b[0;34m\u001b[0m\u001b[0;34m\u001b[0m\u001b[0m\n\u001b[0m\u001b[1;32m      6\u001b[0m \u001b[0max\u001b[0m\u001b[0;34m.\u001b[0m\u001b[0mset\u001b[0m\u001b[0;34m(\u001b[0m\u001b[0mylabel\u001b[0m \u001b[0;34m=\u001b[0m \u001b[0;34m'# counts'\u001b[0m\u001b[0;34m,\u001b[0m \u001b[0mxlabel\u001b[0m \u001b[0;34m=\u001b[0m \u001b[0;34m'Alphabet Letters'\u001b[0m \u001b[0;34m)\u001b[0m\u001b[0;34m\u001b[0m\u001b[0;34m\u001b[0m\u001b[0m\n",
      "\u001b[0;31mNameError\u001b[0m: name 'df_all_labels' is not defined"
     ]
    }
   ],
   "source": [
    "import seaborn as sns\n",
    "# create a bar graph with number of each labels\n",
    "'''Want to change so that 0,1,2,3 etc reads A,B,C,D etc'''\n",
    "\n",
    "ax = sns.barplot(x=df_all_labels.value_counts().index, y=df_all_labels.value_counts())\n",
    "ax.set(ylabel = '# counts', xlabel = 'Alphabet Letters' )"
   ]
  },
  {
   "cell_type": "code",
   "execution_count": 19,
   "metadata": {},
   "outputs": [],
   "source": [
    "# convert pandas df to numpy array and reshape into 28x28 array as prep for picture\n",
    "''' only relevant for following cell with random image display'''\n",
    "\n",
    "np_train = df_train.to_numpy() #training dataset\n",
    "np_train = np_train.reshape(np_train.shape[0],28,28)\n",
    "np_test = df_test.to_numpy() # testing dataset\n",
    "np_test = np_test.reshape(np_test.shape[0],28,28)"
   ]
  },
  {
   "cell_type": "code",
   "execution_count": 25,
   "metadata": {},
   "outputs": [
    {
     "data": {
      "text/plain": [
       "Text(0.5, 0, '22')"
      ]
     },
     "execution_count": 25,
     "metadata": {},
     "output_type": "execute_result"
    },
    {
     "data": {
      "image/png": "[encoded data removed]",
      "text/plain": [
       "<Figure size 432x288 with 1 Axes>"
      ]
     },
     "metadata": {
      "needs_background": "light"
     },
     "output_type": "display_data"
    }
   ],
   "source": [
    "import random\n",
    "#show random image\n",
    "random_image = random.randint(0,len(np_train))\n",
    "plt.imshow(np_train[random_image], cmap = 'gray')\n",
    "plt.title(f\"Training Example #{random_image}\")\n",
    "plt.xlabel(labels_train[random_image]) #xlabel = letter of alphabet"
   ]
  },
  {
   "cell_type": "code",
   "execution_count": 29,
   "metadata": {},
   "outputs": [
    {
     "data": {
      "image/png": "[encoded data removed]",
      "text/plain": [
       "<Figure size 648x504 with 6 Axes>"
      ]
     },
     "metadata": {
      "needs_background": "light"
     },
     "output_type": "display_data"
    }
   ],
   "source": [
    "plt.figure(figsize=(9,7))\n",
    "for i in range(6):\n",
    "    plt.subplot(2,3,i+1)\n",
    "    randindex = random.randint(0,len(np_train))\n",
    "    plt.imshow(np_train[randindex],cmap='gray')\n",
    "    plt.xlabel(y_train[randindex])\n",
    "    \n",
    "plt.show()"
   ]
  },
  {
   "cell_type": "markdown",
   "metadata": {},
   "source": [
    "## 4/24/21 Improvements\n",
    "- add layers/architecture (available layers in tensorflow) dropout could be helpful\n",
    "- dropout used in FNN, fully connected to delete certain weights (helps to generalize better)\n",
    "- add penalty to certain classes e.g 16 is 42% incorrect, give greater weight to certain class\n",
    "- data augmentation (rotate image, resizing)\n",
    "- convert numbers to A-Z for readability"
   ]
  },
  {
   "cell_type": "markdown",
   "metadata": {},
   "source": [
    "## Implement VGG16 Architecture\n",
    "- LeNet may be overfitting as training acc is 100% and test acc is 86%"
   ]
  },
  {
   "cell_type": "code",
   "execution_count": 136,
   "metadata": {},
   "outputs": [],
   "source": [
    "# vgg = tf.keras.applications.vgg16.VGG16(\n",
    "#     include_top=True, weights= None, input_tensor=None,\n",
    "#     input_shape=None, pooling=None, classes=1000,\n",
    "#     classifier_activation='softmax')"
   ]
  },
  {
   "cell_type": "code",
   "execution_count": null,
   "metadata": {},
   "outputs": [],
   "source": []
  },
  {
   "cell_type": "code",
   "execution_count": 53,
   "metadata": {},
   "outputs": [],
   "source": [
    "#vggmod = keras.applications.vgg16.VGG16(include_top = False, input_shape = (28,28,3))"
   ]
  },
  {
   "cell_type": "code",
   "execution_count": 75,
   "metadata": {},
   "outputs": [],
   "source": [
    "# opt = keras.optimizers.Adam()\n",
    "# vggmod.compile(optimizer=opt, loss='sparse_categorical_crossentropy', metrics=['accuracy'])\n",
    "# vggmod.summary()"
   ]
  },
  {
   "cell_type": "code",
   "execution_count": 76,
   "metadata": {},
   "outputs": [],
   "source": [
    "# cnn_vgg_hist = vggmod.fit(cnn_x_train, y_train, validation_split = 0.25, \n",
    "#                        batch_size=128, epochs=5, shuffle=True, callbacks = [history])"
   ]
  },
  {
   "cell_type": "markdown",
   "metadata": {},
   "source": [
    "### Data augmentation\n",
    "from keras.preprocessing.image import ImageDataGenerator\n",
    "datagen = ImageDataGenerator(\n",
    "        featurewise_center=False,  # set input mean to 0 over the dataset\n",
    "        samplewise_center=False,  # set each sample mean to 0\n",
    "        featurewise_std_normalization=False,  # divide inputs by std of the dataset\n",
    "        samplewise_std_normalization=False,  # divide each input by its std\n",
    "        zca_whitening=False,  # dimesion reduction\n",
    "        rotation_range=10,  # randomly rotate images in the range 5 degrees\n",
    "        zoom_range = 0.1, # Randomly zoom image 10%\n",
    "        width_shift_range=0.1,  # randomly shift images horizontally 10%\n",
    "        height_shift_range=0.1,  # randomly shift images vertically 10%\n",
    "        horizontal_flip=False,  # randomly flip images\n",
    "        vertical_flip=False)  # randomly flip images\n",
    "\n",
    "datagen.fit(X_train)\n",
    "\n",
    "model.fit_generator(datagen.flow(X_train,Y_train, ... \n",
    "\n",
    "early_stopping = EarlyStopping( monitor = 'val-accuracy', min_delta=0.001, # minimium amount of change to count as an improvement\n",
    "                                patience=10, # how many epochs to wait before stopping\n",
    "                                restore_best_weights=True\n",
    "                              )"
   ]
  },
  {
   "cell_type": "markdown",
   "metadata": {},
   "source": [
    "### Trying VGG 16\n",
    "- overcomplicating the problem"
   ]
  },
  {
   "cell_type": "code",
   "execution_count": 143,
   "metadata": {},
   "outputs": [
    {
     "name": "stdout",
     "output_type": "stream",
     "text": [
      "Model: \"model_23\"\n",
      "_________________________________________________________________\n",
      "Layer (type)                 Output Shape              Param #   \n",
      "=================================================================\n",
      "input_28 (InputLayer)        [(None, 28, 28, 1)]       0         \n",
      "_________________________________________________________________\n",
      "conv2d_125 (Conv2D)          (None, 28, 28, 64)        640       \n",
      "_________________________________________________________________\n",
      "conv2d_126 (Conv2D)          (None, 28, 28, 64)        36928     \n",
      "_________________________________________________________________\n",
      "max_pooling2d_35 (MaxPooling (None, 14, 14, 64)        0         \n",
      "_________________________________________________________________\n",
      "conv2d_127 (Conv2D)          (None, 14, 14, 128)       73856     \n",
      "_________________________________________________________________\n",
      "conv2d_128 (Conv2D)          (None, 14, 14, 128)       147584    \n",
      "_________________________________________________________________\n",
      "max_pooling2d_36 (MaxPooling (None, 7, 7, 128)         0         \n",
      "_________________________________________________________________\n",
      "conv2d_129 (Conv2D)          (None, 7, 7, 256)         295168    \n",
      "_________________________________________________________________\n",
      "conv2d_130 (Conv2D)          (None, 7, 7, 256)         590080    \n",
      "_________________________________________________________________\n",
      "conv2d_131 (Conv2D)          (None, 7, 7, 256)         590080    \n",
      "_________________________________________________________________\n",
      "max_pooling2d_37 (MaxPooling (None, 4, 4, 256)         0         \n",
      "_________________________________________________________________\n",
      "conv2d_132 (Conv2D)          (None, 4, 4, 512)         1180160   \n",
      "_________________________________________________________________\n",
      "conv2d_133 (Conv2D)          (None, 4, 4, 512)         2359808   \n",
      "_________________________________________________________________\n",
      "conv2d_134 (Conv2D)          (None, 4, 4, 512)         2359808   \n",
      "_________________________________________________________________\n",
      "max_pooling2d_38 (MaxPooling (None, 2, 2, 512)         0         \n",
      "_________________________________________________________________\n",
      "conv2d_135 (Conv2D)          (None, 2, 2, 512)         2359808   \n",
      "_________________________________________________________________\n",
      "conv2d_136 (Conv2D)          (None, 2, 2, 512)         2359808   \n",
      "_________________________________________________________________\n",
      "conv2d_137 (Conv2D)          (None, 2, 2, 512)         2359808   \n",
      "_________________________________________________________________\n",
      "max_pooling2d_39 (MaxPooling (None, 1, 1, 512)         0         \n",
      "_________________________________________________________________\n",
      "flatten_22 (Flatten)         (None, 512)               0         \n",
      "_________________________________________________________________\n",
      "dense_51 (Dense)             (None, 1024)              525312    \n",
      "_________________________________________________________________\n",
      "dense_52 (Dense)             (None, 1024)              1049600   \n",
      "_________________________________________________________________\n",
      "dense_53 (Dense)             (None, 25)                25625     \n",
      "=================================================================\n",
      "Total params: 16,314,073\n",
      "Trainable params: 16,314,073\n",
      "Non-trainable params: 0\n",
      "_________________________________________________________________\n"
     ]
    }
   ],
   "source": [
    "from tensorflow.keras.layers import Input, Conv2D \n",
    "from tensorflow.keras.layers import MaxPool2D, Flatten, Dense \n",
    "from tensorflow.keras import Model\n",
    "# input\n",
    "# https://towardsdatascience.com/creating-vgg-from-scratch-using-tensorflow-a998a5640155\n",
    "\n",
    "vgginput = Input(shape =(28,28,1))\n",
    "# 1st Conv Block\n",
    "\n",
    "x = Conv2D (filters =64, kernel_size =3, padding ='same', activation='relu')(vgginput)\n",
    "x = Conv2D (filters =64, kernel_size =3, padding ='same', activation='relu')(x)\n",
    "x = MaxPool2D(pool_size =2, strides =2, padding ='same')(x)\n",
    "# 2nd Conv Block\n",
    "\n",
    "x = Conv2D (filters =128, kernel_size =3, padding ='same', activation='relu')(x)\n",
    "x = Conv2D (filters =128, kernel_size =3, padding ='same', activation='relu')(x)\n",
    "x = MaxPool2D(pool_size =2, strides =2, padding ='same')(x)\n",
    "# 3rd Conv block\n",
    "\n",
    "x = Conv2D (filters =256, kernel_size =3, padding ='same', activation='relu')(x)\n",
    "x = Conv2D (filters =256, kernel_size =3, padding ='same', activation='relu')(x)\n",
    "x = Conv2D (filters =256, kernel_size =3, padding ='same', activation='relu')(x)\n",
    "x = MaxPool2D(pool_size =2, strides =2, padding ='same')(x)\n",
    "# 4th Conv block\n",
    "\n",
    "x = Conv2D (filters =512, kernel_size =3, padding ='same', activation='relu')(x)\n",
    "x = Conv2D (filters =512, kernel_size =3, padding ='same', activation='relu')(x)\n",
    "x = Conv2D (filters =512, kernel_size =3, padding ='same', activation='relu')(x)\n",
    "x = MaxPool2D(pool_size =2, strides =2, padding ='same')(x)\n",
    "\n",
    "# 5th Conv block\n",
    "\n",
    "x = Conv2D (filters =512, kernel_size =3, padding ='same', activation='relu')(x)\n",
    "x = Conv2D (filters =512, kernel_size =3, padding ='same', activation='relu')(x)\n",
    "x = Conv2D (filters =512, kernel_size =3, padding ='same', activation='relu')(x)\n",
    "x = MaxPool2D(pool_size =2, strides =2, padding ='same')(x)\n",
    "# Fully connected layers\n",
    "\n",
    "x = Flatten()(x)\n",
    "x = Dense(units = 1024, activation ='relu')(x) #changed num units\n",
    "x = Dense(units = 1024, activation ='relu')(x) #changed num units\n",
    "output = Dense(units = 25, activation ='softmax')(x) #changed num units\n",
    "# creating the model\n",
    "\n",
    "vggmodel = Model (inputs=vgginput, outputs =output)\n",
    "opt = keras.optimizers.Adam()\n",
    "vggmodel.compile(optimizer=opt, loss='sparse_categorical_crossentropy', metrics=['accuracy'])\n",
    "vggmodel.summary()"
   ]
  },
  {
   "cell_type": "code",
   "execution_count": 144,
   "metadata": {},
   "outputs": [
    {
     "name": "stdout",
     "output_type": "stream",
     "text": [
      "Train on 20591 samples, validate on 6864 samples\n",
      "Epoch 1/5\n",
      "20591/20591 [==============================] - 14s 678us/sample - loss: 3.1856 - acc: 0.0436 - val_loss: 3.1798 - val_acc: 0.0425\n",
      "Epoch 2/5\n",
      "20591/20591 [==============================] - 12s 599us/sample - loss: 3.1790 - acc: 0.0453 - val_loss: 3.1786 - val_acc: 0.0468\n",
      "Epoch 3/5\n",
      "20591/20591 [==============================] - 12s 595us/sample - loss: 3.1787 - acc: 0.0435 - val_loss: 3.1780 - val_acc: 0.0468\n",
      "Epoch 4/5\n",
      "20591/20591 [==============================] - 12s 600us/sample - loss: 3.1781 - acc: 0.0438 - val_loss: 3.1774 - val_acc: 0.0468\n",
      "Epoch 5/5\n",
      "20591/20591 [==============================] - 12s 595us/sample - loss: 3.1775 - acc: 0.0448 - val_loss: 3.1773 - val_acc: 0.0468\n"
     ]
    }
   ],
   "source": [
    "vggHist = vggmodel.fit(cnn_x_train, y_train, validation_split = 0.25, \n",
    "                       batch_size=50, epochs=5, shuffle=True, callbacks = [history])"
   ]
  },
  {
   "cell_type": "code",
   "execution_count": 69,
   "metadata": {},
   "outputs": [
    {
     "data": {
      "text/plain": [
       "<matplotlib.legend.Legend at 0x7f2614189f90>"
      ]
     },
     "execution_count": 69,
     "metadata": {},
     "output_type": "execute_result"
    },
    {
     "data": {
      "image/png": "[encoded data removed]",
      "text/plain": [
       "<Figure size 432x288 with 1 Axes>"
      ]
     },
     "metadata": {
      "needs_background": "light"
     },
     "output_type": "display_data"
    }
   ],
   "source": [
    "vggHist.history# training loss\n",
    "a = vggHist.history['loss']\n",
    "b = vggHist.history['val_loss']\n",
    "plt.plot(range(len(a)),a)\n",
    "plt.plot(range(len(b)),b)\n",
    "plt.xlabel('Epochs')\n",
    "plt.ylabel('Loss')\n",
    "plt.legend(['Loss','Validation Loss'])"
   ]
  },
  {
   "cell_type": "code",
   "execution_count": 68,
   "metadata": {},
   "outputs": [
    {
     "name": "stdout",
     "output_type": "stream",
     "text": [
      "7172/7172 [==============================] - 2s 299us/sample - loss: 3.1947 - acc: 0.0342\n",
      "Test accuracy for this model is 0.03416062518954277\n"
     ]
    }
   ],
   "source": [
    "# Evaluate the trained network on the testing dataset\n",
    "testLoss, testAcc = vggmodel.evaluate(cnn_x_test, y_test)\n",
    "print(\"Test accuracy for this model is {}\".format(testAcc))"
   ]
  },
  {
   "cell_type": "markdown",
   "metadata": {},
   "source": [
    "### Constants in testing\n",
    " - kernel size = 5x5\n",
    " - learning rate = .0001+\n",
    " - optimizer = opt = Adam() opt = keras.optimizers.Adam()\n",
    " - relu activation function"
   ]
  },
  {
   "cell_type": "code",
   "execution_count": 30,
   "metadata": {},
   "outputs": [],
   "source": [
    "from tensorflow.keras.callbacks import EarlyStopping\n",
    "early_stopping = EarlyStopping( monitor = 'loss', min_delta=0.001, # minimium amount of decreasing loss to count as improvement\n",
    "                                patience=10, # how many epochs to wait before stopping\n",
    "                                restore_best_weights=True\n",
    "                              )"
   ]
  },
  {
   "cell_type": "markdown",
   "metadata": {},
   "source": [
    "## Testing Structure\n",
    "- create a new CNN model\n",
    "- compile model\n",
    "- fit model to training data\n",
    "- test model with testing data\n",
    "- log accuracy, loss\n",
    "- (maybe) input testing and training loss of each model in a bar graph?\n"
   ]
  },
  {
   "cell_type": "markdown",
   "metadata": {},
   "source": [
    "### Test #1 \n",
    "- add dropout layer after first pooling\n",
    "- try 10% and 20% and continue on with that"
   ]
  },
  {
   "cell_type": "code",
   "execution_count": 74,
   "metadata": {},
   "outputs": [
    {
     "name": "stdout",
     "output_type": "stream",
     "text": [
      "Model: \"model_10\"\n",
      "_________________________________________________________________\n",
      "Layer (type)                 Output Shape              Param #   \n",
      "=================================================================\n",
      "input_15 (InputLayer)        [(None, 28, 28, 1)]       0         \n",
      "_________________________________________________________________\n",
      "conv2d_97 (Conv2D)           (None, 24, 24, 6)         156       \n",
      "_________________________________________________________________\n",
      "average_pooling2d_5 (Average (None, 12, 12, 6)         0         \n",
      "_________________________________________________________________\n",
      "dropout_1 (Dropout)          (None, 12, 12, 6)         0         \n",
      "_________________________________________________________________\n",
      "conv2d_98 (Conv2D)           (None, 8, 8, 16)          2416      \n",
      "_________________________________________________________________\n",
      "average_pooling2d_6 (Average (None, 4, 4, 16)          0         \n",
      "_________________________________________________________________\n",
      "flatten_9 (Flatten)          (None, 256)               0         \n",
      "_________________________________________________________________\n",
      "dense_28 (Dense)             (None, 120)               30840     \n",
      "_________________________________________________________________\n",
      "dense_29 (Dense)             (None, 84)                10164     \n",
      "_________________________________________________________________\n",
      "prelogits (Dense)            (None, 25)                2125      \n",
      "_________________________________________________________________\n",
      "logits (Activation)          (None, 25)                0         \n",
      "=================================================================\n",
      "Total params: 45,701\n",
      "Trainable params: 45,701\n",
      "Non-trainable params: 0\n",
      "_________________________________________________________________\n"
     ]
    }
   ],
   "source": [
    "# LeNet model with 10 % dropoout after first pooling\n",
    "def testModel_1a():\n",
    "    # input\n",
    "    xIn = keras.Input(shape=(28,28,1))\n",
    "    \n",
    "    # subsequent layers\n",
    "    out = keras.layers.Conv2D(6, 5, activation='relu')(xIn)\n",
    "    out = keras.layers.AveragePooling2D(2, 2)(out)\n",
    "    out = keras.layers.Dropout(rate = 0.1)(out) # randomly sets 10% of data values to 0\n",
    "    out = keras.layers.Conv2D(16, 5, activation='relu')(out)\n",
    "    out = keras.layers.AveragePooling2D(2, 2)(out)\n",
    "    \n",
    "    #extra convolution and dropout?\n",
    "    out = keras.layers.Flatten()(out)\n",
    "    out = keras.layers.Dense(120, activation='relu')(out)\n",
    "    out = keras.layers.Dense(84, activation='relu')(out)\n",
    "    out = keras.layers.Dense(25, name='prelogits')(out)  \n",
    "    out = keras.layers.Activation('softmax', name='logits')(out)\n",
    "    \n",
    "    # Creates model\n",
    "    mod = keras.Model(inputs=xIn, outputs=out) \n",
    "    \n",
    "    return mod\n",
    "\n",
    "# Declares the model and prepares it for training\n",
    "testMod1a = testModel_1a()\n",
    "testMod1a.compile(optimizer=opt, loss='sparse_categorical_crossentropy', metrics=['accuracy']) \n",
    "testMod1a.summary()"
   ]
  },
  {
   "cell_type": "code",
   "execution_count": 83,
   "metadata": {},
   "outputs": [
    {
     "name": "stdout",
     "output_type": "stream",
     "text": [
      "Train on 20591 samples, validate on 6864 samples\n",
      "Epoch 1/20\n",
      "20591/20591 [==============================] - 3s 159us/sample - loss: 0.0243 - acc: 0.9930 - val_loss: 0.0044 - val_acc: 0.9993\n",
      "Epoch 2/20\n",
      "20591/20591 [==============================] - 3s 154us/sample - loss: 0.0112 - acc: 0.9973 - val_loss: 0.0035 - val_acc: 0.9999\n",
      "Epoch 3/20\n",
      "20591/20591 [==============================] - 3s 153us/sample - loss: 0.0124 - acc: 0.9966 - val_loss: 0.0046 - val_acc: 0.9990\n",
      "Epoch 4/20\n",
      "20591/20591 [==============================] - 3s 133us/sample - loss: 0.0323 - acc: 0.9902 - val_loss: 0.0022 - val_acc: 0.9999\n",
      "Epoch 5/20\n",
      "20591/20591 [==============================] - 3s 139us/sample - loss: 0.0041 - acc: 0.9993 - val_loss: 4.1704e-04 - val_acc: 1.0000\n",
      "Epoch 6/20\n",
      "20591/20591 [==============================] - 3s 144us/sample - loss: 0.0066 - acc: 0.9982 - val_loss: 0.0041 - val_acc: 0.9999\n",
      "Epoch 7/20\n",
      "20591/20591 [==============================] - 3s 154us/sample - loss: 0.0096 - acc: 0.9974 - val_loss: 0.0076 - val_acc: 0.9983\n",
      "Epoch 8/20\n",
      "20591/20591 [==============================] - 3s 149us/sample - loss: 0.0218 - acc: 0.9936 - val_loss: 6.8029e-04 - val_acc: 1.0000\n",
      "Epoch 9/20\n",
      "20591/20591 [==============================] - 3s 159us/sample - loss: 0.0025 - acc: 0.9995 - val_loss: 4.7377e-04 - val_acc: 1.0000\n",
      "Epoch 10/20\n",
      "20591/20591 [==============================] - 3s 151us/sample - loss: 0.0186 - acc: 0.9936 - val_loss: 0.0091 - val_acc: 0.9966\n",
      "Epoch 11/20\n",
      "20591/20591 [==============================] - 3s 133us/sample - loss: 0.0039 - acc: 0.9991 - val_loss: 1.4043e-04 - val_acc: 1.0000\n",
      "Epoch 12/20\n",
      "20591/20591 [==============================] - 3s 146us/sample - loss: 7.5800e-04 - acc: 1.0000 - val_loss: 1.5323e-04 - val_acc: 1.0000\n",
      "Epoch 13/20\n",
      "20591/20591 [==============================] - 3s 146us/sample - loss: 0.0175 - acc: 0.9944 - val_loss: 2.1326e-04 - val_acc: 1.0000\n",
      "Epoch 14/20\n",
      "20591/20591 [==============================] - 3s 136us/sample - loss: 0.0074 - acc: 0.9981 - val_loss: 0.0198 - val_acc: 0.9950\n",
      "Epoch 15/20\n",
      "20591/20591 [==============================] - 3s 130us/sample - loss: 0.0094 - acc: 0.9971 - val_loss: 1.4717e-04 - val_acc: 1.0000\n",
      "Epoch 16/20\n",
      "20591/20591 [==============================] - 3s 130us/sample - loss: 0.0041 - acc: 0.9988 - val_loss: 1.0234e-04 - val_acc: 1.0000\n",
      "Epoch 17/20\n",
      "20591/20591 [==============================] - 3s 133us/sample - loss: 0.0135 - acc: 0.9953 - val_loss: 5.3764e-04 - val_acc: 1.0000\n",
      "Epoch 18/20\n",
      "20591/20591 [==============================] - 3s 133us/sample - loss: 0.0025 - acc: 0.9994 - val_loss: 2.2600e-04 - val_acc: 1.0000\n",
      "Epoch 19/20\n",
      "20591/20591 [==============================] - 3s 140us/sample - loss: 0.0104 - acc: 0.9970 - val_loss: 1.1193e-04 - val_acc: 1.0000\n",
      "Epoch 20/20\n",
      "20591/20591 [==============================] - 3s 134us/sample - loss: 0.0012 - acc: 0.9996 - val_loss: 2.4970e-04 - val_acc: 1.0000\n"
     ]
    }
   ],
   "source": [
    "testMod1aHist = testMod1a.fit(cnn_x_train, y_train, validation_split = 0.25, \n",
    "                       batch_size=50, epochs=20, shuffle=True, callbacks = [early_stopping, history])"
   ]
  },
  {
   "cell_type": "code",
   "execution_count": 84,
   "metadata": {},
   "outputs": [
    {
     "data": {
      "text/plain": [
       "<matplotlib.legend.Legend at 0x7f25f85a3d50>"
      ]
     },
     "execution_count": 84,
     "metadata": {},
     "output_type": "execute_result"
    },
    {
     "data": {
      "image/png": "[encoded data removed]",
      "text/plain": [
       "<Figure size 432x288 with 1 Axes>"
      ]
     },
     "metadata": {
      "needs_background": "light"
     },
     "output_type": "display_data"
    }
   ],
   "source": [
    "# testMod1aHist.history# training loss\n",
    "a = testMod1aHist.history['loss']\n",
    "b = testMod1aHist.history['val_loss']\n",
    "plt.plot(range(len(a)),a)\n",
    "plt.plot(range(len(b)),b)\n",
    "plt.xlabel('Epochs')\n",
    "plt.ylabel('Loss')\n",
    "plt.legend(['Loss','Validation Loss'])"
   ]
  },
  {
   "cell_type": "code",
   "execution_count": 97,
   "metadata": {},
   "outputs": [
    {
     "name": "stdout",
     "output_type": "stream",
     "text": [
      "7172/7172 [==============================] - 1s 86us/sample - loss: 0.3988 - acc: 0.9307\n",
      "Test accuracy for this model is 0.9307027459144592\n"
     ]
    }
   ],
   "source": [
    "# Evaluate the trained network on the testing dataset\n",
    "testLoss, testAcc = testMod1a.evaluate(cnn_x_test, y_test)\n",
    "print(\"Test accuracy for this model is {}\".format(testAcc))"
   ]
  },
  {
   "cell_type": "code",
   "execution_count": 98,
   "metadata": {},
   "outputs": [
    {
     "name": "stdout",
     "output_type": "stream",
     "text": [
      "Model: \"model_13\"\n",
      "_________________________________________________________________\n",
      "Layer (type)                 Output Shape              Param #   \n",
      "=================================================================\n",
      "input_18 (InputLayer)        [(None, 28, 28, 1)]       0         \n",
      "_________________________________________________________________\n",
      "conv2d_103 (Conv2D)          (None, 24, 24, 6)         156       \n",
      "_________________________________________________________________\n",
      "average_pooling2d_11 (Averag (None, 12, 12, 6)         0         \n",
      "_________________________________________________________________\n",
      "dropout_4 (Dropout)          (None, 12, 12, 6)         0         \n",
      "_________________________________________________________________\n",
      "conv2d_104 (Conv2D)          (None, 8, 8, 16)          2416      \n",
      "_________________________________________________________________\n",
      "average_pooling2d_12 (Averag (None, 4, 4, 16)          0         \n",
      "_________________________________________________________________\n",
      "flatten_12 (Flatten)         (None, 256)               0         \n",
      "_________________________________________________________________\n",
      "dense_34 (Dense)             (None, 120)               30840     \n",
      "_________________________________________________________________\n",
      "dense_35 (Dense)             (None, 84)                10164     \n",
      "_________________________________________________________________\n",
      "prelogits (Dense)            (None, 25)                2125      \n",
      "_________________________________________________________________\n",
      "logits (Activation)          (None, 25)                0         \n",
      "=================================================================\n",
      "Total params: 45,701\n",
      "Trainable params: 45,701\n",
      "Non-trainable params: 0\n",
      "_________________________________________________________________\n"
     ]
    }
   ],
   "source": [
    "# LeNet model with 20 % dropoout after first pooling\n",
    "def testModel_1b():\n",
    "    # input\n",
    "    xIn = keras.Input(shape=(28,28,1))\n",
    "    \n",
    "    # subsequent layers\n",
    "    out = keras.layers.Conv2D(6, 5, activation='relu')(xIn)\n",
    "    out = keras.layers.AveragePooling2D(2, 2)(out)\n",
    "    out = keras.layers.Dropout(rate = 0.2)(out) # randomly sets 20% of data values to 0\n",
    "    out = keras.layers.Conv2D(16, 5, activation='relu')(out)\n",
    "    out = keras.layers.AveragePooling2D(2, 2)(out)\n",
    "    \n",
    "    #extra convolution and dropout?\n",
    "    out = keras.layers.Flatten()(out)\n",
    "    out = keras.layers.Dense(120, activation='relu')(out)\n",
    "    out = keras.layers.Dense(84, activation='relu')(out)\n",
    "    out = keras.layers.Dense(25, name='prelogits')(out)  \n",
    "    out = keras.layers.Activation('softmax', name='logits')(out)\n",
    "    \n",
    "    # Creates model\n",
    "    mod = keras.Model(inputs=xIn, outputs=out) \n",
    "    \n",
    "    return mod\n",
    "\n",
    "# Declares the model and prepares it for training\n",
    "testMod1b = testModel_1b()\n",
    "testMod1b.compile(optimizer=opt, loss='sparse_categorical_crossentropy', metrics=['accuracy']) \n",
    "testMod1b.summary()"
   ]
  },
  {
   "cell_type": "code",
   "execution_count": 99,
   "metadata": {},
   "outputs": [
    {
     "name": "stdout",
     "output_type": "stream",
     "text": [
      "Train on 20591 samples, validate on 6864 samples\n",
      "Epoch 1/20\n",
      "20591/20591 [==============================] - 4s 180us/sample - loss: 1.4218 - acc: 0.5455 - val_loss: 0.5257 - val_acc: 0.8441\n",
      "Epoch 2/20\n",
      "20591/20591 [==============================] - 3s 141us/sample - loss: 0.4454 - acc: 0.8480 - val_loss: 0.2107 - val_acc: 0.9384\n",
      "Epoch 3/20\n",
      "20591/20591 [==============================] - 3s 140us/sample - loss: 0.2349 - acc: 0.9200 - val_loss: 0.1084 - val_acc: 0.9760\n",
      "Epoch 4/20\n",
      "20591/20591 [==============================] - 3s 146us/sample - loss: 0.1484 - acc: 0.9517 - val_loss: 0.0579 - val_acc: 0.9879\n",
      "Epoch 5/20\n",
      "20591/20591 [==============================] - 3s 123us/sample - loss: 0.0941 - acc: 0.9726 - val_loss: 0.0303 - val_acc: 0.9953\n",
      "Epoch 6/20\n",
      "20591/20591 [==============================] - 3s 129us/sample - loss: 0.0705 - acc: 0.9794 - val_loss: 0.0190 - val_acc: 0.9980\n",
      "Epoch 7/20\n",
      "20591/20591 [==============================] - 3s 155us/sample - loss: 0.0542 - acc: 0.9832 - val_loss: 0.0157 - val_acc: 0.9987\n",
      "Epoch 8/20\n",
      "20591/20591 [==============================] - 3s 144us/sample - loss: 0.0462 - acc: 0.9860 - val_loss: 0.0107 - val_acc: 0.9974\n",
      "Epoch 9/20\n",
      "20591/20591 [==============================] - 3s 124us/sample - loss: 0.0341 - acc: 0.9907 - val_loss: 0.0073 - val_acc: 0.9993\n",
      "Epoch 10/20\n",
      "20591/20591 [==============================] - 3s 138us/sample - loss: 0.0273 - acc: 0.9916 - val_loss: 0.0041 - val_acc: 1.0000\n",
      "Epoch 11/20\n",
      "20591/20591 [==============================] - 3s 147us/sample - loss: 0.0254 - acc: 0.9927 - val_loss: 0.0036 - val_acc: 0.9997\n",
      "Epoch 12/20\n",
      "20591/20591 [==============================] - 3s 141us/sample - loss: 0.0198 - acc: 0.9937 - val_loss: 0.0059 - val_acc: 0.9997\n",
      "Epoch 13/20\n",
      "20591/20591 [==============================] - 3s 141us/sample - loss: 0.0204 - acc: 0.9935 - val_loss: 0.0020 - val_acc: 1.0000\n",
      "Epoch 14/20\n",
      "20591/20591 [==============================] - 3s 144us/sample - loss: 0.0195 - acc: 0.9943 - val_loss: 0.0050 - val_acc: 0.9990\n",
      "Epoch 15/20\n",
      "20591/20591 [==============================] - 3s 135us/sample - loss: 0.0203 - acc: 0.9943 - val_loss: 0.0031 - val_acc: 0.9996\n",
      "Epoch 16/20\n",
      "20591/20591 [==============================] - 3s 143us/sample - loss: 0.0150 - acc: 0.9956 - val_loss: 0.0035 - val_acc: 0.9993\n",
      "Epoch 17/20\n",
      "20591/20591 [==============================] - 3s 155us/sample - loss: 0.0179 - acc: 0.9944 - val_loss: 0.0111 - val_acc: 0.9961\n",
      "Epoch 18/20\n",
      "20591/20591 [==============================] - 3s 143us/sample - loss: 0.0099 - acc: 0.9972 - val_loss: 0.0015 - val_acc: 1.0000\n",
      "Epoch 19/20\n",
      "20591/20591 [==============================] - 3s 133us/sample - loss: 0.0123 - acc: 0.9957 - val_loss: 0.0121 - val_acc: 0.9948\n",
      "Epoch 20/20\n",
      "20591/20591 [==============================] - 3s 143us/sample - loss: 0.0122 - acc: 0.9965 - val_loss: 0.0053 - val_acc: 0.9984\n"
     ]
    }
   ],
   "source": [
    "testMod1bHist = testMod1b.fit(cnn_x_train, y_train, validation_split = 0.25, \n",
    "                       batch_size=50, epochs=20, shuffle=True, callbacks = [early_stopping, history])"
   ]
  },
  {
   "cell_type": "code",
   "execution_count": 100,
   "metadata": {
    "scrolled": true
   },
   "outputs": [
    {
     "data": {
      "text/plain": [
       "<matplotlib.legend.Legend at 0x7f25f815ced0>"
      ]
     },
     "execution_count": 100,
     "metadata": {},
     "output_type": "execute_result"
    },
    {
     "data": {
      "image/png": "[encoded data removed]",
      "text/plain": [
       "<Figure size 432x288 with 1 Axes>"
      ]
     },
     "metadata": {
      "needs_background": "light"
     },
     "output_type": "display_data"
    }
   ],
   "source": [
    "# testMod2aHist.history# training loss\n",
    "a = testMod1bHist.history['loss']\n",
    "b = testMod1bHist.history['val_loss']\n",
    "plt.plot(range(len(a)),a)\n",
    "plt.plot(range(len(b)),b)\n",
    "plt.xlabel('Epochs')\n",
    "plt.ylabel('Loss')\n",
    "plt.legend(['Loss','Validation Loss'])"
   ]
  },
  {
   "cell_type": "code",
   "execution_count": 101,
   "metadata": {},
   "outputs": [
    {
     "name": "stdout",
     "output_type": "stream",
     "text": [
      "7172/7172 [==============================] - 1s 97us/sample - loss: 0.4644 - acc: 0.8961\n",
      "Test accuracy for this model is 0.8961238265037537\n"
     ]
    }
   ],
   "source": [
    "# Evaluate the trained network on the testing dataset\n",
    "testLoss, testAcc = testMod1b.evaluate(cnn_x_test, y_test)\n",
    "print(\"Test accuracy for this model is {}\".format(testAcc))"
   ]
  },
  {
   "cell_type": "markdown",
   "metadata": {},
   "source": [
    "### Test #2\n",
    "- add dropout layer after second pooling\n",
    "- try 10% and 20% and continue on with that"
   ]
  },
  {
   "cell_type": "code",
   "execution_count": 102,
   "metadata": {},
   "outputs": [
    {
     "name": "stdout",
     "output_type": "stream",
     "text": [
      "Model: \"model_14\"\n",
      "_________________________________________________________________\n",
      "Layer (type)                 Output Shape              Param #   \n",
      "=================================================================\n",
      "input_19 (InputLayer)        [(None, 28, 28, 1)]       0         \n",
      "_________________________________________________________________\n",
      "conv2d_105 (Conv2D)          (None, 24, 24, 6)         156       \n",
      "_________________________________________________________________\n",
      "average_pooling2d_13 (Averag (None, 12, 12, 6)         0         \n",
      "_________________________________________________________________\n",
      "conv2d_106 (Conv2D)          (None, 8, 8, 16)          2416      \n",
      "_________________________________________________________________\n",
      "average_pooling2d_14 (Averag (None, 4, 4, 16)          0         \n",
      "_________________________________________________________________\n",
      "dropout_5 (Dropout)          (None, 4, 4, 16)          0         \n",
      "_________________________________________________________________\n",
      "flatten_13 (Flatten)         (None, 256)               0         \n",
      "_________________________________________________________________\n",
      "dense_36 (Dense)             (None, 120)               30840     \n",
      "_________________________________________________________________\n",
      "dense_37 (Dense)             (None, 84)                10164     \n",
      "_________________________________________________________________\n",
      "prelogits (Dense)            (None, 25)                2125      \n",
      "_________________________________________________________________\n",
      "logits (Activation)          (None, 25)                0         \n",
      "=================================================================\n",
      "Total params: 45,701\n",
      "Trainable params: 45,701\n",
      "Non-trainable params: 0\n",
      "_________________________________________________________________\n"
     ]
    }
   ],
   "source": [
    "# LeNet model with 10 % dropoout after second pooling\n",
    "def testModel_2a():\n",
    "    # input\n",
    "    xIn = keras.Input(shape=(28,28,1))\n",
    "    \n",
    "    # subsequent layers\n",
    "    out = keras.layers.Conv2D(6, 5, activation='relu')(xIn)\n",
    "    out = keras.layers.AveragePooling2D(2, 2)(out)\n",
    "    \n",
    "    out = keras.layers.Conv2D(16, 5, activation='relu')(out)\n",
    "    out = keras.layers.AveragePooling2D(2, 2)(out)\n",
    "    \n",
    "    out = keras.layers.Dropout(rate = 0.1)(out) # randomly sets 10% of data values to 0\n",
    "    #extra convolution and dropout?\n",
    "    out = keras.layers.Flatten()(out)\n",
    "    out = keras.layers.Dense(120, activation='relu')(out)\n",
    "    out = keras.layers.Dense(84, activation='relu')(out)\n",
    "    out = keras.layers.Dense(25, name='prelogits')(out)  \n",
    "    out = keras.layers.Activation('softmax', name='logits')(out)\n",
    "    \n",
    "    # Creates model\n",
    "    mod = keras.Model(inputs=xIn, outputs=out) \n",
    "    \n",
    "    return mod\n",
    "\n",
    "# Declares the model and prepares it for training\n",
    "testMod2a = testModel_2a()\n",
    "testMod2a.compile(optimizer=opt, loss='sparse_categorical_crossentropy', metrics=['accuracy']) \n",
    "testMod2a.summary()"
   ]
  },
  {
   "cell_type": "code",
   "execution_count": 103,
   "metadata": {},
   "outputs": [
    {
     "name": "stdout",
     "output_type": "stream",
     "text": [
      "Train on 20591 samples, validate on 6864 samples\n",
      "Epoch 1/20\n",
      "20591/20591 [==============================] - 4s 174us/sample - loss: 1.3855 - acc: 0.5569 - val_loss: 0.5450 - val_acc: 0.8399\n",
      "Epoch 2/20\n",
      "20591/20591 [==============================] - 3s 138us/sample - loss: 0.4453 - acc: 0.8495 - val_loss: 0.2549 - val_acc: 0.9165\n",
      "Epoch 3/20\n",
      "20591/20591 [==============================] - 3s 138us/sample - loss: 0.2327 - acc: 0.9227 - val_loss: 0.1172 - val_acc: 0.9677\n",
      "Epoch 4/20\n",
      "20591/20591 [==============================] - 3s 139us/sample - loss: 0.1447 - acc: 0.9525 - val_loss: 0.0687 - val_acc: 0.9844\n",
      "Epoch 5/20\n",
      "20591/20591 [==============================] - 3s 133us/sample - loss: 0.1045 - acc: 0.9660 - val_loss: 0.0358 - val_acc: 0.9902\n",
      "Epoch 6/20\n",
      "20591/20591 [==============================] - 3s 143us/sample - loss: 0.0879 - acc: 0.9730 - val_loss: 0.0334 - val_acc: 0.9939\n",
      "Epoch 7/20\n",
      "20591/20591 [==============================] - 3s 157us/sample - loss: 0.0611 - acc: 0.9808 - val_loss: 0.0119 - val_acc: 0.9984\n",
      "Epoch 8/20\n",
      "20591/20591 [==============================] - 3s 151us/sample - loss: 0.0533 - acc: 0.9834 - val_loss: 0.0144 - val_acc: 0.9977\n",
      "Epoch 9/20\n",
      "20591/20591 [==============================] - 3s 134us/sample - loss: 0.0504 - acc: 0.9848 - val_loss: 0.0109 - val_acc: 0.9978\n",
      "Epoch 10/20\n",
      "20591/20591 [==============================] - 3s 139us/sample - loss: 0.0407 - acc: 0.9873 - val_loss: 0.0116 - val_acc: 0.9980\n",
      "Epoch 11/20\n",
      "20591/20591 [==============================] - 3s 145us/sample - loss: 0.0375 - acc: 0.9887 - val_loss: 0.0102 - val_acc: 0.9981\n",
      "Epoch 12/20\n",
      "20591/20591 [==============================] - 3s 125us/sample - loss: 0.0333 - acc: 0.9895 - val_loss: 0.0060 - val_acc: 0.9988\n",
      "Epoch 13/20\n",
      "20591/20591 [==============================] - 3s 123us/sample - loss: 0.0277 - acc: 0.9920 - val_loss: 0.0043 - val_acc: 0.9988\n",
      "Epoch 14/20\n",
      "20591/20591 [==============================] - 3s 144us/sample - loss: 0.0345 - acc: 0.9891 - val_loss: 0.0035 - val_acc: 0.9999\n",
      "Epoch 15/20\n",
      "20591/20591 [==============================] - 3s 147us/sample - loss: 0.0252 - acc: 0.9927 - val_loss: 0.0028 - val_acc: 0.9997\n",
      "Epoch 16/20\n",
      "20591/20591 [==============================] - 3s 139us/sample - loss: 0.0252 - acc: 0.9916 - val_loss: 0.0019 - val_acc: 1.0000\n",
      "Epoch 17/20\n",
      "20591/20591 [==============================] - 3s 134us/sample - loss: 0.0230 - acc: 0.9925 - val_loss: 0.0016 - val_acc: 1.0000\n",
      "Epoch 18/20\n",
      "20591/20591 [==============================] - 3s 155us/sample - loss: 0.0256 - acc: 0.9917 - val_loss: 0.0036 - val_acc: 0.9996\n",
      "Epoch 19/20\n",
      "20591/20591 [==============================] - 3s 157us/sample - loss: 0.0200 - acc: 0.9938 - val_loss: 0.0048 - val_acc: 0.9983\n",
      "Epoch 20/20\n",
      "20591/20591 [==============================] - 3s 138us/sample - loss: 0.0205 - acc: 0.9934 - val_loss: 0.0013 - val_acc: 1.0000\n"
     ]
    }
   ],
   "source": [
    "testMod2aHist = testMod2a.fit(cnn_x_train, y_train, validation_split = 0.25, \n",
    "                       batch_size=50, epochs=20, shuffle=True, callbacks = [early_stopping, history])"
   ]
  },
  {
   "cell_type": "code",
   "execution_count": 104,
   "metadata": {},
   "outputs": [
    {
     "data": {
      "text/plain": [
       "<matplotlib.legend.Legend at 0x7f25f82b9d90>"
      ]
     },
     "execution_count": 104,
     "metadata": {},
     "output_type": "execute_result"
    },
    {
     "data": {
      "image/png": "[encoded data removed]",
      "text/plain": [
       "<Figure size 432x288 with 1 Axes>"
      ]
     },
     "metadata": {
      "needs_background": "light"
     },
     "output_type": "display_data"
    }
   ],
   "source": [
    "# testMod2aHist.history# training loss\n",
    "a = testMod2aHist.history['loss']\n",
    "b = testMod2aHist.history['val_loss']\n",
    "plt.plot(range(len(a)),a)\n",
    "plt.plot(range(len(b)),b)\n",
    "plt.xlabel('Epochs')\n",
    "plt.ylabel('Loss')\n",
    "plt.legend(['Loss','Validation Loss'])"
   ]
  },
  {
   "cell_type": "code",
   "execution_count": 105,
   "metadata": {},
   "outputs": [
    {
     "name": "stdout",
     "output_type": "stream",
     "text": [
      "7172/7172 [==============================] - 1s 99us/sample - loss: 0.6794 - acc: 0.8816\n",
      "Test accuracy for this model is 0.8816229701042175\n"
     ]
    }
   ],
   "source": [
    "# Evaluate the trained network on the testing dataset\n",
    "testLoss, testAcc = testMod2a.evaluate(cnn_x_test, y_test)\n",
    "print(\"Test accuracy for this model is {}\".format(testAcc))"
   ]
  },
  {
   "cell_type": "code",
   "execution_count": 35,
   "metadata": {},
   "outputs": [
    {
     "name": "stdout",
     "output_type": "stream",
     "text": [
      "Model: \"model_2\"\n",
      "_________________________________________________________________\n",
      "Layer (type)                 Output Shape              Param #   \n",
      "=================================================================\n",
      "input_3 (InputLayer)         [(None, 28, 28, 1)]       0         \n",
      "_________________________________________________________________\n",
      "conv2d_5 (Conv2D)            (None, 24, 24, 6)         156       \n",
      "_________________________________________________________________\n",
      "average_pooling2d_4 (Average (None, 12, 12, 6)         0         \n",
      "_________________________________________________________________\n",
      "conv2d_6 (Conv2D)            (None, 8, 8, 16)          2416      \n",
      "_________________________________________________________________\n",
      "average_pooling2d_5 (Average (None, 4, 4, 16)          0         \n",
      "_________________________________________________________________\n",
      "dropout (Dropout)            (None, 4, 4, 16)          0         \n",
      "_________________________________________________________________\n",
      "flatten_2 (Flatten)          (None, 256)               0         \n",
      "_________________________________________________________________\n",
      "dense_4 (Dense)              (None, 120)               30840     \n",
      "_________________________________________________________________\n",
      "dense_5 (Dense)              (None, 84)                10164     \n",
      "_________________________________________________________________\n",
      "prelogits (Dense)            (None, 25)                2125      \n",
      "_________________________________________________________________\n",
      "logits (Activation)          (None, 25)                0         \n",
      "=================================================================\n",
      "Total params: 45,701\n",
      "Trainable params: 45,701\n",
      "Non-trainable params: 0\n",
      "_________________________________________________________________\n"
     ]
    }
   ],
   "source": [
    "# LeNet model with 20 % dropoout after second pooling\n",
    "def testModel_2b():\n",
    "    # input\n",
    "    xIn = keras.Input(shape=(28,28,1))\n",
    "    \n",
    "    # subsequent layers\n",
    "    out = keras.layers.Conv2D(6, 5, activation='relu')(xIn)\n",
    "    out = keras.layers.AveragePooling2D(2, 2)(out)\n",
    "    \n",
    "    out = keras.layers.Conv2D(16, 5, activation='relu')(out)\n",
    "    out = keras.layers.AveragePooling2D(2, 2)(out)\n",
    "    \n",
    "    out = keras.layers.Dropout(rate = 0.2)(out) # randomly sets 20% of data values to 0\n",
    "    #extra convolution and dropout?\n",
    "    out = keras.layers.Flatten()(out)\n",
    "    out = keras.layers.Dense(120, activation='relu')(out)\n",
    "    out = keras.layers.Dense(84, activation='relu')(out)\n",
    "    out = keras.layers.Dense(25, name='prelogits')(out)  \n",
    "    out = keras.layers.Activation('softmax', name='logits')(out)\n",
    "    \n",
    "    # Creates model\n",
    "    mod = keras.Model(inputs=xIn, outputs=out) \n",
    "    \n",
    "    return mod\n",
    "\n",
    "# Declares the model and prepares it for training\n",
    "testMod2b = testModel_2b()\n",
    "testMod2b.compile(optimizer=opt, loss='sparse_categorical_crossentropy', metrics=['accuracy']) \n",
    "testMod2b.summary()"
   ]
  },
  {
   "cell_type": "code",
   "execution_count": 36,
   "metadata": {},
   "outputs": [
    {
     "name": "stdout",
     "output_type": "stream",
     "text": [
      "Train on 20591 samples, validate on 6864 samples\n",
      "Epoch 1/20\n",
      "20591/20591 [==============================] - 3s 136us/sample - loss: 1.8224 - acc: 0.4155 - val_loss: 0.8884 - val_acc: 0.7223\n",
      "Epoch 2/20\n",
      "20591/20591 [==============================] - 2s 109us/sample - loss: 0.9492 - acc: 0.6764 - val_loss: 0.5055 - val_acc: 0.8590\n",
      "Epoch 3/20\n",
      "20591/20591 [==============================] - 2s 99us/sample - loss: 0.7053 - acc: 0.7555 - val_loss: 0.3777 - val_acc: 0.8939\n",
      "Epoch 4/20\n",
      "20591/20591 [==============================] - 2s 100us/sample - loss: 0.5743 - acc: 0.8016 - val_loss: 0.2768 - val_acc: 0.9178\n",
      "Epoch 5/20\n",
      "20591/20591 [==============================] - 2s 102us/sample - loss: 0.4958 - acc: 0.8295 - val_loss: 0.2109 - val_acc: 0.9406\n",
      "Epoch 6/20\n",
      "20591/20591 [==============================] - 2s 103us/sample - loss: 0.4225 - acc: 0.8536 - val_loss: 0.1581 - val_acc: 0.9628\n",
      "Epoch 7/20\n",
      "20591/20591 [==============================] - 2s 103us/sample - loss: 0.3763 - acc: 0.8711 - val_loss: 0.1279 - val_acc: 0.9741\n",
      "Epoch 8/20\n",
      "20591/20591 [==============================] - 2s 97us/sample - loss: 0.3439 - acc: 0.8807 - val_loss: 0.1084 - val_acc: 0.9768\n",
      "Epoch 9/20\n",
      "20591/20591 [==============================] - 2s 118us/sample - loss: 0.3056 - acc: 0.8950 - val_loss: 0.0841 - val_acc: 0.9859\n",
      "Epoch 10/20\n",
      "20591/20591 [==============================] - 2s 114us/sample - loss: 0.2861 - acc: 0.9023 - val_loss: 0.0816 - val_acc: 0.9853\n",
      "Epoch 11/20\n",
      "20591/20591 [==============================] - 2s 102us/sample - loss: 0.2620 - acc: 0.9117 - val_loss: 0.0724 - val_acc: 0.9857\n",
      "Epoch 12/20\n",
      "20591/20591 [==============================] - 2s 100us/sample - loss: 0.2458 - acc: 0.9161 - val_loss: 0.0479 - val_acc: 0.9942\n",
      "Epoch 13/20\n",
      "20591/20591 [==============================] - 2s 104us/sample - loss: 0.2312 - acc: 0.9220 - val_loss: 0.0473 - val_acc: 0.9945\n",
      "Epoch 14/20\n",
      "20591/20591 [==============================] - 2s 96us/sample - loss: 0.2016 - acc: 0.9321 - val_loss: 0.0337 - val_acc: 0.9981\n",
      "Epoch 15/20\n",
      "20591/20591 [==============================] - 2s 101us/sample - loss: 0.1934 - acc: 0.9346 - val_loss: 0.0381 - val_acc: 0.9949\n",
      "Epoch 16/20\n",
      "20591/20591 [==============================] - 2s 105us/sample - loss: 0.1926 - acc: 0.9326 - val_loss: 0.0378 - val_acc: 0.9966\n",
      "Epoch 17/20\n",
      "20591/20591 [==============================] - 2s 100us/sample - loss: 0.1919 - acc: 0.9335 - val_loss: 0.0307 - val_acc: 0.9981\n",
      "Epoch 18/20\n",
      "20591/20591 [==============================] - 2s 102us/sample - loss: 0.1802 - acc: 0.9393 - val_loss: 0.0293 - val_acc: 0.9978\n",
      "Epoch 19/20\n",
      "20591/20591 [==============================] - 2s 110us/sample - loss: 0.1506 - acc: 0.9477 - val_loss: 0.0198 - val_acc: 0.9987\n",
      "Epoch 20/20\n",
      "20591/20591 [==============================] - 2s 103us/sample - loss: 0.1405 - acc: 0.9528 - val_loss: 0.0153 - val_acc: 0.9996\n"
     ]
    }
   ],
   "source": [
    "testMod2bHist = testMod2b.fit(cnn_x_train, y_train, validation_split = 0.25, \n",
    "                       batch_size=50, epochs=20, shuffle=True, callbacks = [early_stopping, history])"
   ]
  },
  {
   "cell_type": "code",
   "execution_count": 37,
   "metadata": {},
   "outputs": [
    {
     "data": {
      "text/plain": [
       "<matplotlib.legend.Legend at 0x7f40c852ee50>"
      ]
     },
     "execution_count": 37,
     "metadata": {},
     "output_type": "execute_result"
    },
    {
     "data": {
      "image/png": "[encoded data removed]",
      "text/plain": [
       "<Figure size 432x288 with 1 Axes>"
      ]
     },
     "metadata": {
      "needs_background": "light"
     },
     "output_type": "display_data"
    }
   ],
   "source": [
    "# testMod2aHist.history# training loss\n",
    "a = testMod2bHist.history['loss']\n",
    "b = testMod2bHist.history['val_loss']\n",
    "plt.plot(range(len(a)),a)\n",
    "plt.plot(range(len(b)),b)\n",
    "plt.xlabel('Epochs')\n",
    "plt.ylabel('Loss')\n",
    "plt.legend(['Loss','Validation Loss'])"
   ]
  },
  {
   "cell_type": "code",
   "execution_count": 38,
   "metadata": {},
   "outputs": [
    {
     "name": "stdout",
     "output_type": "stream",
     "text": [
      "7172/7172 [==============================] - 1s 70us/sample - loss: 0.4765 - acc: 0.8714\n",
      "Test accuracy for this model is 0.8714445233345032\n"
     ]
    }
   ],
   "source": [
    "# Evaluate the trained network on the testing dataset\n",
    "testLoss, testAcc = testMod2b.evaluate(cnn_x_test, y_test)\n",
    "print(\"Test accuracy for this model is {}\".format(testAcc))"
   ]
  },
  {
   "cell_type": "markdown",
   "metadata": {},
   "source": [
    "### Test #3\n",
    "- add both dropout layers together"
   ]
  },
  {
   "cell_type": "code",
   "execution_count": 110,
   "metadata": {},
   "outputs": [
    {
     "name": "stdout",
     "output_type": "stream",
     "text": [
      "Model: \"model_16\"\n",
      "_________________________________________________________________\n",
      "Layer (type)                 Output Shape              Param #   \n",
      "=================================================================\n",
      "input_21 (InputLayer)        [(None, 28, 28, 1)]       0         \n",
      "_________________________________________________________________\n",
      "conv2d_109 (Conv2D)          (None, 24, 24, 6)         156       \n",
      "_________________________________________________________________\n",
      "average_pooling2d_17 (Averag (None, 12, 12, 6)         0         \n",
      "_________________________________________________________________\n",
      "dropout_7 (Dropout)          (None, 12, 12, 6)         0         \n",
      "_________________________________________________________________\n",
      "conv2d_110 (Conv2D)          (None, 8, 8, 16)          2416      \n",
      "_________________________________________________________________\n",
      "average_pooling2d_18 (Averag (None, 4, 4, 16)          0         \n",
      "_________________________________________________________________\n",
      "dropout_8 (Dropout)          (None, 4, 4, 16)          0         \n",
      "_________________________________________________________________\n",
      "flatten_15 (Flatten)         (None, 256)               0         \n",
      "_________________________________________________________________\n",
      "dense_40 (Dense)             (None, 120)               30840     \n",
      "_________________________________________________________________\n",
      "dense_41 (Dense)             (None, 84)                10164     \n",
      "_________________________________________________________________\n",
      "prelogits (Dense)            (None, 25)                2125      \n",
      "_________________________________________________________________\n",
      "logits (Activation)          (None, 25)                0         \n",
      "=================================================================\n",
      "Total params: 45,701\n",
      "Trainable params: 45,701\n",
      "Non-trainable params: 0\n",
      "_________________________________________________________________\n"
     ]
    }
   ],
   "source": [
    "# LeNet model with 10 % dropoout after second pooling\n",
    "def testModel_3():\n",
    "    # input\n",
    "    xIn = keras.Input(shape=(28,28,1))\n",
    "    \n",
    "    # subsequent layers\n",
    "    out = keras.layers.Conv2D(6, 5, activation='relu')(xIn)\n",
    "    out = keras.layers.AveragePooling2D(2, 2)(out)\n",
    "    \n",
    "    out = keras.layers.Dropout(rate = 0.1)(out) # randomly sets 10% of data values to 0\n",
    "    \n",
    "    out = keras.layers.Conv2D(16, 5, activation='relu')(out)\n",
    "    out = keras.layers.AveragePooling2D(2, 2)(out)\n",
    "    \n",
    "    out = keras.layers.Dropout(rate = 0.2)(out) # randomly sets 20% of data values to 0\n",
    "    \n",
    "    #extra convolution and dropout?\n",
    "    out = keras.layers.Flatten()(out)\n",
    "    out = keras.layers.Dense(120, activation='relu')(out)\n",
    "    out = keras.layers.Dense(84, activation='relu')(out)\n",
    "    out = keras.layers.Dense(25, name='prelogits')(out)  \n",
    "    out = keras.layers.Activation('softmax', name='logits')(out)\n",
    "    \n",
    "    # Creates model\n",
    "    mod = keras.Model(inputs=xIn, outputs=out) \n",
    "    \n",
    "    return mod\n",
    "\n",
    "# Declares the model and prepares it for training\n",
    "testMod3 = testModel_3()\n",
    "testMod3.compile(optimizer=opt, loss='sparse_categorical_crossentropy', metrics=['accuracy']) \n",
    "testMod3.summary()"
   ]
  },
  {
   "cell_type": "code",
   "execution_count": 111,
   "metadata": {},
   "outputs": [
    {
     "name": "stdout",
     "output_type": "stream",
     "text": [
      "Train on 20591 samples, validate on 6864 samples\n",
      "Epoch 1/20\n",
      "20591/20591 [==============================] - 5s 227us/sample - loss: 1.8268 - acc: 0.4222 - val_loss: 0.7234 - val_acc: 0.7679\n",
      "Epoch 2/20\n",
      "20591/20591 [==============================] - 3s 150us/sample - loss: 0.6587 - acc: 0.7743 - val_loss: 0.3124 - val_acc: 0.9054\n",
      "Epoch 3/20\n",
      "20591/20591 [==============================] - 3s 146us/sample - loss: 0.3705 - acc: 0.8736 - val_loss: 0.1343 - val_acc: 0.9732\n",
      "Epoch 4/20\n",
      "20591/20591 [==============================] - 3s 151us/sample - loss: 0.2428 - acc: 0.9198 - val_loss: 0.0687 - val_acc: 0.9889\n",
      "Epoch 5/20\n",
      "20591/20591 [==============================] - 3s 160us/sample - loss: 0.1735 - acc: 0.9437 - val_loss: 0.0500 - val_acc: 0.9917\n",
      "Epoch 6/20\n",
      "20591/20591 [==============================] - 3s 164us/sample - loss: 0.1356 - acc: 0.9568 - val_loss: 0.0348 - val_acc: 0.9940\n",
      "Epoch 7/20\n",
      "20591/20591 [==============================] - 3s 152us/sample - loss: 0.1089 - acc: 0.9655 - val_loss: 0.0216 - val_acc: 0.9983\n",
      "Epoch 8/20\n",
      "20591/20591 [==============================] - 3s 144us/sample - loss: 0.0846 - acc: 0.9734 - val_loss: 0.0184 - val_acc: 0.9958\n",
      "Epoch 9/20\n",
      "20591/20591 [==============================] - 3s 129us/sample - loss: 0.0742 - acc: 0.9767 - val_loss: 0.0086 - val_acc: 0.9996\n",
      "Epoch 10/20\n",
      "20591/20591 [==============================] - 3s 144us/sample - loss: 0.0673 - acc: 0.9788 - val_loss: 0.0087 - val_acc: 0.9999\n",
      "Epoch 11/20\n",
      "20591/20591 [==============================] - 3s 148us/sample - loss: 0.0536 - acc: 0.9841 - val_loss: 0.0039 - val_acc: 0.9997\n",
      "Epoch 12/20\n",
      "20591/20591 [==============================] - 3s 151us/sample - loss: 0.0483 - acc: 0.9852 - val_loss: 0.0033 - val_acc: 1.0000\n",
      "Epoch 13/20\n",
      "20591/20591 [==============================] - 3s 154us/sample - loss: 0.0418 - acc: 0.9870 - val_loss: 0.0020 - val_acc: 1.0000\n",
      "Epoch 14/20\n",
      "20591/20591 [==============================] - 3s 152us/sample - loss: 0.0392 - acc: 0.9877 - val_loss: 0.0024 - val_acc: 1.0000\n",
      "Epoch 15/20\n",
      "20591/20591 [==============================] - 3s 140us/sample - loss: 0.0367 - acc: 0.9878 - val_loss: 0.0017 - val_acc: 1.0000\n",
      "Epoch 16/20\n",
      "20591/20591 [==============================] - 3s 150us/sample - loss: 0.0328 - acc: 0.9900 - val_loss: 0.0023 - val_acc: 1.0000\n",
      "Epoch 17/20\n",
      "20591/20591 [==============================] - 3s 142us/sample - loss: 0.0281 - acc: 0.9909 - val_loss: 0.0043 - val_acc: 0.9988\n",
      "Epoch 18/20\n",
      "20591/20591 [==============================] - 3s 131us/sample - loss: 0.0308 - acc: 0.9907 - val_loss: 0.0012 - val_acc: 1.0000\n",
      "Epoch 19/20\n",
      "20591/20591 [==============================] - 3s 127us/sample - loss: 0.0289 - acc: 0.9910 - val_loss: 0.0012 - val_acc: 1.0000\n",
      "Epoch 20/20\n",
      "20591/20591 [==============================] - 3s 162us/sample - loss: 0.0239 - acc: 0.9923 - val_loss: 7.5914e-04 - val_acc: 1.0000\n"
     ]
    }
   ],
   "source": [
    "testMod3Hist = testMod3.fit(cnn_x_train, y_train, validation_split = 0.25, \n",
    "                       batch_size=50, epochs=20, shuffle=True, callbacks = [early_stopping, history])"
   ]
  },
  {
   "cell_type": "code",
   "execution_count": 112,
   "metadata": {},
   "outputs": [
    {
     "data": {
      "text/plain": [
       "<matplotlib.legend.Legend at 0x7f25d43b5b10>"
      ]
     },
     "execution_count": 112,
     "metadata": {},
     "output_type": "execute_result"
    },
    {
     "data": {
      "image/png": "[encoded data removed]",
      "text/plain": [
       "<Figure size 432x288 with 1 Axes>"
      ]
     },
     "metadata": {
      "needs_background": "light"
     },
     "output_type": "display_data"
    }
   ],
   "source": [
    "# testMod2aHist.history# training loss\n",
    "a = testMod3Hist.history['loss']\n",
    "b = testMod3Hist.history['val_loss']\n",
    "plt.plot(range(len(a)),a)\n",
    "plt.plot(range(len(b)),b)\n",
    "plt.xlabel('Epochs')\n",
    "plt.ylabel('Loss')\n",
    "plt.legend(['Loss','Validation Loss'])"
   ]
  },
  {
   "cell_type": "code",
   "execution_count": 113,
   "metadata": {},
   "outputs": [
    {
     "name": "stdout",
     "output_type": "stream",
     "text": [
      "7172/7172 [==============================] - 1s 106us/sample - loss: 0.2908 - acc: 0.9260\n",
      "Test accuracy for this model is 0.9259620904922485\n"
     ]
    }
   ],
   "source": [
    "# Evaluate the trained network on the testing dataset\n",
    "testLoss, testAcc = testMod3.evaluate(cnn_x_test, y_test)\n",
    "print(\"Test accuracy for this model is {}\".format(testAcc))"
   ]
  },
  {
   "cell_type": "markdown",
   "metadata": {},
   "source": [
    "### Best performance so far is with 2b - 20% dropout after second convolution and pooling\n",
    "### now test adding and "
   ]
  },
  {
   "cell_type": "markdown",
   "metadata": {},
   "source": [
    "### Test #4\n",
    "- remove dense layer 1 and 2 \n",
    "- combine best w/ 2b"
   ]
  },
  {
   "cell_type": "code",
   "execution_count": 114,
   "metadata": {},
   "outputs": [
    {
     "name": "stdout",
     "output_type": "stream",
     "text": [
      "Model: \"model_17\"\n",
      "_________________________________________________________________\n",
      "Layer (type)                 Output Shape              Param #   \n",
      "=================================================================\n",
      "input_22 (InputLayer)        [(None, 28, 28, 1)]       0         \n",
      "_________________________________________________________________\n",
      "conv2d_111 (Conv2D)          (None, 24, 24, 6)         156       \n",
      "_________________________________________________________________\n",
      "average_pooling2d_19 (Averag (None, 12, 12, 6)         0         \n",
      "_________________________________________________________________\n",
      "conv2d_112 (Conv2D)          (None, 8, 8, 16)          2416      \n",
      "_________________________________________________________________\n",
      "average_pooling2d_20 (Averag (None, 4, 4, 16)          0         \n",
      "_________________________________________________________________\n",
      "flatten_16 (Flatten)         (None, 256)               0         \n",
      "_________________________________________________________________\n",
      "dense_42 (Dense)             (None, 84)                21588     \n",
      "_________________________________________________________________\n",
      "prelogits (Dense)            (None, 25)                2125      \n",
      "_________________________________________________________________\n",
      "logits (Activation)          (None, 25)                0         \n",
      "=================================================================\n",
      "Total params: 26,285\n",
      "Trainable params: 26,285\n",
      "Non-trainable params: 0\n",
      "_________________________________________________________________\n"
     ]
    }
   ],
   "source": [
    "# LeNet model with one less dense layer\n",
    "def testModel_4a():\n",
    "    # input\n",
    "    xIn = keras.Input(shape=(28,28,1))\n",
    "    \n",
    "    # subsequent layers\n",
    "    out = keras.layers.Conv2D(6, 5, activation='relu')(xIn)\n",
    "    out = keras.layers.AveragePooling2D(2, 2)(out) \n",
    "    out = keras.layers.Conv2D(16, 5, activation='relu')(out)\n",
    "    out = keras.layers.AveragePooling2D(2, 2)(out)\n",
    "    \n",
    "#   out = keras.layers.Dropout(rate = 0.2)(out) # randomly sets 20% of data values to 0\n",
    "    \n",
    "    #extra convolution and dropout?\n",
    "    out = keras.layers.Flatten()(out)\n",
    "#   out = keras.layers.Dense(120, activation='relu')(out)\n",
    "    out = keras.layers.Dense(84, activation='relu')(out)\n",
    "    out = keras.layers.Dense(25, name='prelogits')(out)  \n",
    "    out = keras.layers.Activation('softmax', name='logits')(out)\n",
    "    \n",
    "    # Creates model\n",
    "    mod = keras.Model(inputs=xIn, outputs=out) \n",
    "    \n",
    "    return mod\n",
    "\n",
    "# Declares the model and prepares it for training\n",
    "testMod4a = testModel_4a()\n",
    "testMod4a.compile(optimizer=opt, loss='sparse_categorical_crossentropy', metrics=['accuracy']) \n",
    "testMod4a.summary()"
   ]
  },
  {
   "cell_type": "code",
   "execution_count": 115,
   "metadata": {},
   "outputs": [
    {
     "name": "stdout",
     "output_type": "stream",
     "text": [
      "Train on 20591 samples, validate on 6864 samples\n",
      "Epoch 1/20\n",
      "20591/20591 [==============================] - 4s 181us/sample - loss: 1.4598 - acc: 0.5438 - val_loss: 0.8447 - val_acc: 0.7315\n",
      "Epoch 2/20\n",
      "20591/20591 [==============================] - 3s 126us/sample - loss: 0.6313 - acc: 0.7971 - val_loss: 0.4526 - val_acc: 0.8488\n",
      "Epoch 3/20\n",
      "20591/20591 [==============================] - 2s 118us/sample - loss: 0.3544 - acc: 0.8864 - val_loss: 0.2486 - val_acc: 0.9273\n",
      "Epoch 4/20\n",
      "20591/20591 [==============================] - 3s 135us/sample - loss: 0.2083 - acc: 0.9399 - val_loss: 0.1392 - val_acc: 0.9652\n",
      "Epoch 5/20\n",
      "20591/20591 [==============================] - 3s 140us/sample - loss: 0.1181 - acc: 0.9712 - val_loss: 0.0905 - val_acc: 0.9771\n",
      "Epoch 6/20\n",
      "20591/20591 [==============================] - 3s 136us/sample - loss: 0.0739 - acc: 0.9846 - val_loss: 0.0460 - val_acc: 0.9929\n",
      "Epoch 7/20\n",
      "20591/20591 [==============================] - 3s 144us/sample - loss: 0.0438 - acc: 0.9931 - val_loss: 0.0374 - val_acc: 0.9929\n",
      "Epoch 8/20\n",
      "20591/20591 [==============================] - 3s 148us/sample - loss: 0.0309 - acc: 0.9954 - val_loss: 0.0176 - val_acc: 0.9996\n",
      "Epoch 9/20\n",
      "20591/20591 [==============================] - 3s 135us/sample - loss: 0.0172 - acc: 0.9986 - val_loss: 0.0110 - val_acc: 0.9996\n",
      "Epoch 10/20\n",
      "20591/20591 [==============================] - 3s 124us/sample - loss: 0.0277 - acc: 0.9939 - val_loss: 0.0188 - val_acc: 0.9958\n",
      "Epoch 11/20\n",
      "20591/20591 [==============================] - 2s 115us/sample - loss: 0.0098 - acc: 0.9989 - val_loss: 0.0052 - val_acc: 1.0000\n",
      "Epoch 12/20\n",
      "20591/20591 [==============================] - 2s 102us/sample - loss: 0.0099 - acc: 0.9985 - val_loss: 0.0043 - val_acc: 1.0000\n",
      "Epoch 13/20\n",
      "20591/20591 [==============================] - 2s 113us/sample - loss: 0.0032 - acc: 0.9999 - val_loss: 0.0027 - val_acc: 0.9999\n",
      "Epoch 14/20\n",
      "20591/20591 [==============================] - 2s 121us/sample - loss: 0.0023 - acc: 1.0000 - val_loss: 0.0020 - val_acc: 1.0000\n",
      "Epoch 15/20\n",
      "20591/20591 [==============================] - 3s 127us/sample - loss: 0.0047 - acc: 0.9990 - val_loss: 0.0766 - val_acc: 0.9729\n",
      "Epoch 16/20\n",
      "20591/20591 [==============================] - 3s 130us/sample - loss: 0.0429 - acc: 0.9860 - val_loss: 0.0019 - val_acc: 1.0000\n",
      "Epoch 17/20\n",
      "20591/20591 [==============================] - 3s 131us/sample - loss: 0.0016 - acc: 1.0000 - val_loss: 0.0017 - val_acc: 1.0000\n",
      "Epoch 18/20\n",
      "20591/20591 [==============================] - 3s 132us/sample - loss: 0.0011 - acc: 1.0000 - val_loss: 0.0012 - val_acc: 1.0000\n",
      "Epoch 19/20\n",
      "20591/20591 [==============================] - 2s 120us/sample - loss: 0.0010 - acc: 1.0000 - val_loss: 9.6481e-04 - val_acc: 1.0000\n",
      "Epoch 20/20\n",
      "20591/20591 [==============================] - 3s 138us/sample - loss: 7.7097e-04 - acc: 1.0000 - val_loss: 7.8036e-04 - val_acc: 1.0000\n"
     ]
    }
   ],
   "source": [
    "testMod4aHist = testMod4a.fit(cnn_x_train, y_train, validation_split = 0.25, \n",
    "                       batch_size=50, epochs=20, shuffle=True, callbacks = [early_stopping, history])"
   ]
  },
  {
   "cell_type": "code",
   "execution_count": 116,
   "metadata": {},
   "outputs": [
    {
     "data": {
      "text/plain": [
       "<matplotlib.legend.Legend at 0x7f25d41cfd90>"
      ]
     },
     "execution_count": 116,
     "metadata": {},
     "output_type": "execute_result"
    },
    {
     "data": {
      "image/png": "[encoded data removed]",
      "text/plain": [
       "<Figure size 432x288 with 1 Axes>"
      ]
     },
     "metadata": {
      "needs_background": "light"
     },
     "output_type": "display_data"
    }
   ],
   "source": [
    "# testMod2aHist.history# training loss\n",
    "a = testMod4aHist.history['loss']\n",
    "b = testMod4aHist.history['val_loss']\n",
    "plt.plot(range(len(a)),a)\n",
    "plt.plot(range(len(b)),b)\n",
    "plt.xlabel('Epochs')\n",
    "plt.ylabel('Loss')\n",
    "plt.legend(['Loss','Validation Loss'])"
   ]
  },
  {
   "cell_type": "code",
   "execution_count": 117,
   "metadata": {},
   "outputs": [
    {
     "name": "stdout",
     "output_type": "stream",
     "text": [
      "7172/7172 [==============================] - 1s 88us/sample - loss: 0.9792 - acc: 0.8448\n",
      "Test accuracy for this model is 0.8448131680488586\n"
     ]
    }
   ],
   "source": [
    "# Evaluate the trained network on the testing dataset\n",
    "testLoss, testAcc = testMod4a.evaluate(cnn_x_test, y_test)\n",
    "print(\"Test accuracy for this model is {}\".format(testAcc))"
   ]
  },
  {
   "cell_type": "code",
   "execution_count": 118,
   "metadata": {},
   "outputs": [
    {
     "name": "stdout",
     "output_type": "stream",
     "text": [
      "Model: \"model_18\"\n",
      "_________________________________________________________________\n",
      "Layer (type)                 Output Shape              Param #   \n",
      "=================================================================\n",
      "input_23 (InputLayer)        [(None, 28, 28, 1)]       0         \n",
      "_________________________________________________________________\n",
      "conv2d_113 (Conv2D)          (None, 24, 24, 6)         156       \n",
      "_________________________________________________________________\n",
      "average_pooling2d_21 (Averag (None, 12, 12, 6)         0         \n",
      "_________________________________________________________________\n",
      "conv2d_114 (Conv2D)          (None, 8, 8, 16)          2416      \n",
      "_________________________________________________________________\n",
      "average_pooling2d_22 (Averag (None, 4, 4, 16)          0         \n",
      "_________________________________________________________________\n",
      "flatten_17 (Flatten)         (None, 256)               0         \n",
      "_________________________________________________________________\n",
      "dense_43 (Dense)             (None, 120)               30840     \n",
      "_________________________________________________________________\n",
      "prelogits (Dense)            (None, 25)                3025      \n",
      "_________________________________________________________________\n",
      "logits (Activation)          (None, 25)                0         \n",
      "=================================================================\n",
      "Total params: 36,437\n",
      "Trainable params: 36,437\n",
      "Non-trainable params: 0\n",
      "_________________________________________________________________\n"
     ]
    }
   ],
   "source": [
    "# LeNet model with one less dense layer\n",
    "def testModel_4b():\n",
    "    # input\n",
    "    xIn = keras.Input(shape=(28,28,1))\n",
    "    \n",
    "    # subsequent layers\n",
    "    out = keras.layers.Conv2D(6, 5, activation='relu')(xIn)\n",
    "    out = keras.layers.AveragePooling2D(2, 2)(out) \n",
    "    out = keras.layers.Conv2D(16, 5, activation='relu')(out)\n",
    "    out = keras.layers.AveragePooling2D(2, 2)(out)\n",
    "    \n",
    "#   out = keras.layers.Dropout(rate = 0.2)(out) # randomly sets 20% of data values to 0\n",
    "    \n",
    "    #extra convolution and dropout?\n",
    "    out = keras.layers.Flatten()(out)\n",
    "    out = keras.layers.Dense(120, activation='relu')(out)\n",
    "#   out = keras.layers.Dense(84, activation='relu')(out)\n",
    "    out = keras.layers.Dense(25, name='prelogits')(out)  \n",
    "    out = keras.layers.Activation('softmax', name='logits')(out)\n",
    "    \n",
    "    # Creates model\n",
    "    mod = keras.Model(inputs=xIn, outputs=out) \n",
    "    \n",
    "    return mod\n",
    "\n",
    "# Declares the model and prepares it for training\n",
    "testMod4b = testModel_4b()\n",
    "testMod4b.compile(optimizer=opt, loss='sparse_categorical_crossentropy', metrics=['accuracy']) \n",
    "testMod4b.summary()"
   ]
  },
  {
   "cell_type": "code",
   "execution_count": 119,
   "metadata": {},
   "outputs": [
    {
     "name": "stdout",
     "output_type": "stream",
     "text": [
      "Train on 20591 samples, validate on 6864 samples\n",
      "Epoch 1/20\n",
      "20591/20591 [==============================] - 4s 188us/sample - loss: 1.2620 - acc: 0.6013 - val_loss: 0.5018 - val_acc: 0.8389\n",
      "Epoch 2/20\n",
      "20591/20591 [==============================] - 3s 149us/sample - loss: 0.3168 - acc: 0.9038 - val_loss: 0.1603 - val_acc: 0.9578\n",
      "Epoch 3/20\n",
      "20591/20591 [==============================] - 2s 110us/sample - loss: 0.1175 - acc: 0.9707 - val_loss: 0.0573 - val_acc: 0.9927\n",
      "Epoch 4/20\n",
      "20591/20591 [==============================] - 3s 129us/sample - loss: 0.0499 - acc: 0.9924 - val_loss: 0.0412 - val_acc: 0.9929\n",
      "Epoch 5/20\n",
      "20591/20591 [==============================] - 3s 139us/sample - loss: 0.0272 - acc: 0.9966 - val_loss: 0.0157 - val_acc: 0.9991\n",
      "Epoch 6/20\n",
      "20591/20591 [==============================] - 3s 142us/sample - loss: 0.0122 - acc: 0.9993 - val_loss: 0.0081 - val_acc: 0.9996\n",
      "Epoch 7/20\n",
      "20591/20591 [==============================] - 2s 117us/sample - loss: 0.0092 - acc: 0.9993 - val_loss: 0.0132 - val_acc: 0.9981\n",
      "Epoch 8/20\n",
      "20591/20591 [==============================] - 3s 135us/sample - loss: 0.0065 - acc: 0.9995 - val_loss: 0.0033 - val_acc: 1.0000\n",
      "Epoch 9/20\n",
      "20591/20591 [==============================] - 3s 145us/sample - loss: 0.0028 - acc: 1.0000 - val_loss: 0.0021 - val_acc: 0.9999\n",
      "Epoch 10/20\n",
      "20591/20591 [==============================] - 3s 140us/sample - loss: 0.0017 - acc: 1.0000 - val_loss: 0.0019 - val_acc: 0.9999\n",
      "Epoch 11/20\n",
      "20591/20591 [==============================] - 3s 138us/sample - loss: 0.0362 - acc: 0.9885 - val_loss: 0.0027 - val_acc: 1.0000\n",
      "Epoch 12/20\n",
      "20591/20591 [==============================] - 3s 149us/sample - loss: 0.0017 - acc: 1.0000 - val_loss: 0.0012 - val_acc: 1.0000\n",
      "Epoch 13/20\n",
      "20591/20591 [==============================] - 3s 137us/sample - loss: 9.8907e-04 - acc: 1.0000 - val_loss: 9.1322e-04 - val_acc: 1.0000\n",
      "Epoch 14/20\n",
      "20591/20591 [==============================] - 3s 130us/sample - loss: 0.0121 - acc: 0.9960 - val_loss: 0.0274 - val_acc: 0.9916\n",
      "Epoch 15/20\n",
      "20591/20591 [==============================] - 3s 138us/sample - loss: 0.0067 - acc: 0.9983 - val_loss: 0.0010 - val_acc: 0.9999\n",
      "Epoch 16/20\n",
      "20591/20591 [==============================] - 3s 127us/sample - loss: 0.0016 - acc: 0.9997 - val_loss: 5.7798e-04 - val_acc: 1.0000\n",
      "Epoch 17/20\n",
      "20591/20591 [==============================] - 3s 124us/sample - loss: 4.8273e-04 - acc: 1.0000 - val_loss: 3.9734e-04 - val_acc: 1.0000\n",
      "Epoch 18/20\n",
      "20591/20591 [==============================] - 3s 141us/sample - loss: 3.6742e-04 - acc: 1.0000 - val_loss: 3.5602e-04 - val_acc: 1.0000\n",
      "Epoch 19/20\n",
      "20591/20591 [==============================] - 3s 131us/sample - loss: 2.9431e-04 - acc: 1.0000 - val_loss: 2.6594e-04 - val_acc: 1.0000\n",
      "Epoch 20/20\n",
      "20591/20591 [==============================] - 3s 140us/sample - loss: 2.4320e-04 - acc: 1.0000 - val_loss: 2.0863e-04 - val_acc: 1.0000\n"
     ]
    }
   ],
   "source": [
    "testMod4bHist = testMod4b.fit(cnn_x_train, y_train, validation_split = 0.25, \n",
    "                       batch_size=50, epochs=20, shuffle=True, callbacks = [early_stopping, history])"
   ]
  },
  {
   "cell_type": "code",
   "execution_count": 120,
   "metadata": {},
   "outputs": [
    {
     "data": {
      "text/plain": [
       "<matplotlib.legend.Legend at 0x7f25d406bdd0>"
      ]
     },
     "execution_count": 120,
     "metadata": {},
     "output_type": "execute_result"
    },
    {
     "data": {
      "image/png": "[encoded data removed]",
      "text/plain": [
       "<Figure size 432x288 with 1 Axes>"
      ]
     },
     "metadata": {
      "needs_background": "light"
     },
     "output_type": "display_data"
    }
   ],
   "source": [
    "# testMod2aHist.history# training loss\n",
    "a = testMod4bHist.history['loss']\n",
    "b = testMod4bHist.history['val_loss']\n",
    "plt.plot(range(len(a)),a)\n",
    "plt.plot(range(len(b)),b)\n",
    "plt.xlabel('Epochs')\n",
    "plt.ylabel('Loss')\n",
    "plt.legend(['Loss','Validation Loss'])"
   ]
  },
  {
   "cell_type": "code",
   "execution_count": 121,
   "metadata": {},
   "outputs": [
    {
     "name": "stdout",
     "output_type": "stream",
     "text": [
      "7172/7172 [==============================] - 1s 99us/sample - loss: 0.7827 - acc: 0.8516\n",
      "Test accuracy for this model is 0.851645290851593\n"
     ]
    }
   ],
   "source": [
    "# Evaluate the trained network on the testing dataset\n",
    "testLoss, testAcc = testMod4b.evaluate(cnn_x_test, y_test)\n",
    "print(\"Test accuracy for this model is {}\".format(testAcc))"
   ]
  },
  {
   "cell_type": "code",
   "execution_count": 122,
   "metadata": {},
   "outputs": [
    {
     "name": "stdout",
     "output_type": "stream",
     "text": [
      "Model: \"model_19\"\n",
      "_________________________________________________________________\n",
      "Layer (type)                 Output Shape              Param #   \n",
      "=================================================================\n",
      "input_24 (InputLayer)        [(None, 28, 28, 1)]       0         \n",
      "_________________________________________________________________\n",
      "conv2d_115 (Conv2D)          (None, 24, 24, 6)         156       \n",
      "_________________________________________________________________\n",
      "average_pooling2d_23 (Averag (None, 12, 12, 6)         0         \n",
      "_________________________________________________________________\n",
      "conv2d_116 (Conv2D)          (None, 8, 8, 16)          2416      \n",
      "_________________________________________________________________\n",
      "average_pooling2d_24 (Averag (None, 4, 4, 16)          0         \n",
      "_________________________________________________________________\n",
      "dropout_9 (Dropout)          (None, 4, 4, 16)          0         \n",
      "_________________________________________________________________\n",
      "flatten_18 (Flatten)         (None, 256)               0         \n",
      "_________________________________________________________________\n",
      "dense_44 (Dense)             (None, 120)               30840     \n",
      "_________________________________________________________________\n",
      "prelogits (Dense)            (None, 25)                3025      \n",
      "_________________________________________________________________\n",
      "logits (Activation)          (None, 25)                0         \n",
      "=================================================================\n",
      "Total params: 36,437\n",
      "Trainable params: 36,437\n",
      "Non-trainable params: 0\n",
      "_________________________________________________________________\n"
     ]
    }
   ],
   "source": [
    "# LeNet model with one less dense layer and 20% dropout after second pooling\n",
    "def testModel_4c():\n",
    "    # input\n",
    "    xIn = keras.Input(shape=(28,28,1))\n",
    "    \n",
    "    # subsequent layers\n",
    "    out = keras.layers.Conv2D(6, 5, activation='relu')(xIn)\n",
    "    out = keras.layers.AveragePooling2D(2, 2)(out) \n",
    "    out = keras.layers.Conv2D(16, 5, activation='relu')(out)\n",
    "    out = keras.layers.AveragePooling2D(2, 2)(out)\n",
    "    \n",
    "    out = keras.layers.Dropout(rate = 0.2)(out) # randomly sets 20% of data values to 0\n",
    "    \n",
    "    #extra convolution and dropout?\n",
    "    out = keras.layers.Flatten()(out)\n",
    "    out = keras.layers.Dense(120, activation='relu')(out)\n",
    "#   out = keras.layers.Dense(84, activation='relu')(out)\n",
    "    out = keras.layers.Dense(25, name='prelogits')(out)  \n",
    "    out = keras.layers.Activation('softmax', name='logits')(out)\n",
    "    \n",
    "    # Creates model\n",
    "    mod = keras.Model(inputs=xIn, outputs=out) \n",
    "    \n",
    "    return mod\n",
    "\n",
    "# Declares the model and prepares it for training\n",
    "testMod4c = testModel_4c()\n",
    "testMod4c.compile(optimizer=opt, loss='sparse_categorical_crossentropy', metrics=['accuracy']) \n",
    "testMod4c.summary()"
   ]
  },
  {
   "cell_type": "code",
   "execution_count": 123,
   "metadata": {},
   "outputs": [
    {
     "name": "stdout",
     "output_type": "stream",
     "text": [
      "Train on 20591 samples, validate on 6864 samples\n",
      "Epoch 1/20\n",
      "20591/20591 [==============================] - 4s 195us/sample - loss: 1.4005 - acc: 0.5598 - val_loss: 0.5132 - val_acc: 0.8593\n",
      "Epoch 2/20\n",
      "20591/20591 [==============================] - 3s 145us/sample - loss: 0.5216 - acc: 0.8275 - val_loss: 0.2389 - val_acc: 0.9387\n",
      "Epoch 3/20\n",
      "20591/20591 [==============================] - 3s 142us/sample - loss: 0.3289 - acc: 0.8907 - val_loss: 0.1328 - val_acc: 0.9674\n",
      "Epoch 4/20\n",
      "20591/20591 [==============================] - 3s 135us/sample - loss: 0.2347 - acc: 0.9222 - val_loss: 0.0838 - val_acc: 0.9847\n",
      "Epoch 5/20\n",
      "20591/20591 [==============================] - 3s 127us/sample - loss: 0.1779 - acc: 0.9398 - val_loss: 0.0467 - val_acc: 0.9936\n",
      "Epoch 6/20\n",
      "20591/20591 [==============================] - 2s 120us/sample - loss: 0.1480 - acc: 0.9514 - val_loss: 0.0378 - val_acc: 0.9983\n",
      "Epoch 7/20\n",
      "20591/20591 [==============================] - 2s 114us/sample - loss: 0.1222 - acc: 0.9596 - val_loss: 0.0279 - val_acc: 0.9975\n",
      "Epoch 8/20\n",
      "20591/20591 [==============================] - 3s 156us/sample - loss: 0.1031 - acc: 0.9662 - val_loss: 0.0225 - val_acc: 0.9984\n",
      "Epoch 9/20\n",
      "20591/20591 [==============================] - 3s 158us/sample - loss: 0.0888 - acc: 0.9722 - val_loss: 0.0194 - val_acc: 0.9985\n",
      "Epoch 10/20\n",
      "20591/20591 [==============================] - 3s 128us/sample - loss: 0.0779 - acc: 0.9754 - val_loss: 0.0136 - val_acc: 0.9984\n",
      "Epoch 11/20\n",
      "20591/20591 [==============================] - 3s 146us/sample - loss: 0.0697 - acc: 0.9779 - val_loss: 0.0116 - val_acc: 0.9991\n",
      "Epoch 12/20\n",
      "20591/20591 [==============================] - 3s 158us/sample - loss: 0.0632 - acc: 0.9797 - val_loss: 0.0080 - val_acc: 0.9985\n",
      "Epoch 13/20\n",
      "20591/20591 [==============================] - 3s 155us/sample - loss: 0.0580 - acc: 0.9820 - val_loss: 0.0075 - val_acc: 0.9991\n",
      "Epoch 14/20\n",
      "20591/20591 [==============================] - 3s 146us/sample - loss: 0.0537 - acc: 0.9825 - val_loss: 0.0070 - val_acc: 0.9999\n",
      "Epoch 15/20\n",
      "20591/20591 [==============================] - 3s 143us/sample - loss: 0.0515 - acc: 0.9842 - val_loss: 0.0054 - val_acc: 0.9996\n",
      "Epoch 16/20\n",
      "20591/20591 [==============================] - 3s 150us/sample - loss: 0.0455 - acc: 0.9854 - val_loss: 0.0027 - val_acc: 1.0000\n",
      "Epoch 17/20\n",
      "20591/20591 [==============================] - 3s 145us/sample - loss: 0.0394 - acc: 0.9882 - val_loss: 0.0024 - val_acc: 1.0000\n",
      "Epoch 18/20\n",
      "20591/20591 [==============================] - 3s 136us/sample - loss: 0.0365 - acc: 0.9892 - val_loss: 0.0019 - val_acc: 1.0000\n",
      "Epoch 19/20\n",
      "20591/20591 [==============================] - 3s 128us/sample - loss: 0.0401 - acc: 0.9871 - val_loss: 0.0041 - val_acc: 0.9991\n",
      "Epoch 20/20\n",
      "20591/20591 [==============================] - 3s 138us/sample - loss: 0.0317 - acc: 0.9897 - val_loss: 0.0032 - val_acc: 1.0000\n"
     ]
    }
   ],
   "source": [
    "testMod4cHist = testMod4c.fit(cnn_x_train, y_train, validation_split = 0.25, \n",
    "                       batch_size=50, epochs=20, shuffle=True, callbacks = [early_stopping, history])"
   ]
  },
  {
   "cell_type": "code",
   "execution_count": 124,
   "metadata": {},
   "outputs": [
    {
     "data": {
      "text/plain": [
       "<matplotlib.legend.Legend at 0x7f25b4661d50>"
      ]
     },
     "execution_count": 124,
     "metadata": {},
     "output_type": "execute_result"
    },
    {
     "data": {
      "image/png": "[encoded data removed]",
      "text/plain": [
       "<Figure size 432x288 with 1 Axes>"
      ]
     },
     "metadata": {
      "needs_background": "light"
     },
     "output_type": "display_data"
    }
   ],
   "source": [
    "# testMod2aHist.history# training loss\n",
    "a = testMod4cHist.history['loss']\n",
    "b = testMod4cHist.history['val_loss']\n",
    "plt.plot(range(len(a)),a)\n",
    "plt.plot(range(len(b)),b)\n",
    "plt.xlabel('Epochs')\n",
    "plt.ylabel('Loss')\n",
    "plt.legend(['Loss','Validation Loss'])"
   ]
  },
  {
   "cell_type": "code",
   "execution_count": 125,
   "metadata": {},
   "outputs": [
    {
     "name": "stdout",
     "output_type": "stream",
     "text": [
      "7172/7172 [==============================] - 1s 98us/sample - loss: 0.3989 - acc: 0.8940\n",
      "Test accuracy for this model is 0.89403235912323\n"
     ]
    }
   ],
   "source": [
    "# Evaluate the trained network on the testing dataset\n",
    "testLoss, testAcc = testMod4c.evaluate(cnn_x_test, y_test)\n",
    "print(\"Test accuracy for this model is {}\".format(testAcc))"
   ]
  },
  {
   "cell_type": "markdown",
   "metadata": {},
   "source": [
    "## combination of dropped dense layer and dropout not as good as dropout alone"
   ]
  },
  {
   "cell_type": "markdown",
   "metadata": {},
   "source": [
    "### Test #5\n",
    "- add extra convolution layer before pooling\n",
    "- combine it with dropout\n",
    "- combine with dropout and dense layer missing"
   ]
  },
  {
   "cell_type": "code",
   "execution_count": 126,
   "metadata": {},
   "outputs": [
    {
     "name": "stdout",
     "output_type": "stream",
     "text": [
      "Model: \"model_20\"\n",
      "_________________________________________________________________\n",
      "Layer (type)                 Output Shape              Param #   \n",
      "=================================================================\n",
      "input_25 (InputLayer)        [(None, 28, 28, 1)]       0         \n",
      "_________________________________________________________________\n",
      "conv2d_117 (Conv2D)          (None, 24, 24, 6)         156       \n",
      "_________________________________________________________________\n",
      "average_pooling2d_25 (Averag (None, 12, 12, 6)         0         \n",
      "_________________________________________________________________\n",
      "conv2d_118 (Conv2D)          (None, 8, 8, 16)          2416      \n",
      "_________________________________________________________________\n",
      "conv2d_119 (Conv2D)          (None, 4, 4, 32)          12832     \n",
      "_________________________________________________________________\n",
      "average_pooling2d_26 (Averag (None, 2, 2, 32)          0         \n",
      "_________________________________________________________________\n",
      "flatten_19 (Flatten)         (None, 128)               0         \n",
      "_________________________________________________________________\n",
      "dense_45 (Dense)             (None, 120)               15480     \n",
      "_________________________________________________________________\n",
      "dense_46 (Dense)             (None, 84)                10164     \n",
      "_________________________________________________________________\n",
      "prelogits (Dense)            (None, 25)                2125      \n",
      "_________________________________________________________________\n",
      "logits (Activation)          (None, 25)                0         \n",
      "=================================================================\n",
      "Total params: 43,173\n",
      "Trainable params: 43,173\n",
      "Non-trainable params: 0\n",
      "_________________________________________________________________\n"
     ]
    }
   ],
   "source": [
    "# LeNet model with additional convolution layer\n",
    "def testModel_5a():\n",
    "    # input\n",
    "    xIn = keras.Input(shape=(28,28,1))\n",
    "    \n",
    "    # subsequent layers\n",
    "    out = keras.layers.Conv2D(6, 5, activation='relu')(xIn)\n",
    "    out = keras.layers.AveragePooling2D(2, 2)(out) \n",
    "    out = keras.layers.Conv2D(16, 5, activation='relu')(out)\n",
    "    out = keras.layers.Conv2D(32, 5, activation='relu')(out) #additional convolution layer\n",
    "\n",
    "    out = keras.layers.AveragePooling2D(2, 2)(out)\n",
    "    \n",
    "#   out = keras.layers.Dropout(rate = 0.2)(out) # randomly sets 20% of data values to 0\n",
    "    \n",
    "    #extra convolution and dropout?\n",
    "    out = keras.layers.Flatten()(out)\n",
    "    out = keras.layers.Dense(120, activation='relu')(out)\n",
    "    out = keras.layers.Dense(84, activation='relu')(out)\n",
    "    out = keras.layers.Dense(25, name='prelogits')(out)  \n",
    "    out = keras.layers.Activation('softmax', name='logits')(out)\n",
    "    \n",
    "    # Creates model\n",
    "    mod = keras.Model(inputs=xIn, outputs=out) \n",
    "    \n",
    "    return mod\n",
    "\n",
    "# Declares the model and prepares it for training\n",
    "testMod5a = testModel_5a()\n",
    "testMod5a.compile(optimizer=opt, loss='sparse_categorical_crossentropy', metrics=['accuracy']) \n",
    "testMod5a.summary()"
   ]
  },
  {
   "cell_type": "code",
   "execution_count": 127,
   "metadata": {},
   "outputs": [
    {
     "name": "stdout",
     "output_type": "stream",
     "text": [
      "Train on 20591 samples, validate on 6864 samples\n",
      "Epoch 1/20\n",
      "20591/20591 [==============================] - 5s 226us/sample - loss: 1.8507 - acc: 0.3953 - val_loss: 1.0088 - val_acc: 0.6640\n",
      "Epoch 2/20\n",
      "20591/20591 [==============================] - 3s 142us/sample - loss: 0.7074 - acc: 0.7597 - val_loss: 0.4555 - val_acc: 0.8478\n",
      "Epoch 3/20\n",
      "20591/20591 [==============================] - 3s 145us/sample - loss: 0.3492 - acc: 0.8815 - val_loss: 0.2443 - val_acc: 0.9213\n",
      "Epoch 4/20\n",
      "20591/20591 [==============================] - 3s 159us/sample - loss: 0.1723 - acc: 0.9449 - val_loss: 0.1402 - val_acc: 0.9535\n",
      "Epoch 5/20\n",
      "20591/20591 [==============================] - 3s 136us/sample - loss: 0.0999 - acc: 0.9707 - val_loss: 0.1462 - val_acc: 0.9471\n",
      "Epoch 6/20\n",
      "20591/20591 [==============================] - 3s 153us/sample - loss: 0.0616 - acc: 0.9825 - val_loss: 0.0473 - val_acc: 0.9875\n",
      "Epoch 7/20\n",
      "20591/20591 [==============================] - 3s 152us/sample - loss: 0.0414 - acc: 0.9887 - val_loss: 0.0783 - val_acc: 0.9693\n",
      "Epoch 8/20\n",
      "20591/20591 [==============================] - 3s 154us/sample - loss: 0.0404 - acc: 0.9887 - val_loss: 0.0214 - val_acc: 0.9952\n",
      "Epoch 9/20\n",
      "20591/20591 [==============================] - 3s 143us/sample - loss: 0.0356 - acc: 0.9906 - val_loss: 0.0572 - val_acc: 0.9821\n",
      "Epoch 10/20\n",
      "20591/20591 [==============================] - 3s 150us/sample - loss: 0.0077 - acc: 0.9991 - val_loss: 0.0080 - val_acc: 0.9985\n",
      "Epoch 11/20\n",
      "20591/20591 [==============================] - 3s 151us/sample - loss: 0.0549 - acc: 0.9825 - val_loss: 0.0081 - val_acc: 0.9984\n",
      "Epoch 12/20\n",
      "20591/20591 [==============================] - 3s 142us/sample - loss: 0.0037 - acc: 0.9998 - val_loss: 0.0090 - val_acc: 0.9981\n",
      "Epoch 13/20\n",
      "20591/20591 [==============================] - 3s 141us/sample - loss: 0.0409 - acc: 0.9865 - val_loss: 0.0125 - val_acc: 0.9966\n",
      "Epoch 14/20\n",
      "20591/20591 [==============================] - 3s 139us/sample - loss: 0.0037 - acc: 0.9995 - val_loss: 0.0014 - val_acc: 1.0000\n",
      "Epoch 15/20\n",
      "20591/20591 [==============================] - 3s 149us/sample - loss: 0.0243 - acc: 0.9928 - val_loss: 0.0055 - val_acc: 0.9990\n",
      "Epoch 16/20\n",
      "20591/20591 [==============================] - 3s 145us/sample - loss: 0.0153 - acc: 0.9943 - val_loss: 0.1573 - val_acc: 0.9589\n",
      "Epoch 17/20\n",
      "20591/20591 [==============================] - 3s 163us/sample - loss: 0.0359 - acc: 0.9892 - val_loss: 0.0014 - val_acc: 1.0000\n",
      "Epoch 18/20\n",
      "20591/20591 [==============================] - 3s 156us/sample - loss: 9.6203e-04 - acc: 1.0000 - val_loss: 9.8918e-04 - val_acc: 1.0000\n",
      "Epoch 19/20\n",
      "20591/20591 [==============================] - 3s 144us/sample - loss: 5.8571e-04 - acc: 1.0000 - val_loss: 8.7242e-04 - val_acc: 1.0000\n",
      "Epoch 20/20\n",
      "20591/20591 [==============================] - 3s 158us/sample - loss: 4.1072e-04 - acc: 1.0000 - val_loss: 5.3106e-04 - val_acc: 1.0000\n"
     ]
    }
   ],
   "source": [
    "testMod5aHist = testMod5a.fit(cnn_x_train, y_train, validation_split = 0.25, \n",
    "                       batch_size=50, epochs=20, shuffle=True, callbacks = [early_stopping, history])"
   ]
  },
  {
   "cell_type": "code",
   "execution_count": 128,
   "metadata": {},
   "outputs": [
    {
     "data": {
      "text/plain": [
       "<matplotlib.legend.Legend at 0x7f25b444ee50>"
      ]
     },
     "execution_count": 128,
     "metadata": {},
     "output_type": "execute_result"
    },
    {
     "data": {
      "image/png": "[encoded data removed]",
      "text/plain": [
       "<Figure size 432x288 with 1 Axes>"
      ]
     },
     "metadata": {
      "needs_background": "light"
     },
     "output_type": "display_data"
    }
   ],
   "source": [
    "# testMod2aHist.history# training loss\n",
    "a = testMod5aHist.history['loss']\n",
    "b = testMod5aHist.history['val_loss']\n",
    "plt.plot(range(len(a)),a)\n",
    "plt.plot(range(len(b)),b)\n",
    "plt.xlabel('Epochs')\n",
    "plt.ylabel('Loss')\n",
    "plt.legend(['Loss','Validation Loss'])"
   ]
  },
  {
   "cell_type": "code",
   "execution_count": 129,
   "metadata": {},
   "outputs": [
    {
     "name": "stdout",
     "output_type": "stream",
     "text": [
      "7172/7172 [==============================] - 1s 111us/sample - loss: 1.0199 - acc: 0.8429\n",
      "Test accuracy for this model is 0.8428611159324646\n"
     ]
    }
   ],
   "source": [
    "# Evaluate the trained network on the testing dataset\n",
    "testLoss, testAcc = testMod5a.evaluate(cnn_x_test, y_test)\n",
    "print(\"Test accuracy for this model is {}\".format(testAcc))"
   ]
  },
  {
   "cell_type": "code",
   "execution_count": 138,
   "metadata": {},
   "outputs": [
    {
     "name": "stdout",
     "output_type": "stream",
     "text": [
      "Model: \"model_22\"\n",
      "_________________________________________________________________\n",
      "Layer (type)                 Output Shape              Param #   \n",
      "=================================================================\n",
      "input_27 (InputLayer)        [(None, 28, 28, 1)]       0         \n",
      "_________________________________________________________________\n",
      "conv2d_122 (Conv2D)          (None, 24, 24, 6)         156       \n",
      "_________________________________________________________________\n",
      "average_pooling2d_29 (Averag (None, 12, 12, 6)         0         \n",
      "_________________________________________________________________\n",
      "conv2d_123 (Conv2D)          (None, 8, 8, 16)          2416      \n",
      "_________________________________________________________________\n",
      "conv2d_124 (Conv2D)          (None, 4, 4, 32)          12832     \n",
      "_________________________________________________________________\n",
      "average_pooling2d_30 (Averag (None, 2, 2, 32)          0         \n",
      "_________________________________________________________________\n",
      "dropout_10 (Dropout)         (None, 2, 2, 32)          0         \n",
      "_________________________________________________________________\n",
      "flatten_21 (Flatten)         (None, 128)               0         \n",
      "_________________________________________________________________\n",
      "dense_49 (Dense)             (None, 120)               15480     \n",
      "_________________________________________________________________\n",
      "dense_50 (Dense)             (None, 84)                10164     \n",
      "_________________________________________________________________\n",
      "prelogits (Dense)            (None, 25)                2125      \n",
      "_________________________________________________________________\n",
      "logits (Activation)          (None, 25)                0         \n",
      "=================================================================\n",
      "Total params: 43,173\n",
      "Trainable params: 43,173\n",
      "Non-trainable params: 0\n",
      "_________________________________________________________________\n"
     ]
    }
   ],
   "source": [
    "#5b combine convolutional layer with 20 %dropout\n",
    "# LeNet model with additional convolution layer\n",
    "def testModel_5b():\n",
    "    # input\n",
    "    xIn = keras.Input(shape=(28,28,1))\n",
    "    \n",
    "    # subsequent layers\n",
    "    out = keras.layers.Conv2D(6, 5, activation='relu')(xIn)\n",
    "    out = keras.layers.AveragePooling2D(2, 2)(out) \n",
    "    out = keras.layers.Conv2D(16, 5, activation='relu')(out)\n",
    "    out = keras.layers.Conv2D(32, 5, activation='relu')(out) #additional convolution layer\n",
    "\n",
    "    out = keras.layers.AveragePooling2D(2, 2)(out)\n",
    "    \n",
    "    out = keras.layers.Dropout(rate = 0.2)(out) # randomly sets 20% of data values to 0\n",
    "    \n",
    "    #extra convolution and dropout?\n",
    "    out = keras.layers.Flatten()(out)\n",
    "    out = keras.layers.Dense(120, activation='relu')(out)\n",
    "    out = keras.layers.Dense(84, activation='relu')(out)\n",
    "    out = keras.layers.Dense(25, name='prelogits')(out)  \n",
    "    out = keras.layers.Activation('softmax', name='logits')(out)\n",
    "    \n",
    "    # Creates model\n",
    "    mod = keras.Model(inputs=xIn, outputs=out) \n",
    "    \n",
    "    return mod\n",
    "\n",
    "# Declares the model and prepares it for training\n",
    "testMod5b = testModel_5b()\n",
    "testMod5b.compile(optimizer=opt, loss='sparse_categorical_crossentropy', metrics=['accuracy']) \n",
    "testMod5b.summary()"
   ]
  },
  {
   "cell_type": "code",
   "execution_count": 139,
   "metadata": {},
   "outputs": [
    {
     "name": "stdout",
     "output_type": "stream",
     "text": [
      "Train on 20591 samples, validate on 6864 samples\n",
      "Epoch 1/20\n",
      "20591/20591 [==============================] - 5s 231us/sample - loss: 1.7266 - acc: 0.4386 - val_loss: 0.7806 - val_acc: 0.7554\n",
      "Epoch 2/20\n",
      "20591/20591 [==============================] - 3s 159us/sample - loss: 0.8180 - acc: 0.7165 - val_loss: 0.4406 - val_acc: 0.8705\n",
      "Epoch 3/20\n",
      "20591/20591 [==============================] - 3s 161us/sample - loss: 0.5732 - acc: 0.8003 - val_loss: 0.2896 - val_acc: 0.9097\n",
      "Epoch 4/20\n",
      "20591/20591 [==============================] - 3s 157us/sample - loss: 0.4376 - acc: 0.8454 - val_loss: 0.1691 - val_acc: 0.9557\n",
      "Epoch 5/20\n",
      "20591/20591 [==============================] - 3s 154us/sample - loss: 0.3464 - acc: 0.8812 - val_loss: 0.1177 - val_acc: 0.9679\n",
      "Epoch 6/20\n",
      "20591/20591 [==============================] - 3s 149us/sample - loss: 0.2918 - acc: 0.8979 - val_loss: 0.0783 - val_acc: 0.9847\n",
      "Epoch 7/20\n",
      "20591/20591 [==============================] - 3s 147us/sample - loss: 0.2438 - acc: 0.9154 - val_loss: 0.0649 - val_acc: 0.9828\n",
      "Epoch 8/20\n",
      "20591/20591 [==============================] - 3s 167us/sample - loss: 0.2197 - acc: 0.9245 - val_loss: 0.0492 - val_acc: 0.9883\n",
      "Epoch 9/20\n",
      "20591/20591 [==============================] - 3s 161us/sample - loss: 0.1893 - acc: 0.9364 - val_loss: 0.0425 - val_acc: 0.9908\n",
      "Epoch 10/20\n",
      "20591/20591 [==============================] - 3s 164us/sample - loss: 0.1673 - acc: 0.9436 - val_loss: 0.0248 - val_acc: 0.9985\n",
      "Epoch 11/20\n",
      "20591/20591 [==============================] - 3s 163us/sample - loss: 0.1598 - acc: 0.9457 - val_loss: 0.0284 - val_acc: 0.9958\n",
      "Epoch 12/20\n",
      "20591/20591 [==============================] - 3s 150us/sample - loss: 0.1515 - acc: 0.9475 - val_loss: 0.0205 - val_acc: 0.9972\n",
      "Epoch 13/20\n",
      "20591/20591 [==============================] - 3s 153us/sample - loss: 0.1331 - acc: 0.9548 - val_loss: 0.0148 - val_acc: 0.9988\n",
      "Epoch 14/20\n",
      "20591/20591 [==============================] - 3s 146us/sample - loss: 0.1350 - acc: 0.9558 - val_loss: 0.0159 - val_acc: 0.9978\n",
      "Epoch 15/20\n",
      "20591/20591 [==============================] - 3s 137us/sample - loss: 0.1142 - acc: 0.9613 - val_loss: 0.0132 - val_acc: 0.9984\n",
      "Epoch 16/20\n",
      "20591/20591 [==============================] - 3s 134us/sample - loss: 0.1088 - acc: 0.9638 - val_loss: 0.0147 - val_acc: 0.9974\n",
      "Epoch 17/20\n",
      "20591/20591 [==============================] - 3s 148us/sample - loss: 0.1073 - acc: 0.9636 - val_loss: 0.0104 - val_acc: 0.9983\n",
      "Epoch 18/20\n",
      "20591/20591 [==============================] - 3s 158us/sample - loss: 0.0968 - acc: 0.9684 - val_loss: 0.0178 - val_acc: 0.9945\n",
      "Epoch 19/20\n",
      "20591/20591 [==============================] - 3s 144us/sample - loss: 0.0876 - acc: 0.9721 - val_loss: 0.0067 - val_acc: 0.9996\n",
      "Epoch 20/20\n",
      "20591/20591 [==============================] - 3s 150us/sample - loss: 0.0834 - acc: 0.9720 - val_loss: 0.0081 - val_acc: 0.9990\n"
     ]
    }
   ],
   "source": [
    "testMod5bHist = testMod5b.fit(cnn_x_train, y_train, validation_split = 0.25, \n",
    "                       batch_size=50, epochs=20, shuffle=True, callbacks = [early_stopping, history])"
   ]
  },
  {
   "cell_type": "code",
   "execution_count": 140,
   "metadata": {},
   "outputs": [
    {
     "data": {
      "text/plain": [
       "<matplotlib.legend.Legend at 0x7f25b4273fd0>"
      ]
     },
     "execution_count": 140,
     "metadata": {},
     "output_type": "execute_result"
    },
    {
     "data": {
      "image/png": "[encoded data removed]",
      "text/plain": [
       "<Figure size 432x288 with 1 Axes>"
      ]
     },
     "metadata": {
      "needs_background": "light"
     },
     "output_type": "display_data"
    }
   ],
   "source": [
    "# testMod2aHist.history# training loss\n",
    "a = testMod5bHist.history['loss']\n",
    "b = testMod5bHist.history['val_loss']\n",
    "plt.plot(range(len(a)),a)\n",
    "plt.plot(range(len(b)),b)\n",
    "plt.xlabel('Epochs')\n",
    "plt.ylabel('Loss')\n",
    "plt.legend(['Loss','Validation Loss'])"
   ]
  },
  {
   "cell_type": "code",
   "execution_count": 141,
   "metadata": {},
   "outputs": [
    {
     "name": "stdout",
     "output_type": "stream",
     "text": [
      "7172/7172 [==============================] - 1s 92us/sample - loss: 0.4010 - acc: 0.8979\n",
      "Test accuracy for this model is 0.8979364037513733\n"
     ]
    }
   ],
   "source": [
    "# Evaluate the trained network on the testing dataset\n",
    "testLoss, testAcc = testMod5b.evaluate(cnn_x_test, y_test)\n",
    "print(\"Test accuracy for this model is {}\".format(testAcc))"
   ]
  },
  {
   "cell_type": "markdown",
   "metadata": {},
   "source": [
    "### Test #6\n",
    "- add image augmentation\n",
    "- different levels of rotation/scaling?"
   ]
  },
  {
   "cell_type": "code",
   "execution_count": 146,
   "metadata": {},
   "outputs": [],
   "source": [
    "# use keras preprocessing to apply random image manipulations and increase model especially as it relates to location\n",
    "# and rotation invariance\n",
    "from tensorflow.keras.preprocessing.image import ImageDataGenerator \n",
    "augmentedData = ImageDataGenerator(rotation_range= 30, # randomly rotate images in the range 15 degrees \n",
    "                                   zoom_range = 0.1, # Randomly zoom image 10% \n",
    "                                   width_shift_range=0.1, # randomly shift images horizontally 10%\n",
    "                                   height_shift_range=0.1, # randomly shift images vertically 10% \n",
    "                                   shear_range = 10)\n",
    "augmentedData.fit(cnn_x_train)\n",
    "train_generator = augmentedData.flow(cnn_x_train,y_train, batch_size = 50)\n",
    "\n"
   ]
  },
  {
   "cell_type": "code",
   "execution_count": 152,
   "metadata": {},
   "outputs": [
    {
     "name": "stdout",
     "output_type": "stream",
     "text": [
      "Model: \"model_25\"\n",
      "_________________________________________________________________\n",
      "Layer (type)                 Output Shape              Param #   \n",
      "=================================================================\n",
      "input_30 (InputLayer)        [(None, 28, 28, 1)]       0         \n",
      "_________________________________________________________________\n",
      "conv2d_141 (Conv2D)          (None, 24, 24, 6)         156       \n",
      "_________________________________________________________________\n",
      "average_pooling2d_33 (Averag (None, 12, 12, 6)         0         \n",
      "_________________________________________________________________\n",
      "conv2d_142 (Conv2D)          (None, 8, 8, 16)          2416      \n",
      "_________________________________________________________________\n",
      "average_pooling2d_34 (Averag (None, 4, 4, 16)          0         \n",
      "_________________________________________________________________\n",
      "flatten_24 (Flatten)         (None, 256)               0         \n",
      "_________________________________________________________________\n",
      "dense_56 (Dense)             (None, 120)               30840     \n",
      "_________________________________________________________________\n",
      "dense_57 (Dense)             (None, 84)                10164     \n",
      "_________________________________________________________________\n",
      "prelogits (Dense)            (None, 25)                2125      \n",
      "_________________________________________________________________\n",
      "logits (Activation)          (None, 25)                0         \n",
      "=================================================================\n",
      "Total params: 45,701\n",
      "Trainable params: 45,701\n",
      "Non-trainable params: 0\n",
      "_________________________________________________________________\n"
     ]
    }
   ],
   "source": [
    "#Original LeNet model w/ data augmentation\n",
    "def testModel_6a():\n",
    "    # input\n",
    "    xIn = keras.Input(shape=(28,28,1))\n",
    "    \n",
    "    # subsequent layers\n",
    "    out = keras.layers.Conv2D(6, 5, activation='relu')(xIn)\n",
    "    out = keras.layers.AveragePooling2D(2, 2)(out) \n",
    "    out = keras.layers.Conv2D(16, 5, activation='relu')(out)\n",
    "    out = keras.layers.AveragePooling2D(2, 2)(out)\n",
    "    \n",
    "#     out = keras.layers.Dropout(rate = 0.2)(out) # randomly sets 20% of data values to 0\n",
    "    \n",
    "    out = keras.layers.Flatten()(out)\n",
    "    out = keras.layers.Dense(120, activation='relu')(out)\n",
    "    out = keras.layers.Dense(84, activation='relu')(out)\n",
    "    out = keras.layers.Dense(25, name='prelogits')(out)  \n",
    "    out = keras.layers.Activation('softmax', name='logits')(out)\n",
    "    \n",
    "    # Creates model\n",
    "    mod = keras.Model(inputs=xIn, outputs=out) \n",
    "    \n",
    "    return mod\n",
    "\n",
    "# Declares the model and prepares it for training\n",
    "testMod6a = testModel_6a()\n",
    "testMod6a.compile(optimizer=opt, loss='sparse_categorical_crossentropy', metrics=['accuracy']) \n",
    "testMod6a.summary()"
   ]
  },
  {
   "cell_type": "code",
   "execution_count": 153,
   "metadata": {},
   "outputs": [
    {
     "name": "stdout",
     "output_type": "stream",
     "text": [
      "Epoch 1/20\n",
      "546/550 [============================>.] - ETA: 0s - loss: 2.3295 - acc: 0.2678Epoch 1/20\n",
      "7172/550 [=======================================================================================================================================================================================================================================================================================================================================================================================================] - 1s 190us/sample - loss: 1.4845 - acc: 0.5566\n",
      "550/550 [==============================] - 14s 26ms/step - loss: 2.3257 - acc: 0.2689 - val_loss: 1.4063 - val_acc: 0.5566\n",
      "Epoch 2/20\n",
      "547/550 [============================>.] - ETA: 0s - loss: 1.5265 - acc: 0.4947Epoch 1/20\n",
      "7172/550 [=======================================================================================================================================================================================================================================================================================================================================================================================================] - 1s 99us/sample - loss: 0.9776 - acc: 0.6829\n",
      "550/550 [==============================] - 11s 19ms/step - loss: 1.5252 - acc: 0.4954 - val_loss: 0.9734 - val_acc: 0.6829\n",
      "Epoch 3/20\n",
      "547/550 [============================>.] - ETA: 0s - loss: 1.2345 - acc: 0.5849Epoch 1/20\n",
      "7172/550 [=======================================================================================================================================================================================================================================================================================================================================================================================================] - 1s 87us/sample - loss: 0.8236 - acc: 0.7352\n",
      "550/550 [==============================] - 11s 20ms/step - loss: 1.2346 - acc: 0.5850 - val_loss: 0.8189 - val_acc: 0.7352\n",
      "Epoch 4/20\n",
      "547/550 [============================>.] - ETA: 0s - loss: 1.0477 - acc: 0.6472Epoch 1/20\n",
      "7172/550 [=======================================================================================================================================================================================================================================================================================================================================================================================================] - 1s 87us/sample - loss: 0.8371 - acc: 0.7552\n",
      "550/550 [==============================] - 10s 19ms/step - loss: 1.0480 - acc: 0.6470 - val_loss: 0.7569 - val_acc: 0.7552\n",
      "Epoch 5/20\n",
      "548/550 [============================>.] - ETA: 0s - loss: 0.9280 - acc: 0.6863Epoch 1/20\n",
      "7172/550 [=======================================================================================================================================================================================================================================================================================================================================================================================================] - 1s 88us/sample - loss: 0.7277 - acc: 0.7833\n",
      "550/550 [==============================] - 11s 19ms/step - loss: 0.9278 - acc: 0.6864 - val_loss: 0.6315 - val_acc: 0.7833\n",
      "Epoch 6/20\n",
      "548/550 [============================>.] - ETA: 0s - loss: 0.8473 - acc: 0.7141Epoch 1/20\n",
      "7172/550 [=======================================================================================================================================================================================================================================================================================================================================================================================================] - 1s 95us/sample - loss: 0.6068 - acc: 0.8190\n",
      "550/550 [==============================] - 11s 19ms/step - loss: 0.8480 - acc: 0.7138 - val_loss: 0.5417 - val_acc: 0.8190\n",
      "Epoch 7/20\n",
      "548/550 [============================>.] - ETA: 0s - loss: 0.7603 - acc: 0.7452Epoch 1/20\n",
      "7172/550 [=======================================================================================================================================================================================================================================================================================================================================================================================================] - 1s 92us/sample - loss: 0.5999 - acc: 0.8226\n",
      "550/550 [==============================] - 11s 21ms/step - loss: 0.7601 - acc: 0.7452 - val_loss: 0.5450 - val_acc: 0.8226\n",
      "Epoch 8/20\n",
      "548/550 [============================>.] - ETA: 0s - loss: 0.6945 - acc: 0.7627Epoch 1/20\n",
      "7172/550 [=======================================================================================================================================================================================================================================================================================================================================================================================================] - 1s 93us/sample - loss: 0.4201 - acc: 0.8549\n",
      "550/550 [==============================] - 12s 22ms/step - loss: 0.6945 - acc: 0.7627 - val_loss: 0.4594 - val_acc: 0.8549\n",
      "Epoch 9/20\n",
      "549/550 [============================>.] - ETA: 0s - loss: 0.6485 - acc: 0.7802Epoch 1/20\n",
      "7172/550 [=======================================================================================================================================================================================================================================================================================================================================================================================================] - 1s 83us/sample - loss: 0.5325 - acc: 0.8593\n",
      "550/550 [==============================] - 12s 21ms/step - loss: 0.6483 - acc: 0.7803 - val_loss: 0.4326 - val_acc: 0.8593\n",
      "Epoch 10/20\n",
      "548/550 [============================>.] - ETA: 0s - loss: 0.5944 - acc: 0.8012Epoch 1/20\n",
      "7172/550 [=======================================================================================================================================================================================================================================================================================================================================================================================================] - 1s 81us/sample - loss: 0.3697 - acc: 0.8773\n",
      "550/550 [==============================] - 11s 21ms/step - loss: 0.5945 - acc: 0.8012 - val_loss: 0.3793 - val_acc: 0.8773\n",
      "Epoch 11/20\n",
      "547/550 [============================>.] - ETA: 0s - loss: 0.5431 - acc: 0.8170Epoch 1/20\n",
      "7172/550 [=======================================================================================================================================================================================================================================================================================================================================================================================================] - 1s 84us/sample - loss: 0.3658 - acc: 0.8774\n",
      "550/550 [==============================] - 11s 20ms/step - loss: 0.5433 - acc: 0.8169 - val_loss: 0.3495 - val_acc: 0.8774\n",
      "Epoch 12/20\n",
      "549/550 [============================>.] - ETA: 0s - loss: 0.5148 - acc: 0.8290Epoch 1/20\n",
      "7172/550 [=======================================================================================================================================================================================================================================================================================================================================================================================================] - 1s 91us/sample - loss: 0.2524 - acc: 0.8908\n",
      "550/550 [==============================] - 12s 22ms/step - loss: 0.5147 - acc: 0.8290 - val_loss: 0.2917 - val_acc: 0.8908\n",
      "Epoch 13/20\n",
      "549/550 [============================>.] - ETA: 0s - loss: 0.4788 - acc: 0.8412Epoch 1/20\n",
      "7172/550 [=======================================================================================================================================================================================================================================================================================================================================================================================================] - 1s 97us/sample - loss: 0.1865 - acc: 0.9215\n",
      "550/550 [==============================] - 10s 19ms/step - loss: 0.4789 - acc: 0.8412 - val_loss: 0.2529 - val_acc: 0.9215\n",
      "Epoch 14/20\n",
      "549/550 [============================>.] - ETA: 0s - loss: 0.4409 - acc: 0.8525Epoch 1/20\n",
      "7172/550 [=======================================================================================================================================================================================================================================================================================================================================================================================================] - 1s 73us/sample - loss: 0.2267 - acc: 0.8996\n",
      "550/550 [==============================] - 10s 19ms/step - loss: 0.4407 - acc: 0.8526 - val_loss: 0.2665 - val_acc: 0.8996\n",
      "Epoch 15/20\n",
      "549/550 [============================>.] - ETA: 0s - loss: 0.4233 - acc: 0.8584- ETAEpoch 1/20\n",
      "7172/550 [=======================================================================================================================================================================================================================================================================================================================================================================================================] - 1s 85us/sample - loss: 0.1938 - acc: 0.9205\n",
      "550/550 [==============================] - 12s 21ms/step - loss: 0.4232 - acc: 0.8585 - val_loss: 0.2636 - val_acc: 0.9205\n",
      "Epoch 16/20\n",
      "547/550 [============================>.] - ETA: 0s - loss: 0.3930 - acc: 0.8667Epoch 1/20\n",
      "7172/550 [=======================================================================================================================================================================================================================================================================================================================================================================================================] - 1s 82us/sample - loss: 0.2170 - acc: 0.9106\n",
      "550/550 [==============================] - 11s 20ms/step - loss: 0.3930 - acc: 0.8667 - val_loss: 0.2464 - val_acc: 0.9106\n",
      "Epoch 17/20\n",
      "548/550 [============================>.] - ETA: 0s - loss: 0.3801 - acc: 0.8722Epoch 1/20\n",
      "7172/550 [=======================================================================================================================================================================================================================================================================================================================================================================================================] - 1s 78us/sample - loss: 0.1327 - acc: 0.9484\n",
      "550/550 [==============================] - 11s 21ms/step - loss: 0.3795 - acc: 0.8724 - val_loss: 0.1784 - val_acc: 0.9484\n",
      "Epoch 18/20\n",
      "547/550 [============================>.] - ETA: 0s - loss: 0.3604 - acc: 0.8789Epoch 1/20\n",
      "7172/550 [=======================================================================================================================================================================================================================================================================================================================================================================================================] - 1s 79us/sample - loss: 0.1456 - acc: 0.9303\n",
      "550/550 [==============================] - 11s 20ms/step - loss: 0.3605 - acc: 0.8787 - val_loss: 0.1958 - val_acc: 0.9303\n",
      "Epoch 19/20\n",
      "546/550 [============================>.] - ETA: 0s - loss: 0.3392 - acc: 0.8874Epoch 1/20\n",
      "7172/550 [=======================================================================================================================================================================================================================================================================================================================================================================================================] - 1s 87us/sample - loss: 0.1588 - acc: 0.9345\n",
      "550/550 [==============================] - 11s 20ms/step - loss: 0.3391 - acc: 0.8876 - val_loss: 0.2096 - val_acc: 0.9345\n",
      "Epoch 20/20\n",
      "546/550 [============================>.] - ETA: 0s - loss: 0.3216 - acc: 0.8954Epoch 1/20\n",
      "7172/550 [=======================================================================================================================================================================================================================================================================================================================================================================================================] - 1s 80us/sample - loss: 0.1385 - acc: 0.9407\n",
      "550/550 [==============================] - 11s 21ms/step - loss: 0.3207 - acc: 0.8958 - val_loss: 0.1788 - val_acc: 0.9407\n"
     ]
    }
   ],
   "source": [
    "testMod6aHist = testMod6a.fit(train_generator, validation_data = (cnn_x_test,y_test), \n",
    "                              epochs=20, shuffle=True, callbacks = [early_stopping, history])"
   ]
  },
  {
   "cell_type": "code",
   "execution_count": 154,
   "metadata": {},
   "outputs": [
    {
     "data": {
      "text/plain": [
       "<matplotlib.legend.Legend at 0x7f22a434fd10>"
      ]
     },
     "execution_count": 154,
     "metadata": {},
     "output_type": "execute_result"
    },
    {
     "data": {
      "image/png": "[encoded data removed]",
      "text/plain": [
       "<Figure size 432x288 with 1 Axes>"
      ]
     },
     "metadata": {
      "needs_background": "light"
     },
     "output_type": "display_data"
    }
   ],
   "source": [
    "# testMod2aHist.history# training loss\n",
    "a = testMod6aHist.history['loss']\n",
    "b = testMod6aHist.history['val_loss']\n",
    "plt.plot(range(len(a)),a)\n",
    "plt.plot(range(len(b)),b)\n",
    "plt.xlabel('Epochs')\n",
    "plt.ylabel('Loss')\n",
    "plt.legend(['Loss','Validation Loss'])"
   ]
  },
  {
   "cell_type": "code",
   "execution_count": 155,
   "metadata": {},
   "outputs": [
    {
     "name": "stdout",
     "output_type": "stream",
     "text": [
      "7172/7172 [==============================] - 1s 112us/sample - loss: 0.1791 - acc: 0.9407\n",
      "Test accuracy for this model is 0.940741777420044\n"
     ]
    }
   ],
   "source": [
    "# Evaluate the trained network on the testing dataset\n",
    "testLoss, testAcc = testMod6a.evaluate(cnn_x_test, y_test)\n",
    "print(\"Test accuracy for this model is {}\".format(testAcc))"
   ]
  },
  {
   "cell_type": "code",
   "execution_count": 156,
   "metadata": {},
   "outputs": [
    {
     "name": "stdout",
     "output_type": "stream",
     "text": [
      "Model: \"model_26\"\n",
      "_________________________________________________________________\n",
      "Layer (type)                 Output Shape              Param #   \n",
      "=================================================================\n",
      "input_31 (InputLayer)        [(None, 28, 28, 1)]       0         \n",
      "_________________________________________________________________\n",
      "conv2d_143 (Conv2D)          (None, 24, 24, 6)         156       \n",
      "_________________________________________________________________\n",
      "average_pooling2d_35 (Averag (None, 12, 12, 6)         0         \n",
      "_________________________________________________________________\n",
      "conv2d_144 (Conv2D)          (None, 8, 8, 16)          2416      \n",
      "_________________________________________________________________\n",
      "average_pooling2d_36 (Averag (None, 4, 4, 16)          0         \n",
      "_________________________________________________________________\n",
      "dropout_12 (Dropout)         (None, 4, 4, 16)          0         \n",
      "_________________________________________________________________\n",
      "flatten_25 (Flatten)         (None, 256)               0         \n",
      "_________________________________________________________________\n",
      "dense_58 (Dense)             (None, 120)               30840     \n",
      "_________________________________________________________________\n",
      "dense_59 (Dense)             (None, 84)                10164     \n",
      "_________________________________________________________________\n",
      "prelogits (Dense)            (None, 25)                2125      \n",
      "_________________________________________________________________\n",
      "logits (Activation)          (None, 25)                0         \n",
      "=================================================================\n",
      "Total params: 45,701\n",
      "Trainable params: 45,701\n",
      "Non-trainable params: 0\n",
      "_________________________________________________________________\n"
     ]
    }
   ],
   "source": [
    "#Original LeNet model w/ data augmentation and dropout layer\n",
    "def testModel_6b():\n",
    "    # input\n",
    "    xIn = keras.Input(shape=(28,28,1))\n",
    "    \n",
    "    # subsequent layers\n",
    "    out = keras.layers.Conv2D(6, 5, activation='relu')(xIn)\n",
    "    out = keras.layers.AveragePooling2D(2, 2)(out) \n",
    "    out = keras.layers.Conv2D(16, 5, activation='relu')(out)\n",
    "    out = keras.layers.AveragePooling2D(2, 2)(out)\n",
    "    \n",
    "    out = keras.layers.Dropout(rate = 0.2)(out) # randomly sets 20% of data values to 0\n",
    "    \n",
    "    out = keras.layers.Flatten()(out)\n",
    "    out = keras.layers.Dense(120, activation='relu')(out)\n",
    "    out = keras.layers.Dense(84, activation='relu')(out)\n",
    "    out = keras.layers.Dense(25, name='prelogits')(out)  \n",
    "    out = keras.layers.Activation('softmax', name='logits')(out)\n",
    "    \n",
    "    # Creates model\n",
    "    mod = keras.Model(inputs=xIn, outputs=out) \n",
    "    \n",
    "    return mod\n",
    "\n",
    "# Declares the model and prepares it for training\n",
    "testMod6b = testModel_6b()\n",
    "testMod6b.compile(optimizer=opt, loss='sparse_categorical_crossentropy', metrics=['accuracy']) \n",
    "testMod6b.summary()"
   ]
  },
  {
   "cell_type": "code",
   "execution_count": 157,
   "metadata": {},
   "outputs": [
    {
     "name": "stdout",
     "output_type": "stream",
     "text": [
      "Epoch 1/20\n",
      "548/550 [============================>.] - ETA: 0s - loss: 2.3641 - acc: 0.2587Epoch 1/20\n",
      "7172/550 [=======================================================================================================================================================================================================================================================================================================================================================================================================] - 1s 198us/sample - loss: 1.6869 - acc: 0.5226\n",
      "550/550 [==============================] - 14s 25ms/step - loss: 2.3624 - acc: 0.2593 - val_loss: 1.4666 - val_acc: 0.5226\n",
      "Epoch 2/20\n",
      "548/550 [============================>.] - ETA: 0s - loss: 1.7068 - acc: 0.4420Epoch 1/20\n",
      "7172/550 [=======================================================================================================================================================================================================================================================================================================================================================================================================] - 1s 79us/sample - loss: 1.0918 - acc: 0.6810\n",
      "550/550 [==============================] - 11s 20ms/step - loss: 1.7059 - acc: 0.4425 - val_loss: 1.0452 - val_acc: 0.6810\n",
      "Epoch 3/20\n",
      "548/550 [============================>.] - ETA: 0s - loss: 1.4686 - acc: 0.5192Epoch 1/20\n",
      "7172/550 [=======================================================================================================================================================================================================================================================================================================================================================================================================] - 1s 77us/sample - loss: 0.9033 - acc: 0.7146\n",
      "550/550 [==============================] - 12s 22ms/step - loss: 1.4687 - acc: 0.5192 - val_loss: 0.9131 - val_acc: 0.7146\n",
      "Epoch 4/20\n",
      "547/550 [============================>.] - ETA: 0s - loss: 1.3265 - acc: 0.5608Epoch 1/20\n",
      "7172/550 [=======================================================================================================================================================================================================================================================================================================================================================================================================] - 1s 84us/sample - loss: 0.7615 - acc: 0.7729\n",
      "550/550 [==============================] - 12s 22ms/step - loss: 1.3258 - acc: 0.5612 - val_loss: 0.7575 - val_acc: 0.7729\n",
      "Epoch 5/20\n",
      "548/550 [============================>.] - ETA: 0s - loss: 1.2159 - acc: 0.5947Epoch 1/20\n",
      "7172/550 [=======================================================================================================================================================================================================================================================================================================================================================================================================] - 1s 94us/sample - loss: 0.7386 - acc: 0.7709\n",
      "550/550 [==============================] - 12s 21ms/step - loss: 1.2156 - acc: 0.5947 - val_loss: 0.7281 - val_acc: 0.7709\n",
      "Epoch 6/20\n",
      "548/550 [============================>.] - ETA: 0s - loss: 1.1317 - acc: 0.6250Epoch 1/20\n",
      "7172/550 [=======================================================================================================================================================================================================================================================================================================================================================================================================] - 1s 94us/sample - loss: 0.6082 - acc: 0.8277\n",
      "550/550 [==============================] - 11s 21ms/step - loss: 1.1318 - acc: 0.6248 - val_loss: 0.5561 - val_acc: 0.8277\n",
      "Epoch 7/20\n",
      "547/550 [============================>.] - ETA: 0s - loss: 1.0476 - acc: 0.6494Epoch 1/20\n",
      "7172/550 [=======================================================================================================================================================================================================================================================================================================================================================================================================] - 1s 83us/sample - loss: 0.5796 - acc: 0.7835\n",
      "550/550 [==============================] - 11s 21ms/step - loss: 1.0473 - acc: 0.6495 - val_loss: 0.6140 - val_acc: 0.7835\n",
      "Epoch 8/20\n",
      "548/550 [============================>.] - ETA: 0s - loss: 0.9832 - acc: 0.6741Epoch 1/20\n",
      "7172/550 [=======================================================================================================================================================================================================================================================================================================================================================================================================] - 1s 90us/sample - loss: 0.4487 - acc: 0.8611\n",
      "550/550 [==============================] - 11s 21ms/step - loss: 0.9831 - acc: 0.6740 - val_loss: 0.4862 - val_acc: 0.8611\n",
      "Epoch 9/20\n",
      "548/550 [============================>.] - ETA: 0s - loss: 0.9338 - acc: 0.6852Epoch 1/20\n",
      "7172/550 [=======================================================================================================================================================================================================================================================================================================================================================================================================] - 1s 86us/sample - loss: 0.4840 - acc: 0.8572\n",
      "550/550 [==============================] - 12s 22ms/step - loss: 0.9335 - acc: 0.6853 - val_loss: 0.4548 - val_acc: 0.8572\n",
      "Epoch 10/20\n",
      "549/550 [============================>.] - ETA: 0s - loss: 0.8787 - acc: 0.7059Epoch 1/20\n",
      "7172/550 [=======================================================================================================================================================================================================================================================================================================================================================================================================] - 1s 83us/sample - loss: 0.4095 - acc: 0.8529\n",
      "550/550 [==============================] - 13s 23ms/step - loss: 0.8789 - acc: 0.7058 - val_loss: 0.4233 - val_acc: 0.8529\n",
      "Epoch 11/20\n",
      "549/550 [============================>.] - ETA: 0s - loss: 0.8439 - acc: 0.7118Epoch 1/20\n",
      "7172/550 [=======================================================================================================================================================================================================================================================================================================================================================================================================] - 1s 81us/sample - loss: 0.3842 - acc: 0.8652\n",
      "550/550 [==============================] - 13s 23ms/step - loss: 0.8438 - acc: 0.7119 - val_loss: 0.4039 - val_acc: 0.8652\n",
      "Epoch 12/20\n",
      "548/550 [============================>.] - ETA: 0s - loss: 0.7993 - acc: 0.7263- ETA: 0s - loss: 0.7985 - acc: 0.726Epoch 1/20\n",
      "7172/550 [=======================================================================================================================================================================================================================================================================================================================================================================================================] - 1s 86us/sample - loss: 0.3398 - acc: 0.8914\n",
      "550/550 [==============================] - 13s 23ms/step - loss: 0.7991 - acc: 0.7264 - val_loss: 0.3754 - val_acc: 0.8914\n",
      "Epoch 13/20\n",
      "549/550 [============================>.] - ETA: 0s - loss: 0.7754 - acc: 0.7360Epoch 1/20\n",
      "7172/550 [=======================================================================================================================================================================================================================================================================================================================================================================================================] - 1s 83us/sample - loss: 0.3206 - acc: 0.8866\n",
      "550/550 [==============================] - 13s 23ms/step - loss: 0.7755 - acc: 0.7358 - val_loss: 0.3501 - val_acc: 0.8866\n",
      "Epoch 14/20\n",
      "549/550 [============================>.] - ETA: 0s - loss: 0.7348 - acc: 0.7529Epoch 1/20\n",
      "7172/550 [=======================================================================================================================================================================================================================================================================================================================================================================================================] - 1s 82us/sample - loss: 0.2851 - acc: 0.8914\n",
      "550/550 [==============================] - 13s 23ms/step - loss: 0.7351 - acc: 0.7526 - val_loss: 0.3166 - val_acc: 0.8914\n",
      "Epoch 15/20\n",
      "548/550 [============================>.] - ETA: 0s - loss: 0.7063 - acc: 0.7591Epoch 1/20\n",
      "7172/550 [=======================================================================================================================================================================================================================================================================================================================================================================================================] - 1s 90us/sample - loss: 0.2428 - acc: 0.9081\n",
      "550/550 [==============================] - 13s 24ms/step - loss: 0.7072 - acc: 0.7589 - val_loss: 0.2989 - val_acc: 0.9081\n",
      "Epoch 16/20\n",
      "548/550 [============================>.] - ETA: 0s - loss: 0.6665 - acc: 0.7713Epoch 1/20\n",
      "7172/550 [=======================================================================================================================================================================================================================================================================================================================================================================================================] - 1s 99us/sample - loss: 0.2252 - acc: 0.9024\n",
      "550/550 [==============================] - 13s 24ms/step - loss: 0.6667 - acc: 0.7713 - val_loss: 0.3030 - val_acc: 0.9024\n",
      "Epoch 17/20\n",
      "549/550 [============================>.] - ETA: 0s - loss: 0.6571 - acc: 0.7766Epoch 1/20\n",
      "7172/550 [=======================================================================================================================================================================================================================================================================================================================================================================================================] - 1s 112us/sample - loss: 0.2202 - acc: 0.9085\n",
      "550/550 [==============================] - 14s 25ms/step - loss: 0.6569 - acc: 0.7768 - val_loss: 0.3076 - val_acc: 0.9085\n",
      "Epoch 18/20\n",
      "548/550 [============================>.] - ETA: 0s - loss: 0.6374 - acc: 0.7845Epoch 1/20\n",
      "7172/550 [=======================================================================================================================================================================================================================================================================================================================================================================================================] - 1s 85us/sample - loss: 0.1961 - acc: 0.9294\n",
      "550/550 [==============================] - 14s 25ms/step - loss: 0.6372 - acc: 0.7846 - val_loss: 0.2506 - val_acc: 0.9294\n",
      "Epoch 19/20\n",
      "549/550 [============================>.] - ETA: 0s - loss: 0.5921 - acc: 0.7969Epoch 1/20\n",
      "7172/550 [=======================================================================================================================================================================================================================================================================================================================================================================================================] - 1s 97us/sample - loss: 0.2069 - acc: 0.9281\n",
      "550/550 [==============================] - 14s 25ms/step - loss: 0.5920 - acc: 0.7970 - val_loss: 0.2423 - val_acc: 0.9281\n",
      "Epoch 20/20\n",
      "549/550 [============================>.] - ETA: 0s - loss: 0.5854 - acc: 0.8018Epoch 1/20\n",
      "7172/550 [=======================================================================================================================================================================================================================================================================================================================================================================================================] - 1s 93us/sample - loss: 0.1895 - acc: 0.9311\n",
      "550/550 [==============================] - 14s 25ms/step - loss: 0.5851 - acc: 0.8019 - val_loss: 0.2523 - val_acc: 0.9311\n"
     ]
    }
   ],
   "source": [
    "testMod6bHist = testMod6b.fit(train_generator, validation_data = (cnn_x_test,y_test), \n",
    "                              epochs=20, shuffle=True, callbacks = [early_stopping, history])"
   ]
  },
  {
   "cell_type": "code",
   "execution_count": 158,
   "metadata": {},
   "outputs": [
    {
     "data": {
      "text/plain": [
       "<matplotlib.legend.Legend at 0x7f22a41b7c90>"
      ]
     },
     "execution_count": 158,
     "metadata": {},
     "output_type": "execute_result"
    },
    {
     "data": {
      "image/png": "[encoded data removed]",
      "text/plain": [
       "<Figure size 432x288 with 1 Axes>"
      ]
     },
     "metadata": {
      "needs_background": "light"
     },
     "output_type": "display_data"
    }
   ],
   "source": [
    "# testMod2aHist.history# training loss\n",
    "a = testMod6bHist.history['loss']\n",
    "b = testMod6bHist.history['val_loss']\n",
    "plt.plot(range(len(a)),a)\n",
    "plt.plot(range(len(b)),b)\n",
    "plt.xlabel('Epochs')\n",
    "plt.ylabel('Loss')\n",
    "plt.legend(['Loss','Validation Loss'])"
   ]
  },
  {
   "cell_type": "code",
   "execution_count": 159,
   "metadata": {},
   "outputs": [
    {
     "name": "stdout",
     "output_type": "stream",
     "text": [
      "7172/7172 [==============================] - 1s 116us/sample - loss: 0.2528 - acc: 0.9311\n",
      "Test accuracy for this model is 0.9311210513114929\n"
     ]
    }
   ],
   "source": [
    "# Evaluate the trained network on the testing dataset\n",
    "testLoss, testAcc = testMod6b.evaluate(cnn_x_test, y_test)\n",
    "print(\"Test accuracy for this model is {}\".format(testAcc))"
   ]
  },
  {
   "cell_type": "markdown",
   "metadata": {},
   "source": [
    "### image augmentation alone performed better than with the dropout layer ~1%\n",
    "\n",
    "- loss in image augmentation is very high compared to dropout"
   ]
  },
  {
   "cell_type": "markdown",
   "metadata": {},
   "source": [
    "### Test #7\n",
    "- test hyper parameters\n",
    "- kernel size, learning rate, dropout rate, batch size, epochs\n",
    "- test SGD vs Adam"
   ]
  },
  {
   "cell_type": "code",
   "execution_count": 160,
   "metadata": {},
   "outputs": [
    {
     "name": "stdout",
     "output_type": "stream",
     "text": [
      "Model: \"model_27\"\n",
      "_________________________________________________________________\n",
      "Layer (type)                 Output Shape              Param #   \n",
      "=================================================================\n",
      "input_32 (InputLayer)        [(None, 28, 28, 1)]       0         \n",
      "_________________________________________________________________\n",
      "conv2d_145 (Conv2D)          (None, 24, 24, 6)         156       \n",
      "_________________________________________________________________\n",
      "average_pooling2d_37 (Averag (None, 12, 12, 6)         0         \n",
      "_________________________________________________________________\n",
      "conv2d_146 (Conv2D)          (None, 8, 8, 16)          2416      \n",
      "_________________________________________________________________\n",
      "conv2d_147 (Conv2D)          (None, 4, 4, 32)          12832     \n",
      "_________________________________________________________________\n",
      "average_pooling2d_38 (Averag (None, 2, 2, 32)          0         \n",
      "_________________________________________________________________\n",
      "flatten_26 (Flatten)         (None, 128)               0         \n",
      "_________________________________________________________________\n",
      "dense_60 (Dense)             (None, 120)               15480     \n",
      "_________________________________________________________________\n",
      "dense_61 (Dense)             (None, 84)                10164     \n",
      "_________________________________________________________________\n",
      "prelogits (Dense)            (None, 25)                2125      \n",
      "_________________________________________________________________\n",
      "logits (Activation)          (None, 25)                0         \n",
      "=================================================================\n",
      "Total params: 43,173\n",
      "Trainable params: 43,173\n",
      "Non-trainable params: 0\n",
      "_________________________________________________________________\n"
     ]
    }
   ],
   "source": [
    "#7a\n",
    "# LeNet model with 10x learning\n",
    "def testModel_7a():\n",
    "    # input\n",
    "    xIn = keras.Input(shape=(28,28,1))\n",
    "    \n",
    "    # subsequent layers\n",
    "    out = keras.layers.Conv2D(6, 5, activation='relu')(xIn)\n",
    "    out = keras.layers.AveragePooling2D(2, 2)(out) \n",
    "    out = keras.layers.Conv2D(16, 5, activation='relu')(out)\n",
    "    out = keras.layers.Conv2D(32, 5, activation='relu')(out) #additional convolution layer\n",
    "\n",
    "    out = keras.layers.AveragePooling2D(2, 2)(out)\n",
    "    \n",
    "#     out = keras.layers.Dropout(rate = 0.2)(out) # randomly sets 20% of data values to 0\n",
    "    \n",
    "    #extra convolution and dropout?\n",
    "    out = keras.layers.Flatten()(out)\n",
    "    out = keras.layers.Dense(120, activation='relu')(out)\n",
    "    out = keras.layers.Dense(84, activation='relu')(out)\n",
    "    out = keras.layers.Dense(25, name='prelogits')(out)  \n",
    "    out = keras.layers.Activation('softmax', name='logits')(out)\n",
    "    \n",
    "    # Creates model\n",
    "    mod = keras.Model(inputs=xIn, outputs=out) \n",
    "    \n",
    "    return mod\n",
    "\n",
    "# Declares the model and prepares it for training\n",
    "testMod7a = testModel_7a()\n",
    "opt = keras.optimizers.Adam(learning_rate=0.01) #10x learning rate 0.001 -> 0.01\n",
    "testMod7a.compile(optimizer=opt, loss='sparse_categorical_crossentropy', metrics=['accuracy']) \n",
    "testMod7a.summary()"
   ]
  },
  {
   "cell_type": "code",
   "execution_count": 161,
   "metadata": {},
   "outputs": [
    {
     "name": "stdout",
     "output_type": "stream",
     "text": [
      "Train on 20591 samples, validate on 6864 samples\n",
      "Epoch 1/20\n",
      "20591/20591 [==============================] - 5s 237us/sample - loss: 2.3035 - acc: 0.2761 - val_loss: 0.9850 - val_acc: 0.6608\n",
      "Epoch 2/20\n",
      "20591/20591 [==============================] - 3s 157us/sample - loss: 0.6734 - acc: 0.7608 - val_loss: 0.5150 - val_acc: 0.8220\n",
      "Epoch 3/20\n",
      "20591/20591 [==============================] - 3s 149us/sample - loss: 0.3267 - acc: 0.8836 - val_loss: 0.1862 - val_acc: 0.9318\n",
      "Epoch 4/20\n",
      "20591/20591 [==============================] - 3s 151us/sample - loss: 0.2136 - acc: 0.9292 - val_loss: 0.1929 - val_acc: 0.9318\n",
      "Epoch 5/20\n",
      "20591/20591 [==============================] - 3s 162us/sample - loss: 0.1614 - acc: 0.9492 - val_loss: 0.1564 - val_acc: 0.9493\n",
      "Epoch 6/20\n",
      "20591/20591 [==============================] - 3s 151us/sample - loss: 0.1533 - acc: 0.9508 - val_loss: 0.1273 - val_acc: 0.9623\n",
      "Epoch 7/20\n",
      "20591/20591 [==============================] - 3s 140us/sample - loss: 0.1122 - acc: 0.9648 - val_loss: 0.0633 - val_acc: 0.9808\n",
      "Epoch 8/20\n",
      "20591/20591 [==============================] - 3s 152us/sample - loss: 0.1397 - acc: 0.9590 - val_loss: 0.0658 - val_acc: 0.9808\n",
      "Epoch 9/20\n",
      "20591/20591 [==============================] - 3s 149us/sample - loss: 0.1451 - acc: 0.9595 - val_loss: 0.0696 - val_acc: 0.9767\n",
      "Epoch 10/20\n",
      "20591/20591 [==============================] - 3s 144us/sample - loss: 0.1036 - acc: 0.9711 - val_loss: 0.1216 - val_acc: 0.9596\n",
      "Epoch 11/20\n",
      "20591/20591 [==============================] - 3s 150us/sample - loss: 0.1789 - acc: 0.9521 - val_loss: 0.2252 - val_acc: 0.9468\n",
      "Epoch 12/20\n",
      "20591/20591 [==============================] - 3s 151us/sample - loss: 0.0704 - acc: 0.9794 - val_loss: 0.0677 - val_acc: 0.9889\n",
      "Epoch 13/20\n",
      "20591/20591 [==============================] - 3s 155us/sample - loss: 0.1345 - acc: 0.9647 - val_loss: 0.1690 - val_acc: 0.9515\n",
      "Epoch 14/20\n",
      "20591/20591 [==============================] - 3s 148us/sample - loss: 0.0844 - acc: 0.9776 - val_loss: 0.3316 - val_acc: 0.9426\n",
      "Epoch 15/20\n",
      "20591/20591 [==============================] - 3s 147us/sample - loss: 0.1489 - acc: 0.9620 - val_loss: 0.0824 - val_acc: 0.9844\n",
      "Epoch 16/20\n",
      "20591/20591 [==============================] - 3s 143us/sample - loss: 0.2054 - acc: 0.9548 - val_loss: 0.2136 - val_acc: 0.9382\n",
      "Epoch 17/20\n",
      "20591/20591 [==============================] - 3s 141us/sample - loss: 0.0329 - acc: 0.9905 - val_loss: 0.0101 - val_acc: 0.9980\n",
      "Epoch 18/20\n",
      "20591/20591 [==============================] - 3s 142us/sample - loss: 0.0023 - acc: 0.9995 - val_loss: 0.0075 - val_acc: 0.9985\n",
      "Epoch 19/20\n",
      "20591/20591 [==============================] - 3s 144us/sample - loss: 0.1972 - acc: 0.9548 - val_loss: 0.0905 - val_acc: 0.9747\n",
      "Epoch 20/20\n",
      "20591/20591 [==============================] - 3s 145us/sample - loss: 0.0838 - acc: 0.9772 - val_loss: 0.0497 - val_acc: 0.9914\n"
     ]
    }
   ],
   "source": [
    "testMod7aHist = testMod7a.fit(cnn_x_train, y_train, validation_split = 0.25, \n",
    "                              batch_size=50, epochs=20, shuffle=True, callbacks = [early_stopping, history])"
   ]
  },
  {
   "cell_type": "code",
   "execution_count": 162,
   "metadata": {},
   "outputs": [
    {
     "data": {
      "text/plain": [
       "<matplotlib.legend.Legend at 0x7f228c74df50>"
      ]
     },
     "execution_count": 162,
     "metadata": {},
     "output_type": "execute_result"
    },
    {
     "data": {
      "image/png": "[encoded data removed]",
      "text/plain": [
       "<Figure size 432x288 with 1 Axes>"
      ]
     },
     "metadata": {
      "needs_background": "light"
     },
     "output_type": "display_data"
    }
   ],
   "source": [
    "# testMod2aHist.history# training loss\n",
    "a = testMod7aHist.history['loss']\n",
    "b = testMod7aHist.history['val_loss']\n",
    "plt.plot(range(len(a)),a)\n",
    "plt.plot(range(len(b)),b)\n",
    "plt.xlabel('Epochs')\n",
    "plt.ylabel('Loss')\n",
    "plt.legend(['Loss','Validation Loss'])"
   ]
  },
  {
   "cell_type": "code",
   "execution_count": 1,
   "metadata": {},
   "outputs": [
    {
     "ename": "NameError",
     "evalue": "name 'testMod7a' is not defined",
     "output_type": "error",
     "traceback": [
      "\u001b[0;31m---------------------------------------------------------------------------\u001b[0m",
      "\u001b[0;31mNameError\u001b[0m                                 Traceback (most recent call last)",
      "\u001b[0;32m<ipython-input-1-54552aa140dd>\u001b[0m in \u001b[0;36m<module>\u001b[0;34m\u001b[0m\n\u001b[1;32m      1\u001b[0m \u001b[0;31m# Evaluate the trained network on the testing dataset\u001b[0m\u001b[0;34m\u001b[0m\u001b[0;34m\u001b[0m\u001b[0;34m\u001b[0m\u001b[0m\n\u001b[0;32m----> 2\u001b[0;31m \u001b[0mtestLoss\u001b[0m\u001b[0;34m,\u001b[0m \u001b[0mtestAcc\u001b[0m \u001b[0;34m=\u001b[0m \u001b[0mtestMod7a\u001b[0m\u001b[0;34m.\u001b[0m\u001b[0mevaluate\u001b[0m\u001b[0;34m(\u001b[0m\u001b[0mcnn_x_test\u001b[0m\u001b[0;34m,\u001b[0m \u001b[0my_test\u001b[0m\u001b[0;34m)\u001b[0m\u001b[0;34m\u001b[0m\u001b[0;34m\u001b[0m\u001b[0m\n\u001b[0m\u001b[1;32m      3\u001b[0m \u001b[0mprint\u001b[0m\u001b[0;34m(\u001b[0m\u001b[0;34m\"Test accuracy for this model is {}\"\u001b[0m\u001b[0;34m.\u001b[0m\u001b[0mformat\u001b[0m\u001b[0;34m(\u001b[0m\u001b[0mtestAcc\u001b[0m\u001b[0;34m)\u001b[0m\u001b[0;34m)\u001b[0m\u001b[0;34m\u001b[0m\u001b[0;34m\u001b[0m\u001b[0m\n",
      "\u001b[0;31mNameError\u001b[0m: name 'testMod7a' is not defined"
     ]
    }
   ],
   "source": [
    "# Evaluate the trained network on the testing dataset\n",
    "testLoss, testAcc = testMod7a.evaluate(cnn_x_test, y_test)\n",
    "print(\"Test accuracy for this model is {}\".format(testAcc))"
   ]
  },
  {
   "cell_type": "code",
   "execution_count": 31,
   "metadata": {},
   "outputs": [
    {
     "name": "stdout",
     "output_type": "stream",
     "text": [
      "Model: \"model_1\"\n",
      "_________________________________________________________________\n",
      "Layer (type)                 Output Shape              Param #   \n",
      "=================================================================\n",
      "input_2 (InputLayer)         [(None, 28, 28, 1)]       0         \n",
      "_________________________________________________________________\n",
      "conv2d_2 (Conv2D)            (None, 26, 26, 6)         60        \n",
      "_________________________________________________________________\n",
      "average_pooling2d_2 (Average (None, 13, 13, 6)         0         \n",
      "_________________________________________________________________\n",
      "conv2d_3 (Conv2D)            (None, 11, 11, 16)        880       \n",
      "_________________________________________________________________\n",
      "conv2d_4 (Conv2D)            (None, 9, 9, 32)          4640      \n",
      "_________________________________________________________________\n",
      "average_pooling2d_3 (Average (None, 4, 4, 32)          0         \n",
      "_________________________________________________________________\n",
      "flatten_1 (Flatten)          (None, 512)               0         \n",
      "_________________________________________________________________\n",
      "dense_2 (Dense)              (None, 120)               61560     \n",
      "_________________________________________________________________\n",
      "dense_3 (Dense)              (None, 84)                10164     \n",
      "_________________________________________________________________\n",
      "prelogits (Dense)            (None, 25)                2125      \n",
      "_________________________________________________________________\n",
      "logits (Activation)          (None, 25)                0         \n",
      "=================================================================\n",
      "Total params: 79,429\n",
      "Trainable params: 79,429\n",
      "Non-trainable params: 0\n",
      "_________________________________________________________________\n"
     ]
    }
   ],
   "source": [
    "#7a\n",
    "# LeNet model with 3x3 kernel instead of 5x5\n",
    "def testModel_7b():\n",
    "    # input\n",
    "    xIn = keras.Input(shape=(28,28,1))\n",
    "    \n",
    "    # subsequent layers\n",
    "    out = keras.layers.Conv2D(6, 3, activation='relu')(xIn)\n",
    "    out = keras.layers.AveragePooling2D(2, 2)(out) \n",
    "    out = keras.layers.Conv2D(16, 3, activation='relu')(out)\n",
    "    out = keras.layers.Conv2D(32, 3, activation='relu')(out) #additional convolution layer\n",
    "\n",
    "    out = keras.layers.AveragePooling2D(2, 2)(out)\n",
    "    \n",
    "#     out = keras.layers.Dropout(rate = 0.2)(out) # randomly sets 20% of data values to 0\n",
    "    \n",
    "    #extra convolution and dropout?\n",
    "    out = keras.layers.Flatten()(out)\n",
    "    out = keras.layers.Dense(120, activation='relu')(out)\n",
    "    out = keras.layers.Dense(84, activation='relu')(out)\n",
    "    out = keras.layers.Dense(25, name='prelogits')(out)  \n",
    "    out = keras.layers.Activation('softmax', name='logits')(out)\n",
    "    \n",
    "    # Creates model\n",
    "    mod = keras.Model(inputs=xIn, outputs=out) \n",
    "    \n",
    "    return mod\n",
    "\n",
    "# Declares the model and prepares it for training\n",
    "testMod7b = testModel_7b()\n",
    "opt = keras.optimizers.Adam() #10x learning rate 0.001 -> 0.01\n",
    "testMod7b.compile(optimizer=opt, loss='sparse_categorical_crossentropy', metrics=['accuracy']) \n",
    "testMod7b.summary()"
   ]
  },
  {
   "cell_type": "code",
   "execution_count": 32,
   "metadata": {},
   "outputs": [
    {
     "name": "stdout",
     "output_type": "stream",
     "text": [
      "Train on 20591 samples, validate on 6864 samples\n",
      "Epoch 1/20\n",
      "20591/20591 [==============================] - 3s 142us/sample - loss: 1.5861 - acc: 0.5095 - val_loss: 0.6478 - val_acc: 0.8068\n",
      "Epoch 2/20\n",
      "20591/20591 [==============================] - 2s 119us/sample - loss: 0.3647 - acc: 0.8854 - val_loss: 0.1420 - val_acc: 0.9617\n",
      "Epoch 3/20\n",
      "20591/20591 [==============================] - 2s 107us/sample - loss: 0.0872 - acc: 0.9775 - val_loss: 0.0314 - val_acc: 0.9966\n",
      "Epoch 4/20\n",
      "20591/20591 [==============================] - 2s 106us/sample - loss: 0.0454 - acc: 0.9880 - val_loss: 0.0944 - val_acc: 0.9700\n",
      "Epoch 5/20\n",
      "20591/20591 [==============================] - 2s 100us/sample - loss: 0.0146 - acc: 0.9968 - val_loss: 0.0028 - val_acc: 0.9999\n",
      "Epoch 6/20\n",
      "20591/20591 [==============================] - 2s 107us/sample - loss: 0.0018 - acc: 1.0000 - val_loss: 0.0013 - val_acc: 1.0000\n",
      "Epoch 7/20\n",
      "20591/20591 [==============================] - 2s 107us/sample - loss: 9.8011e-04 - acc: 1.0000 - val_loss: 9.5954e-04 - val_acc: 1.0000\n",
      "Epoch 8/20\n",
      "20591/20591 [==============================] - 2s 107us/sample - loss: 6.4899e-04 - acc: 1.0000 - val_loss: 5.3936e-04 - val_acc: 1.0000\n",
      "Epoch 9/20\n",
      "20591/20591 [==============================] - 2s 101us/sample - loss: 4.3301e-04 - acc: 1.0000 - val_loss: 3.8209e-04 - val_acc: 1.0000\n",
      "Epoch 10/20\n",
      "20591/20591 [==============================] - 2s 109us/sample - loss: 3.4265e-04 - acc: 1.0000 - val_loss: 3.8144e-04 - val_acc: 1.0000\n",
      "Epoch 11/20\n",
      "20591/20591 [==============================] - 2s 105us/sample - loss: 0.0898 - acc: 0.9759 - val_loss: 0.0182 - val_acc: 0.9956\n",
      "Epoch 12/20\n",
      "20591/20591 [==============================] - 2s 109us/sample - loss: 0.0082 - acc: 0.9983 - val_loss: 0.0045 - val_acc: 0.9987\n",
      "Epoch 13/20\n",
      "20591/20591 [==============================] - 3s 126us/sample - loss: 0.0206 - acc: 0.9945 - val_loss: 0.0047 - val_acc: 0.9987\n",
      "Epoch 14/20\n",
      "20591/20591 [==============================] - 2s 108us/sample - loss: 7.1286e-04 - acc: 1.0000 - val_loss: 3.5484e-04 - val_acc: 1.0000\n",
      "Epoch 15/20\n",
      "20591/20591 [==============================] - 2s 112us/sample - loss: 2.4876e-04 - acc: 1.0000 - val_loss: 2.0661e-04 - val_acc: 1.0000\n",
      "Epoch 16/20\n",
      "20591/20591 [==============================] - 2s 115us/sample - loss: 1.4897e-04 - acc: 1.0000 - val_loss: 1.2530e-04 - val_acc: 1.0000\n",
      "Epoch 17/20\n",
      "20591/20591 [==============================] - 2s 116us/sample - loss: 1.0197e-04 - acc: 1.0000 - val_loss: 9.0772e-05 - val_acc: 1.0000\n",
      "Epoch 18/20\n",
      "20591/20591 [==============================] - 2s 117us/sample - loss: 7.4778e-05 - acc: 1.0000 - val_loss: 6.7841e-05 - val_acc: 1.0000\n"
     ]
    }
   ],
   "source": [
    "testMod7bHist = testMod7b.fit(cnn_x_train, y_train, validation_split = 0.25, \n",
    "                              batch_size=50, epochs=20, shuffle=True, callbacks = [early_stopping, history])"
   ]
  },
  {
   "cell_type": "code",
   "execution_count": 33,
   "metadata": {},
   "outputs": [
    {
     "data": {
      "text/plain": [
       "<matplotlib.legend.Legend at 0x7f411c47ce90>"
      ]
     },
     "execution_count": 33,
     "metadata": {},
     "output_type": "execute_result"
    },
    {
     "data": {
      "image/png": "[encoded data removed]",
      "text/plain": [
       "<Figure size 432x288 with 1 Axes>"
      ]
     },
     "metadata": {
      "needs_background": "light"
     },
     "output_type": "display_data"
    }
   ],
   "source": [
    "# testMod2aHist.history# training loss\n",
    "a = testMod7bHist.history['loss']\n",
    "b = testMod7bHist.history['val_loss']\n",
    "plt.plot(range(len(a)),a)\n",
    "plt.plot(range(len(b)),b)\n",
    "plt.xlabel('Epochs')\n",
    "plt.ylabel('Loss')\n",
    "plt.legend(['Loss','Validation Loss'])"
   ]
  },
  {
   "cell_type": "code",
   "execution_count": 34,
   "metadata": {},
   "outputs": [
    {
     "name": "stdout",
     "output_type": "stream",
     "text": [
      "7172/7172 [==============================] - 1s 92us/sample - loss: 0.6070 - acc: 0.8712\n",
      "Test accuracy for this model is 0.8711656332015991\n"
     ]
    }
   ],
   "source": [
    "# Evaluate the trained network on the testing dataset\n",
    "testLoss, testAcc = testMod7b.evaluate(cnn_x_test, y_test)\n",
    "print(\"Test accuracy for this model is {}\".format(testAcc))"
   ]
  },
  {
   "cell_type": "code",
   "execution_count": 39,
   "metadata": {},
   "outputs": [
    {
     "name": "stdout",
     "output_type": "stream",
     "text": [
      "Model: \"model_3\"\n",
      "_________________________________________________________________\n",
      "Layer (type)                 Output Shape              Param #   \n",
      "=================================================================\n",
      "input_4 (InputLayer)         [(None, 28, 28, 1)]       0         \n",
      "_________________________________________________________________\n",
      "conv2d_7 (Conv2D)            (None, 26, 26, 6)         60        \n",
      "_________________________________________________________________\n",
      "average_pooling2d_6 (Average (None, 13, 13, 6)         0         \n",
      "_________________________________________________________________\n",
      "conv2d_8 (Conv2D)            (None, 11, 11, 16)        880       \n",
      "_________________________________________________________________\n",
      "conv2d_9 (Conv2D)            (None, 9, 9, 32)          4640      \n",
      "_________________________________________________________________\n",
      "average_pooling2d_7 (Average (None, 4, 4, 32)          0         \n",
      "_________________________________________________________________\n",
      "dropout_1 (Dropout)          (None, 4, 4, 32)          0         \n",
      "_________________________________________________________________\n",
      "flatten_3 (Flatten)          (None, 512)               0         \n",
      "_________________________________________________________________\n",
      "dense_6 (Dense)              (None, 120)               61560     \n",
      "_________________________________________________________________\n",
      "dense_7 (Dense)              (None, 84)                10164     \n",
      "_________________________________________________________________\n",
      "prelogits (Dense)            (None, 25)                2125      \n",
      "_________________________________________________________________\n",
      "logits (Activation)          (None, 25)                0         \n",
      "=================================================================\n",
      "Total params: 79,429\n",
      "Trainable params: 79,429\n",
      "Non-trainable params: 0\n",
      "_________________________________________________________________\n"
     ]
    }
   ],
   "source": [
    "#7a\n",
    "# LeNet model with 3x3 kernel instead of 5x5 and additional dropout layer\n",
    "def testModel_7c():\n",
    "    # input\n",
    "    xIn = keras.Input(shape=(28,28,1))\n",
    "    \n",
    "    # subsequent layers\n",
    "    out = keras.layers.Conv2D(6, 3, activation='relu')(xIn)\n",
    "    out = keras.layers.AveragePooling2D(2, 2)(out) \n",
    "    out = keras.layers.Conv2D(16, 3, activation='relu')(out)\n",
    "    out = keras.layers.Conv2D(32, 3, activation='relu')(out) #additional convolution layer\n",
    "\n",
    "    out = keras.layers.AveragePooling2D(2, 2)(out)\n",
    "    \n",
    "    out = keras.layers.Dropout(rate = 0.2)(out) # randomly sets 20% of data values to 0\n",
    "    \n",
    "    #extra convolution and dropout?\n",
    "    out = keras.layers.Flatten()(out)\n",
    "    out = keras.layers.Dense(120, activation='relu')(out)\n",
    "    out = keras.layers.Dense(84, activation='relu')(out)\n",
    "    out = keras.layers.Dense(25, name='prelogits')(out)  \n",
    "    out = keras.layers.Activation('softmax', name='logits')(out)\n",
    "    \n",
    "    # Creates model\n",
    "    mod = keras.Model(inputs=xIn, outputs=out) \n",
    "    \n",
    "    return mod\n",
    "\n",
    "# Declares the model and prepares it for training\n",
    "testMod7c = testModel_7c()\n",
    "opt = keras.optimizers.Adam() #10x learning rate 0.001 -> 0.01\n",
    "testMod7c.compile(optimizer=opt, loss='sparse_categorical_crossentropy', metrics=['accuracy']) \n",
    "testMod7c.summary()"
   ]
  },
  {
   "cell_type": "code",
   "execution_count": 40,
   "metadata": {},
   "outputs": [
    {
     "name": "stdout",
     "output_type": "stream",
     "text": [
      "Train on 20591 samples, validate on 6864 samples\n",
      "Epoch 1/20\n",
      "20591/20591 [==============================] - 3s 129us/sample - loss: 1.7919 - acc: 0.4411 - val_loss: 0.8239 - val_acc: 0.7385\n",
      "Epoch 2/20\n",
      "20591/20591 [==============================] - 2s 110us/sample - loss: 0.5466 - acc: 0.8190 - val_loss: 0.2193 - val_acc: 0.9360\n",
      "Epoch 3/20\n",
      "20591/20591 [==============================] - 2s 110us/sample - loss: 0.2356 - acc: 0.9222 - val_loss: 0.0994 - val_acc: 0.9726\n",
      "Epoch 4/20\n",
      "20591/20591 [==============================] - 2s 106us/sample - loss: 0.1447 - acc: 0.9515 - val_loss: 0.0446 - val_acc: 0.9895\n",
      "Epoch 5/20\n",
      "20591/20591 [==============================] - 2s 109us/sample - loss: 0.0951 - acc: 0.9695 - val_loss: 0.0178 - val_acc: 0.9985\n",
      "Epoch 6/20\n",
      "20591/20591 [==============================] - 2s 106us/sample - loss: 0.0630 - acc: 0.9793 - val_loss: 0.0224 - val_acc: 0.9927\n",
      "Epoch 7/20\n",
      "20591/20591 [==============================] - 2s 108us/sample - loss: 0.0484 - acc: 0.9840 - val_loss: 0.0118 - val_acc: 0.9966\n",
      "Epoch 8/20\n",
      "20591/20591 [==============================] - 2s 113us/sample - loss: 0.0435 - acc: 0.9849 - val_loss: 0.0112 - val_acc: 0.9983\n",
      "Epoch 9/20\n",
      "20591/20591 [==============================] - 2s 105us/sample - loss: 0.0379 - acc: 0.9870 - val_loss: 0.0036 - val_acc: 1.0000\n",
      "Epoch 10/20\n",
      "20591/20591 [==============================] - 2s 107us/sample - loss: 0.0300 - acc: 0.9901 - val_loss: 0.0070 - val_acc: 0.9981\n",
      "Epoch 11/20\n",
      "20591/20591 [==============================] - 2s 110us/sample - loss: 0.0341 - acc: 0.9892 - val_loss: 0.0032 - val_acc: 1.0000\n",
      "Epoch 12/20\n",
      "20591/20591 [==============================] - 2s 107us/sample - loss: 0.0234 - acc: 0.9927 - val_loss: 9.8352e-04 - val_acc: 1.0000\n",
      "Epoch 13/20\n",
      "20591/20591 [==============================] - 2s 108us/sample - loss: 0.0246 - acc: 0.9920 - val_loss: 0.0077 - val_acc: 0.9984\n",
      "Epoch 14/20\n",
      "20591/20591 [==============================] - 2s 112us/sample - loss: 0.0215 - acc: 0.9935 - val_loss: 0.0063 - val_acc: 0.9983\n",
      "Epoch 15/20\n",
      "20591/20591 [==============================] - 2s 116us/sample - loss: 0.0202 - acc: 0.9932 - val_loss: 0.0040 - val_acc: 0.9988\n",
      "Epoch 16/20\n",
      "20591/20591 [==============================] - 2s 105us/sample - loss: 0.0236 - acc: 0.9926 - val_loss: 0.0058 - val_acc: 0.9974\n",
      "Epoch 17/20\n",
      "20591/20591 [==============================] - 2s 107us/sample - loss: 0.0238 - acc: 0.9922 - val_loss: 0.0028 - val_acc: 0.9994\n",
      "Epoch 18/20\n",
      "20591/20591 [==============================] - 2s 107us/sample - loss: 0.0149 - acc: 0.9952 - val_loss: 0.0018 - val_acc: 0.9996\n",
      "Epoch 19/20\n",
      "20591/20591 [==============================] - 2s 113us/sample - loss: 0.0159 - acc: 0.9950 - val_loss: 0.0023 - val_acc: 0.9993\n",
      "Epoch 20/20\n",
      "20591/20591 [==============================] - 2s 114us/sample - loss: 0.0137 - acc: 0.9952 - val_loss: 0.0125 - val_acc: 0.9977\n"
     ]
    }
   ],
   "source": [
    "testMod7cHist = testMod7c.fit(cnn_x_train, y_train, validation_split = 0.25, \n",
    "                              batch_size=50, epochs=20, shuffle=True, callbacks = [early_stopping, history])"
   ]
  },
  {
   "cell_type": "code",
   "execution_count": 41,
   "metadata": {},
   "outputs": [
    {
     "data": {
      "text/plain": [
       "<matplotlib.legend.Legend at 0x7f40c82cfa10>"
      ]
     },
     "execution_count": 41,
     "metadata": {},
     "output_type": "execute_result"
    },
    {
     "data": {
      "image/png": "[encoded data removed]",
      "text/plain": [
       "<Figure size 432x288 with 1 Axes>"
      ]
     },
     "metadata": {
      "needs_background": "light"
     },
     "output_type": "display_data"
    }
   ],
   "source": [
    "# testMod2aHist.history# training loss\n",
    "a = testMod7cHist.history['loss']\n",
    "b = testMod7cHist.history['val_loss']\n",
    "plt.plot(range(len(a)),a)\n",
    "plt.plot(range(len(b)),b)\n",
    "plt.xlabel('Epochs')\n",
    "plt.ylabel('Loss')\n",
    "plt.legend(['Loss','Validation Loss'])"
   ]
  },
  {
   "cell_type": "code",
   "execution_count": 42,
   "metadata": {},
   "outputs": [
    {
     "name": "stdout",
     "output_type": "stream",
     "text": [
      "7172/7172 [==============================] - 1s 71us/sample - loss: 0.5701 - acc: 0.8747\n",
      "Test accuracy for this model is 0.8746514320373535\n"
     ]
    }
   ],
   "source": [
    "# Evaluate the trained network on the testing dataset\n",
    "# slightly better than 5x5 with dropout\n",
    "testLoss, testAcc = testMod7c.evaluate(cnn_x_test, y_test)\n",
    "print(\"Test accuracy for this model is {}\".format(testAcc))"
   ]
  },
  {
   "cell_type": "markdown",
   "metadata": {},
   "source": [
    "# automating hyperparameter testing\n",
    "\n",
    "- test batch sizes from 50- batch_size_lst = linspace(50,250,15)\n",
    "- test learning rate range from 0.001 to 0.01\n",
    "- test dropout rate linspace(10,30,5)\n",
    "\n",
    "- epochs?\n",
    "\n",
    "save value of hyperparameter that gives highest acc (use argmax)\n"
   ]
  },
  {
   "cell_type": "code",
   "execution_count": 118,
   "metadata": {},
   "outputs": [],
   "source": [
    "#set up hyperparameter lists to loop through\n",
    "batch_size_range = [25, 50, 75, 100, 125, 150, 175, 200, 225, 250, 275, 300]\n",
    "dropout_rate_range = [0.1, 0.2, 0.3] #10-30%\n",
    "learning_rate_range = [0.0010, 0.003, 0.005, 0.007, 0.01]\n",
    "loss = 'sparse_categorical_crossentropy'"
   ]
  },
  {
   "cell_type": "code",
   "execution_count": 108,
   "metadata": {},
   "outputs": [],
   "source": [
    "# test 8\n",
    "# LeNet model with adjustable drop out rate for loop\n",
    "def testModel_HyperParamLoop(dropout_rate = 0.2):\n",
    "    # input\n",
    "    xIn = keras.Input(shape=(28,28,1))\n",
    "    \n",
    "    # subsequent layers\n",
    "    out = keras.layers.Conv2D(6, 3, activation='relu')(xIn)\n",
    "    out = keras.layers.AveragePooling2D(2, 2)(out) \n",
    "    out = keras.layers.Conv2D(16, 3, activation='relu')(out)\n",
    "    out = keras.layers.Conv2D(32, 3, activation='relu')(out) #additional convolution layer\n",
    "\n",
    "    out = keras.layers.AveragePooling2D(2, 2)(out)\n",
    "    \n",
    "    out = keras.layers.Dropout(rate = dropout_rate)(out) # updates every loop\n",
    "    \n",
    "    #extra convolution and dropout?\n",
    "    out = keras.layers.Flatten()(out)\n",
    "    out = keras.layers.Dense(120, activation='relu')(out)\n",
    "    out = keras.layers.Dense(84, activation='relu')(out)\n",
    "    out = keras.layers.Dense(25, name='prelogits')(out)  \n",
    "    out = keras.layers.Activation('softmax', name='logits')(out)\n",
    "    \n",
    "    # Creates model\n",
    "    mod = keras.Model(inputs=xIn, outputs=out) \n",
    "    \n",
    "    return mod"
   ]
  },
  {
   "cell_type": "code",
   "execution_count": 109,
   "metadata": {},
   "outputs": [
    {
     "name": "stdout",
     "output_type": "stream",
     "text": [
      "Train on 20591 samples, validate on 6864 samples\n",
      "Epoch 1/20\n",
      "20591/20591 [==============================] - 6s 306us/sample - loss: 1.2438 - acc: 0.5966 - val_loss: 0.3707 - val_acc: 0.8875\n",
      "Epoch 2/20\n",
      "20591/20591 [==============================] - 5s 251us/sample - loss: 0.3326 - acc: 0.8858 - val_loss: 0.1249 - val_acc: 0.9596\n",
      "Epoch 3/20\n",
      "20591/20591 [==============================] - 5s 250us/sample - loss: 0.1689 - acc: 0.9425 - val_loss: 0.0695 - val_acc: 0.9803\n",
      "Epoch 4/20\n",
      "20591/20591 [==============================] - 5s 224us/sample - loss: 0.1035 - acc: 0.9651 - val_loss: 0.0174 - val_acc: 0.9996\n",
      "Epoch 5/20\n",
      "20591/20591 [==============================] - 5s 237us/sample - loss: 0.0810 - acc: 0.9721 - val_loss: 0.0213 - val_acc: 0.9964\n",
      "Epoch 6/20\n",
      "20591/20591 [==============================] - 5s 247us/sample - loss: 0.0633 - acc: 0.9777 - val_loss: 0.0097 - val_acc: 0.9985\n",
      "Epoch 7/20\n",
      "20591/20591 [==============================] - 5s 250us/sample - loss: 0.0501 - acc: 0.9832 - val_loss: 0.0103 - val_acc: 0.9971\n",
      "Epoch 8/20\n",
      "20591/20591 [==============================] - 5s 246us/sample - loss: 0.0475 - acc: 0.9853 - val_loss: 0.0107 - val_acc: 0.9975\n",
      "Epoch 9/20\n",
      "20591/20591 [==============================] - 5s 251us/sample - loss: 0.0395 - acc: 0.9873 - val_loss: 0.0028 - val_acc: 1.0000\n",
      "Epoch 10/20\n",
      "20591/20591 [==============================] - 5s 252us/sample - loss: 0.0341 - acc: 0.9892 - val_loss: 0.0035 - val_acc: 0.9997\n",
      "Epoch 11/20\n",
      "20591/20591 [==============================] - 5s 255us/sample - loss: 0.0356 - acc: 0.9875 - val_loss: 0.0028 - val_acc: 1.0000\n",
      "Epoch 12/20\n",
      "20591/20591 [==============================] - 5s 233us/sample - loss: 0.0278 - acc: 0.9912 - val_loss: 9.9878e-04 - val_acc: 1.0000\n",
      "Epoch 13/20\n",
      "20591/20591 [==============================] - 5s 239us/sample - loss: 0.0264 - acc: 0.9918 - val_loss: 7.8538e-04 - val_acc: 1.0000\n",
      "Epoch 14/20\n",
      "20591/20591 [==============================] - 5s 242us/sample - loss: 0.0244 - acc: 0.9926 - val_loss: 0.0117 - val_acc: 0.9958\n",
      "Epoch 15/20\n",
      "20591/20591 [==============================] - 5s 248us/sample - loss: 0.0188 - acc: 0.9939 - val_loss: 0.0012 - val_acc: 0.9999\n",
      "Epoch 16/20\n",
      "20591/20591 [==============================] - 5s 252us/sample - loss: 0.0211 - acc: 0.9927 - val_loss: 0.0013 - val_acc: 1.0000\n",
      "Epoch 17/20\n",
      "20591/20591 [==============================] - 5s 250us/sample - loss: 0.0217 - acc: 0.9932 - val_loss: 0.0021 - val_acc: 0.9991\n",
      "Epoch 18/20\n",
      "20591/20591 [==============================] - 5s 254us/sample - loss: 0.0173 - acc: 0.9944 - val_loss: 0.0011 - val_acc: 1.0000\n",
      "Epoch 19/20\n",
      "20591/20591 [==============================] - 5s 252us/sample - loss: 0.0205 - acc: 0.9939 - val_loss: 8.3929e-04 - val_acc: 1.0000\n",
      "Epoch 20/20\n",
      "20591/20591 [==============================] - 5s 238us/sample - loss: 0.0189 - acc: 0.9939 - val_loss: 9.1230e-04 - val_acc: 1.0000\n",
      "7172/7172 [==============================] - 1s 82us/sample - loss: 0.4628 - acc: 0.9087\n",
      "Test accuracy for this model is 0.9086726307868958\n",
      "Train on 20591 samples, validate on 6864 samples\n",
      "Epoch 1/20\n",
      "20591/20591 [==============================] - 5s 219us/sample - loss: 1.3602 - acc: 0.5586 - val_loss: 0.4324 - val_acc: 0.8606\n",
      "Epoch 2/20\n",
      "20591/20591 [==============================] - 3s 136us/sample - loss: 0.3581 - acc: 0.8746 - val_loss: 0.1171 - val_acc: 0.9679\n",
      "Epoch 3/20\n",
      "20591/20591 [==============================] - 3s 140us/sample - loss: 0.1733 - acc: 0.9388 - val_loss: 0.0459 - val_acc: 0.9910\n",
      "Epoch 4/20\n",
      "20591/20591 [==============================] - 3s 141us/sample - loss: 0.1079 - acc: 0.9645 - val_loss: 0.0205 - val_acc: 0.9985\n",
      "Epoch 5/20\n",
      "20591/20591 [==============================] - 3s 144us/sample - loss: 0.0787 - acc: 0.9736 - val_loss: 0.0169 - val_acc: 0.9980\n",
      "Epoch 6/20\n",
      "20591/20591 [==============================] - 3s 135us/sample - loss: 0.0615 - acc: 0.9810 - val_loss: 0.0085 - val_acc: 0.9999\n",
      "Epoch 7/20\n",
      "20591/20591 [==============================] - 3s 139us/sample - loss: 0.0490 - acc: 0.9842 - val_loss: 0.0053 - val_acc: 0.9999\n",
      "Epoch 8/20\n",
      "20591/20591 [==============================] - 3s 137us/sample - loss: 0.0376 - acc: 0.9881 - val_loss: 0.0033 - val_acc: 0.9999\n",
      "Epoch 9/20\n",
      "20591/20591 [==============================] - 3s 139us/sample - loss: 0.0368 - acc: 0.9876 - val_loss: 0.0059 - val_acc: 0.9991\n",
      "Epoch 10/20\n",
      "20591/20591 [==============================] - 3s 137us/sample - loss: 0.0346 - acc: 0.9886 - val_loss: 0.0026 - val_acc: 0.9999\n",
      "Epoch 11/20\n",
      "20591/20591 [==============================] - 3s 131us/sample - loss: 0.0266 - acc: 0.9909 - val_loss: 0.0010 - val_acc: 1.0000\n",
      "Epoch 12/20\n",
      "20591/20591 [==============================] - 3s 138us/sample - loss: 0.0268 - acc: 0.9910 - val_loss: 0.0023 - val_acc: 0.9999\n",
      "Epoch 13/20\n",
      "20591/20591 [==============================] - 3s 141us/sample - loss: 0.0275 - acc: 0.9911 - val_loss: 0.0014 - val_acc: 1.0000\n",
      "Epoch 14/20\n",
      "20591/20591 [==============================] - 3s 146us/sample - loss: 0.0220 - acc: 0.9926 - val_loss: 0.0019 - val_acc: 0.9999\n",
      "Epoch 15/20\n",
      "20591/20591 [==============================] - 3s 127us/sample - loss: 0.0213 - acc: 0.9933 - val_loss: 0.0019 - val_acc: 0.9997\n",
      "Epoch 16/20\n",
      "20591/20591 [==============================] - 3s 122us/sample - loss: 0.0188 - acc: 0.9949 - val_loss: 8.4008e-04 - val_acc: 0.9999\n",
      "Epoch 17/20\n",
      "20591/20591 [==============================] - 2s 117us/sample - loss: 0.0205 - acc: 0.9939 - val_loss: 0.0115 - val_acc: 0.9975\n",
      "Epoch 18/20\n",
      "20591/20591 [==============================] - 3s 131us/sample - loss: 0.0243 - acc: 0.9926 - val_loss: 0.0021 - val_acc: 0.9994\n",
      "Epoch 19/20\n",
      "20591/20591 [==============================] - 3s 131us/sample - loss: 0.0185 - acc: 0.9941 - val_loss: 0.0010 - val_acc: 0.9999\n",
      "Epoch 20/20\n",
      "20591/20591 [==============================] - 3s 132us/sample - loss: 0.0109 - acc: 0.9967 - val_loss: 6.7416e-04 - val_acc: 0.9999\n",
      "7172/7172 [==============================] - 1s 91us/sample - loss: 0.5124 - acc: 0.9018\n",
      "Test accuracy for this model is 0.9018405079841614\n",
      "Train on 20591 samples, validate on 6864 samples\n",
      "Epoch 1/20\n",
      "20591/20591 [==============================] - 3s 167us/sample - loss: 1.4756 - acc: 0.5284 - val_loss: 0.5003 - val_acc: 0.8441\n",
      "Epoch 2/20\n",
      "20591/20591 [==============================] - 2s 93us/sample - loss: 0.4234 - acc: 0.8539 - val_loss: 0.2204 - val_acc: 0.9267\n",
      "Epoch 3/20\n",
      "20591/20591 [==============================] - 2s 99us/sample - loss: 0.2339 - acc: 0.9207 - val_loss: 0.0838 - val_acc: 0.9786\n",
      "Epoch 4/20\n",
      "20591/20591 [==============================] - 2s 105us/sample - loss: 0.1370 - acc: 0.9555 - val_loss: 0.0437 - val_acc: 0.9902\n",
      "Epoch 5/20\n",
      "20591/20591 [==============================] - 2s 103us/sample - loss: 0.1009 - acc: 0.9670 - val_loss: 0.0220 - val_acc: 0.9969\n",
      "Epoch 6/20\n",
      "20591/20591 [==============================] - 2s 102us/sample - loss: 0.0739 - acc: 0.9754 - val_loss: 0.0240 - val_acc: 0.9962\n",
      "Epoch 7/20\n",
      "20591/20591 [==============================] - 2s 99us/sample - loss: 0.0634 - acc: 0.9792 - val_loss: 0.0088 - val_acc: 0.9996\n",
      "Epoch 8/20\n",
      "20591/20591 [==============================] - 2s 108us/sample - loss: 0.0477 - acc: 0.9851 - val_loss: 0.0084 - val_acc: 0.9997\n",
      "Epoch 9/20\n",
      "20591/20591 [==============================] - 2s 94us/sample - loss: 0.0401 - acc: 0.9875 - val_loss: 0.0035 - val_acc: 1.0000\n",
      "Epoch 10/20\n",
      "20591/20591 [==============================] - 2s 99us/sample - loss: 0.0291 - acc: 0.9906 - val_loss: 0.0030 - val_acc: 1.0000\n",
      "Epoch 11/20\n",
      "20591/20591 [==============================] - 2s 109us/sample - loss: 0.0304 - acc: 0.9904 - val_loss: 0.0042 - val_acc: 0.9988\n",
      "Epoch 12/20\n",
      "20591/20591 [==============================] - 2s 100us/sample - loss: 0.0298 - acc: 0.9907 - val_loss: 0.0032 - val_acc: 0.9994\n",
      "Epoch 13/20\n",
      "20591/20591 [==============================] - 2s 102us/sample - loss: 0.0253 - acc: 0.9926 - val_loss: 0.0013 - val_acc: 1.0000\n",
      "Epoch 14/20\n",
      "20591/20591 [==============================] - 2s 104us/sample - loss: 0.0235 - acc: 0.9928 - val_loss: 0.0012 - val_acc: 1.0000\n",
      "Epoch 15/20\n",
      "20591/20591 [==============================] - 2s 102us/sample - loss: 0.0186 - acc: 0.9947 - val_loss: 9.6854e-04 - val_acc: 1.0000\n",
      "Epoch 16/20\n"
     ]
    },
    {
     "name": "stdout",
     "output_type": "stream",
     "text": [
      "20591/20591 [==============================] - 2s 97us/sample - loss: 0.0215 - acc: 0.9927 - val_loss: 0.0017 - val_acc: 1.0000\n",
      "Epoch 17/20\n",
      "20591/20591 [==============================] - 2s 102us/sample - loss: 0.0206 - acc: 0.9941 - val_loss: 0.0019 - val_acc: 1.0000\n",
      "Epoch 18/20\n",
      "20591/20591 [==============================] - 2s 100us/sample - loss: 0.0148 - acc: 0.9951 - val_loss: 0.0064 - val_acc: 0.9983\n",
      "Epoch 19/20\n",
      "20591/20591 [==============================] - 2s 105us/sample - loss: 0.0137 - acc: 0.9956 - val_loss: 6.1413e-04 - val_acc: 1.0000\n",
      "Epoch 20/20\n",
      "20591/20591 [==============================] - 2s 90us/sample - loss: 0.0163 - acc: 0.9951 - val_loss: 9.9498e-04 - val_acc: 1.0000\n",
      "7172/7172 [==============================] - 1s 87us/sample - loss: 0.3651 - acc: 0.9151\n",
      "Test accuracy for this model is 0.9150864481925964\n",
      "Train on 20591 samples, validate on 6864 samples\n",
      "Epoch 1/20\n",
      "20591/20591 [==============================] - 3s 153us/sample - loss: 1.3923 - acc: 0.5495 - val_loss: 0.4227 - val_acc: 0.8593\n",
      "Epoch 2/20\n",
      "20591/20591 [==============================] - 2s 84us/sample - loss: 0.3530 - acc: 0.8793 - val_loss: 0.1665 - val_acc: 0.9395\n",
      "Epoch 3/20\n",
      "20591/20591 [==============================] - 2s 84us/sample - loss: 0.1763 - acc: 0.9384 - val_loss: 0.0575 - val_acc: 0.9885\n",
      "Epoch 4/20\n",
      "20591/20591 [==============================] - 2s 85us/sample - loss: 0.1114 - acc: 0.9626 - val_loss: 0.0363 - val_acc: 0.9936\n",
      "Epoch 5/20\n",
      "20591/20591 [==============================] - 2s 83us/sample - loss: 0.0820 - acc: 0.9723 - val_loss: 0.0148 - val_acc: 0.9975\n",
      "Epoch 6/20\n",
      "20591/20591 [==============================] - 2s 83us/sample - loss: 0.0633 - acc: 0.9787 - val_loss: 0.0119 - val_acc: 0.9983\n",
      "Epoch 7/20\n",
      "20591/20591 [==============================] - 2s 73us/sample - loss: 0.0480 - acc: 0.9855 - val_loss: 0.0116 - val_acc: 0.9983\n",
      "Epoch 8/20\n",
      "20591/20591 [==============================] - 2s 91us/sample - loss: 0.0432 - acc: 0.9858 - val_loss: 0.0099 - val_acc: 0.9984\n",
      "Epoch 9/20\n",
      "20591/20591 [==============================] - 2s 78us/sample - loss: 0.0387 - acc: 0.9868 - val_loss: 0.0049 - val_acc: 0.9999\n",
      "Epoch 10/20\n",
      "20591/20591 [==============================] - 2s 88us/sample - loss: 0.0323 - acc: 0.9896 - val_loss: 0.0090 - val_acc: 0.9984\n",
      "Epoch 11/20\n",
      "20591/20591 [==============================] - 2s 77us/sample - loss: 0.0271 - acc: 0.9920 - val_loss: 0.0071 - val_acc: 0.9980\n",
      "Epoch 12/20\n",
      "20591/20591 [==============================] - 2s 84us/sample - loss: 0.0286 - acc: 0.9906 - val_loss: 0.0027 - val_acc: 1.0000\n",
      "Epoch 13/20\n",
      "20591/20591 [==============================] - 2s 91us/sample - loss: 0.0239 - acc: 0.9925 - val_loss: 0.0028 - val_acc: 0.9997\n",
      "Epoch 14/20\n",
      "20591/20591 [==============================] - 2s 81us/sample - loss: 0.0202 - acc: 0.9940 - val_loss: 0.0015 - val_acc: 0.9997\n",
      "Epoch 15/20\n",
      "20591/20591 [==============================] - 2s 88us/sample - loss: 0.0251 - acc: 0.9915 - val_loss: 0.0015 - val_acc: 1.0000\n",
      "Epoch 16/20\n",
      "20591/20591 [==============================] - 2s 100us/sample - loss: 0.0241 - acc: 0.9924 - val_loss: 0.0032 - val_acc: 0.9996\n",
      "Epoch 17/20\n",
      "20591/20591 [==============================] - 2s 92us/sample - loss: 0.0210 - acc: 0.9933 - val_loss: 0.0068 - val_acc: 0.9980\n",
      "Epoch 18/20\n",
      "20591/20591 [==============================] - 2s 90us/sample - loss: 0.0219 - acc: 0.9926 - val_loss: 0.0015 - val_acc: 1.0000\n",
      "Epoch 19/20\n",
      "20591/20591 [==============================] - 2s 91us/sample - loss: 0.0163 - acc: 0.9947 - val_loss: 9.1651e-04 - val_acc: 1.0000\n",
      "Epoch 20/20\n",
      "20591/20591 [==============================] - 2s 91us/sample - loss: 0.0148 - acc: 0.9946 - val_loss: 0.0035 - val_acc: 0.9993\n",
      "7172/7172 [==============================] - 1s 107us/sample - loss: 0.2453 - acc: 0.9368\n",
      "Test accuracy for this model is 0.9368376731872559\n",
      "Train on 20591 samples, validate on 6864 samples\n",
      "Epoch 1/20\n",
      "20591/20591 [==============================] - 3s 168us/sample - loss: 1.6440 - acc: 0.4764 - val_loss: 0.6740 - val_acc: 0.7888\n",
      "Epoch 2/20\n",
      "20591/20591 [==============================] - 2s 80us/sample - loss: 0.5273 - acc: 0.8215 - val_loss: 0.2499 - val_acc: 0.9207\n",
      "Epoch 3/20\n",
      "20591/20591 [==============================] - 2s 85us/sample - loss: 0.2541 - acc: 0.9143 - val_loss: 0.0876 - val_acc: 0.9825\n",
      "Epoch 4/20\n",
      "20591/20591 [==============================] - 2s 82us/sample - loss: 0.1541 - acc: 0.9484 - val_loss: 0.0592 - val_acc: 0.9824\n",
      "Epoch 5/20\n",
      "20591/20591 [==============================] - 2s 85us/sample - loss: 0.1002 - acc: 0.9685 - val_loss: 0.0314 - val_acc: 0.9923\n",
      "Epoch 6/20\n",
      "20591/20591 [==============================] - 2s 80us/sample - loss: 0.0733 - acc: 0.9762 - val_loss: 0.0215 - val_acc: 0.9955\n",
      "Epoch 7/20\n",
      "20591/20591 [==============================] - 2s 82us/sample - loss: 0.0614 - acc: 0.9799 - val_loss: 0.0172 - val_acc: 0.9972\n",
      "Epoch 8/20\n",
      "20591/20591 [==============================] - 2s 84us/sample - loss: 0.0474 - acc: 0.9849 - val_loss: 0.0071 - val_acc: 0.9999\n",
      "Epoch 9/20\n",
      "20591/20591 [==============================] - 2s 80us/sample - loss: 0.0403 - acc: 0.9876 - val_loss: 0.0055 - val_acc: 0.9999\n",
      "Epoch 10/20\n",
      "20591/20591 [==============================] - 2s 83us/sample - loss: 0.0342 - acc: 0.9895 - val_loss: 0.0058 - val_acc: 0.9993\n",
      "Epoch 11/20\n",
      "20591/20591 [==============================] - 2s 78us/sample - loss: 0.0326 - acc: 0.9905 - val_loss: 0.0028 - val_acc: 1.0000\n",
      "Epoch 12/20\n",
      "20591/20591 [==============================] - 2s 88us/sample - loss: 0.0274 - acc: 0.9922 - val_loss: 0.0043 - val_acc: 0.9990\n",
      "Epoch 13/20\n",
      "20591/20591 [==============================] - 2s 83us/sample - loss: 0.0318 - acc: 0.9900 - val_loss: 0.0021 - val_acc: 1.0000\n",
      "Epoch 14/20\n",
      "20591/20591 [==============================] - 1s 71us/sample - loss: 0.0246 - acc: 0.9925 - val_loss: 0.0022 - val_acc: 1.0000\n",
      "Epoch 15/20\n",
      "20591/20591 [==============================] - 2s 84us/sample - loss: 0.0250 - acc: 0.9926 - val_loss: 0.0023 - val_acc: 1.0000\n",
      "Epoch 16/20\n",
      "20591/20591 [==============================] - 2s 84us/sample - loss: 0.0213 - acc: 0.9936 - val_loss: 0.0023 - val_acc: 0.9999\n",
      "Epoch 17/20\n",
      "20591/20591 [==============================] - 2s 89us/sample - loss: 0.0162 - acc: 0.9952 - val_loss: 0.0021 - val_acc: 1.0000\n",
      "Epoch 18/20\n",
      "20591/20591 [==============================] - 2s 86us/sample - loss: 0.0164 - acc: 0.9952 - val_loss: 0.0032 - val_acc: 0.9993\n",
      "Epoch 19/20\n",
      "20591/20591 [==============================] - 2s 80us/sample - loss: 0.0205 - acc: 0.9934 - val_loss: 0.0016 - val_acc: 0.9999\n",
      "Epoch 20/20\n",
      "20591/20591 [==============================] - 2s 74us/sample - loss: 0.0108 - acc: 0.9971 - val_loss: 0.0027 - val_acc: 0.9996\n",
      "7172/7172 [==============================] - 1s 95us/sample - loss: 0.4940 - acc: 0.9083\n",
      "Test accuracy for this model is 0.9082543253898621\n",
      "Train on 20591 samples, validate on 6864 samples\n",
      "Epoch 1/20\n",
      "20591/20591 [==============================] - 3s 143us/sample - loss: 1.4088 - acc: 0.5504 - val_loss: 0.5031 - val_acc: 0.8243\n",
      "Epoch 2/20\n",
      "20591/20591 [==============================] - 1s 67us/sample - loss: 0.3885 - acc: 0.8721 - val_loss: 0.1633 - val_acc: 0.9473\n",
      "Epoch 3/20\n",
      "20591/20591 [==============================] - 1s 66us/sample - loss: 0.1833 - acc: 0.9402 - val_loss: 0.0602 - val_acc: 0.9882\n",
      "Epoch 4/20\n",
      "20591/20591 [==============================] - 1s 72us/sample - loss: 0.1017 - acc: 0.9679 - val_loss: 0.0288 - val_acc: 0.9956\n",
      "Epoch 5/20\n",
      "20591/20591 [==============================] - 2s 75us/sample - loss: 0.0752 - acc: 0.9764 - val_loss: 0.0159 - val_acc: 0.9980\n",
      "Epoch 6/20\n",
      "20591/20591 [==============================] - 1s 66us/sample - loss: 0.0559 - acc: 0.9835 - val_loss: 0.0215 - val_acc: 0.9939\n",
      "Epoch 7/20\n",
      "20591/20591 [==============================] - 1s 67us/sample - loss: 0.0425 - acc: 0.9874 - val_loss: 0.0104 - val_acc: 0.9978\n",
      "Epoch 8/20\n",
      "20591/20591 [==============================] - 1s 68us/sample - loss: 0.0312 - acc: 0.9900 - val_loss: 0.0060 - val_acc: 0.9993\n",
      "Epoch 9/20\n",
      "20591/20591 [==============================] - 1s 67us/sample - loss: 0.0300 - acc: 0.9909 - val_loss: 0.0036 - val_acc: 0.9996\n",
      "Epoch 10/20\n"
     ]
    },
    {
     "name": "stdout",
     "output_type": "stream",
     "text": [
      "20591/20591 [==============================] - 1s 60us/sample - loss: 0.0219 - acc: 0.9939 - val_loss: 0.0036 - val_acc: 1.0000\n",
      "Epoch 11/20\n",
      "20591/20591 [==============================] - 1s 68us/sample - loss: 0.0250 - acc: 0.9929 - val_loss: 0.0032 - val_acc: 1.0000\n",
      "Epoch 12/20\n",
      "20591/20591 [==============================] - 1s 62us/sample - loss: 0.0168 - acc: 0.9949 - val_loss: 0.0017 - val_acc: 1.0000\n",
      "Epoch 13/20\n",
      "20591/20591 [==============================] - 1s 63us/sample - loss: 0.0182 - acc: 0.9945 - val_loss: 0.0020 - val_acc: 0.9994\n",
      "Epoch 14/20\n",
      "20591/20591 [==============================] - 1s 70us/sample - loss: 0.0206 - acc: 0.9936 - val_loss: 0.0013 - val_acc: 1.0000\n",
      "Epoch 15/20\n",
      "20591/20591 [==============================] - 1s 65us/sample - loss: 0.0189 - acc: 0.9944 - val_loss: 0.0010 - val_acc: 1.0000\n",
      "Epoch 16/20\n",
      "20591/20591 [==============================] - 1s 65us/sample - loss: 0.0133 - acc: 0.9962 - val_loss: 8.5353e-04 - val_acc: 1.0000\n",
      "Epoch 17/20\n",
      "20591/20591 [==============================] - 1s 58us/sample - loss: 0.0147 - acc: 0.9957 - val_loss: 0.0018 - val_acc: 1.0000\n",
      "Epoch 18/20\n",
      "20591/20591 [==============================] - 1s 61us/sample - loss: 0.0120 - acc: 0.9964 - val_loss: 6.3484e-04 - val_acc: 1.0000\n",
      "Epoch 19/20\n",
      "20591/20591 [==============================] - 1s 59us/sample - loss: 0.0080 - acc: 0.9981 - val_loss: 0.0012 - val_acc: 0.9999\n",
      "Epoch 20/20\n",
      "20591/20591 [==============================] - 1s 57us/sample - loss: 0.0118 - acc: 0.9967 - val_loss: 0.0011 - val_acc: 0.9999\n",
      "7172/7172 [==============================] - 1s 94us/sample - loss: 0.4063 - acc: 0.9129\n",
      "Test accuracy for this model is 0.9128555655479431\n",
      "Train on 20591 samples, validate on 6864 samples\n",
      "Epoch 1/20\n",
      "20591/20591 [==============================] - 3s 145us/sample - loss: 1.7891 - acc: 0.4363 - val_loss: 0.7666 - val_acc: 0.7437\n",
      "Epoch 2/20\n",
      "20591/20591 [==============================] - 1s 66us/sample - loss: 0.5597 - acc: 0.8110 - val_loss: 0.2456 - val_acc: 0.9205\n",
      "Epoch 3/20\n",
      "20591/20591 [==============================] - 1s 56us/sample - loss: 0.2594 - acc: 0.9129 - val_loss: 0.1044 - val_acc: 0.9757\n",
      "Epoch 4/20\n",
      "20591/20591 [==============================] - 1s 62us/sample - loss: 0.1486 - acc: 0.9518 - val_loss: 0.0567 - val_acc: 0.9894\n",
      "Epoch 5/20\n",
      "20591/20591 [==============================] - 1s 49us/sample - loss: 0.1055 - acc: 0.9665 - val_loss: 0.0328 - val_acc: 0.9942\n",
      "Epoch 6/20\n",
      "20591/20591 [==============================] - 1s 59us/sample - loss: 0.0729 - acc: 0.9773 - val_loss: 0.0208 - val_acc: 0.9966\n",
      "Epoch 7/20\n",
      "20591/20591 [==============================] - 1s 66us/sample - loss: 0.0524 - acc: 0.9848 - val_loss: 0.0115 - val_acc: 0.9985\n",
      "Epoch 8/20\n",
      "20591/20591 [==============================] - 1s 48us/sample - loss: 0.0476 - acc: 0.9858 - val_loss: 0.0087 - val_acc: 0.9996\n",
      "Epoch 9/20\n",
      "20591/20591 [==============================] - 1s 46us/sample - loss: 0.0343 - acc: 0.9897 - val_loss: 0.0062 - val_acc: 0.9997\n",
      "Epoch 10/20\n",
      "20591/20591 [==============================] - 1s 47us/sample - loss: 0.0328 - acc: 0.9898 - val_loss: 0.0065 - val_acc: 0.9993\n",
      "Epoch 11/20\n",
      "20591/20591 [==============================] - 1s 49us/sample - loss: 0.0251 - acc: 0.9926 - val_loss: 0.0047 - val_acc: 0.9999\n",
      "Epoch 12/20\n",
      "20591/20591 [==============================] - 1s 47us/sample - loss: 0.0260 - acc: 0.9926 - val_loss: 0.0031 - val_acc: 1.0000\n",
      "Epoch 13/20\n",
      "20591/20591 [==============================] - 1s 66us/sample - loss: 0.0197 - acc: 0.9949 - val_loss: 0.0031 - val_acc: 1.0000\n",
      "Epoch 14/20\n",
      "20591/20591 [==============================] - 1s 65us/sample - loss: 0.0241 - acc: 0.9924 - val_loss: 0.0022 - val_acc: 1.0000\n",
      "Epoch 15/20\n",
      "20591/20591 [==============================] - 1s 67us/sample - loss: 0.0172 - acc: 0.9949 - val_loss: 0.0023 - val_acc: 0.9997\n",
      "Epoch 16/20\n",
      "20591/20591 [==============================] - 1s 54us/sample - loss: 0.0166 - acc: 0.9956 - val_loss: 0.0010 - val_acc: 1.0000\n",
      "Epoch 17/20\n",
      "20591/20591 [==============================] - 1s 54us/sample - loss: 0.0179 - acc: 0.9942 - val_loss: 0.0015 - val_acc: 1.0000\n",
      "Epoch 18/20\n",
      "20591/20591 [==============================] - 1s 56us/sample - loss: 0.0136 - acc: 0.9964 - val_loss: 0.0012 - val_acc: 0.9999\n",
      "Epoch 19/20\n",
      "20591/20591 [==============================] - 1s 53us/sample - loss: 0.0142 - acc: 0.9960 - val_loss: 0.0021 - val_acc: 0.9999\n",
      "Epoch 20/20\n",
      "20591/20591 [==============================] - 1s 54us/sample - loss: 0.0123 - acc: 0.9964 - val_loss: 8.3745e-04 - val_acc: 1.0000\n",
      "7172/7172 [==============================] - 1s 82us/sample - loss: 0.3479 - acc: 0.9179\n",
      "Test accuracy for this model is 0.9178750514984131\n",
      "Train on 20591 samples, validate on 6864 samples\n",
      "Epoch 1/20\n",
      "20591/20591 [==============================] - 3s 123us/sample - loss: 1.9255 - acc: 0.3915 - val_loss: 0.8659 - val_acc: 0.7216\n",
      "Epoch 2/20\n",
      "20591/20591 [==============================] - 1s 49us/sample - loss: 0.7032 - acc: 0.7627 - val_loss: 0.3623 - val_acc: 0.8827\n",
      "Epoch 3/20\n",
      "20591/20591 [==============================] - 1s 50us/sample - loss: 0.4090 - acc: 0.8594 - val_loss: 0.2233 - val_acc: 0.9279\n",
      "Epoch 4/20\n",
      "20591/20591 [==============================] - 1s 56us/sample - loss: 0.2649 - acc: 0.9080 - val_loss: 0.1106 - val_acc: 0.9713\n",
      "Epoch 5/20\n",
      "20591/20591 [==============================] - 1s 53us/sample - loss: 0.1981 - acc: 0.9315 - val_loss: 0.0742 - val_acc: 0.9838\n",
      "Epoch 6/20\n",
      "20591/20591 [==============================] - 1s 54us/sample - loss: 0.1575 - acc: 0.9480 - val_loss: 0.0503 - val_acc: 0.9924\n",
      "Epoch 7/20\n",
      "20591/20591 [==============================] - 1s 57us/sample - loss: 0.1261 - acc: 0.9579 - val_loss: 0.0373 - val_acc: 0.9927\n",
      "Epoch 8/20\n",
      "20591/20591 [==============================] - 1s 54us/sample - loss: 0.1026 - acc: 0.9661 - val_loss: 0.0271 - val_acc: 0.9950\n",
      "Epoch 9/20\n",
      "20591/20591 [==============================] - 1s 59us/sample - loss: 0.0897 - acc: 0.9701 - val_loss: 0.0274 - val_acc: 0.9955\n",
      "Epoch 10/20\n",
      "20591/20591 [==============================] - 1s 55us/sample - loss: 0.0741 - acc: 0.9749 - val_loss: 0.0127 - val_acc: 0.9980\n",
      "Epoch 11/20\n",
      "20591/20591 [==============================] - 1s 56us/sample - loss: 0.0745 - acc: 0.9755 - val_loss: 0.0159 - val_acc: 0.9980\n",
      "Epoch 12/20\n",
      "20591/20591 [==============================] - 1s 55us/sample - loss: 0.0612 - acc: 0.9809 - val_loss: 0.0122 - val_acc: 0.9985\n",
      "Epoch 13/20\n",
      "20591/20591 [==============================] - 1s 58us/sample - loss: 0.0575 - acc: 0.9818 - val_loss: 0.0099 - val_acc: 0.9988\n",
      "Epoch 14/20\n",
      "20591/20591 [==============================] - 1s 50us/sample - loss: 0.0488 - acc: 0.9851 - val_loss: 0.0121 - val_acc: 0.9990\n",
      "Epoch 15/20\n",
      "20591/20591 [==============================] - 1s 52us/sample - loss: 0.0481 - acc: 0.9841 - val_loss: 0.0128 - val_acc: 0.9966\n",
      "Epoch 16/20\n",
      "20591/20591 [==============================] - 1s 47us/sample - loss: 0.0429 - acc: 0.9870 - val_loss: 0.0047 - val_acc: 1.0000\n",
      "Epoch 17/20\n",
      "20591/20591 [==============================] - 1s 47us/sample - loss: 0.0387 - acc: 0.9866 - val_loss: 0.0050 - val_acc: 0.9990\n",
      "Epoch 18/20\n",
      "20591/20591 [==============================] - 1s 46us/sample - loss: 0.0331 - acc: 0.9902 - val_loss: 0.0033 - val_acc: 0.9999\n",
      "Epoch 19/20\n",
      "20591/20591 [==============================] - 1s 47us/sample - loss: 0.0356 - acc: 0.9879 - val_loss: 0.0037 - val_acc: 0.9997\n",
      "Epoch 20/20\n",
      "20591/20591 [==============================] - 1s 49us/sample - loss: 0.0301 - acc: 0.9904 - val_loss: 0.0026 - val_acc: 0.9999\n",
      "7172/7172 [==============================] - 1s 87us/sample - loss: 0.4072 - acc: 0.9290\n",
      "Test accuracy for this model is 0.9290295839309692\n",
      "Train on 20591 samples, validate on 6864 samples\n",
      "Epoch 1/20\n",
      "20591/20591 [==============================] - 3s 130us/sample - loss: 2.1639 - acc: 0.3186 - val_loss: 1.1714 - val_acc: 0.6241\n",
      "Epoch 2/20\n",
      "20591/20591 [==============================] - 1s 50us/sample - loss: 0.8991 - acc: 0.7007 - val_loss: 0.4700 - val_acc: 0.8590\n",
      "Epoch 3/20\n",
      "20591/20591 [==============================] - 1s 53us/sample - loss: 0.4636 - acc: 0.8415 - val_loss: 0.2338 - val_acc: 0.9305\n",
      "Epoch 4/20\n"
     ]
    },
    {
     "name": "stdout",
     "output_type": "stream",
     "text": [
      "20591/20591 [==============================] - 1s 48us/sample - loss: 0.2853 - acc: 0.9045 - val_loss: 0.1241 - val_acc: 0.9675\n",
      "Epoch 5/20\n",
      "20591/20591 [==============================] - 1s 54us/sample - loss: 0.1904 - acc: 0.9358 - val_loss: 0.0593 - val_acc: 0.9883\n",
      "Epoch 6/20\n",
      "20591/20591 [==============================] - 1s 52us/sample - loss: 0.1219 - acc: 0.9602 - val_loss: 0.0344 - val_acc: 0.9946\n",
      "Epoch 7/20\n",
      "20591/20591 [==============================] - 1s 53us/sample - loss: 0.0925 - acc: 0.9714 - val_loss: 0.0206 - val_acc: 0.9987\n",
      "Epoch 8/20\n",
      "20591/20591 [==============================] - 1s 48us/sample - loss: 0.0689 - acc: 0.9794 - val_loss: 0.0142 - val_acc: 0.9997\n",
      "Epoch 9/20\n",
      "20591/20591 [==============================] - 1s 50us/sample - loss: 0.0593 - acc: 0.9830 - val_loss: 0.0138 - val_acc: 0.9985\n",
      "Epoch 10/20\n",
      "20591/20591 [==============================] - 1s 48us/sample - loss: 0.0469 - acc: 0.9855 - val_loss: 0.0089 - val_acc: 0.9991\n",
      "Epoch 11/20\n",
      "20591/20591 [==============================] - 1s 50us/sample - loss: 0.0453 - acc: 0.9860 - val_loss: 0.0074 - val_acc: 0.9990\n",
      "Epoch 12/20\n",
      "20591/20591 [==============================] - 1s 51us/sample - loss: 0.0369 - acc: 0.9892 - val_loss: 0.0059 - val_acc: 0.9999\n",
      "Epoch 13/20\n",
      "20591/20591 [==============================] - 1s 51us/sample - loss: 0.0331 - acc: 0.9897 - val_loss: 0.0036 - val_acc: 1.0000\n",
      "Epoch 14/20\n",
      "20591/20591 [==============================] - 1s 53us/sample - loss: 0.0275 - acc: 0.9923 - val_loss: 0.0026 - val_acc: 1.0000\n",
      "Epoch 15/20\n",
      "20591/20591 [==============================] - 1s 54us/sample - loss: 0.0261 - acc: 0.9927 - val_loss: 0.0035 - val_acc: 0.9999\n",
      "Epoch 16/20\n",
      "20591/20591 [==============================] - 1s 51us/sample - loss: 0.0239 - acc: 0.9931 - val_loss: 0.0023 - val_acc: 1.0000\n",
      "Epoch 17/20\n",
      "20591/20591 [==============================] - 1s 51us/sample - loss: 0.0268 - acc: 0.9908 - val_loss: 0.0020 - val_acc: 1.0000\n",
      "Epoch 18/20\n",
      "20591/20591 [==============================] - 1s 48us/sample - loss: 0.0187 - acc: 0.9941 - val_loss: 0.0025 - val_acc: 0.9999\n",
      "Epoch 19/20\n",
      "20591/20591 [==============================] - 1s 51us/sample - loss: 0.0216 - acc: 0.9937 - val_loss: 0.0015 - val_acc: 1.0000\n",
      "Epoch 20/20\n",
      "20591/20591 [==============================] - 1s 53us/sample - loss: 0.0185 - acc: 0.9943 - val_loss: 0.0017 - val_acc: 0.9999\n",
      "7172/7172 [==============================] - 1s 92us/sample - loss: 0.3658 - acc: 0.8974\n",
      "Test accuracy for this model is 0.89737868309021\n",
      "Train on 20591 samples, validate on 6864 samples\n",
      "Epoch 1/20\n",
      "20591/20591 [==============================] - 2s 119us/sample - loss: 1.9088 - acc: 0.3965 - val_loss: 0.9350 - val_acc: 0.6894\n",
      "Epoch 2/20\n",
      "20591/20591 [==============================] - 1s 47us/sample - loss: 0.7183 - acc: 0.7589 - val_loss: 0.3748 - val_acc: 0.8867\n",
      "Epoch 3/20\n",
      "20591/20591 [==============================] - 1s 49us/sample - loss: 0.3607 - acc: 0.8771 - val_loss: 0.1628 - val_acc: 0.9537\n",
      "Epoch 4/20\n",
      "20591/20591 [==============================] - 1s 59us/sample - loss: 0.2124 - acc: 0.9306 - val_loss: 0.0952 - val_acc: 0.9752\n",
      "Epoch 5/20\n",
      "20591/20591 [==============================] - 1s 50us/sample - loss: 0.1505 - acc: 0.9498 - val_loss: 0.0540 - val_acc: 0.9918\n",
      "Epoch 6/20\n",
      "20591/20591 [==============================] - 1s 49us/sample - loss: 0.1157 - acc: 0.9628 - val_loss: 0.0432 - val_acc: 0.9917\n",
      "Epoch 7/20\n",
      "20591/20591 [==============================] - 1s 49us/sample - loss: 0.0826 - acc: 0.9741 - val_loss: 0.0230 - val_acc: 0.9975\n",
      "Epoch 8/20\n",
      "20591/20591 [==============================] - 1s 48us/sample - loss: 0.0686 - acc: 0.9785 - val_loss: 0.0151 - val_acc: 0.9991\n",
      "Epoch 9/20\n",
      "20591/20591 [==============================] - 1s 47us/sample - loss: 0.0583 - acc: 0.9817 - val_loss: 0.0146 - val_acc: 0.9991\n",
      "Epoch 10/20\n",
      "20591/20591 [==============================] - 1s 49us/sample - loss: 0.0474 - acc: 0.9848 - val_loss: 0.0089 - val_acc: 1.0000\n",
      "Epoch 11/20\n",
      "20591/20591 [==============================] - 1s 48us/sample - loss: 0.0400 - acc: 0.9883 - val_loss: 0.0078 - val_acc: 0.9993\n",
      "Epoch 12/20\n",
      "20591/20591 [==============================] - 1s 51us/sample - loss: 0.0401 - acc: 0.9878 - val_loss: 0.0072 - val_acc: 0.9994\n",
      "Epoch 13/20\n",
      "20591/20591 [==============================] - 1s 50us/sample - loss: 0.0308 - acc: 0.9906 - val_loss: 0.0040 - val_acc: 1.0000\n",
      "Epoch 14/20\n",
      "20591/20591 [==============================] - 1s 50us/sample - loss: 0.0294 - acc: 0.9919 - val_loss: 0.0042 - val_acc: 1.0000\n",
      "Epoch 15/20\n",
      "20591/20591 [==============================] - 1s 53us/sample - loss: 0.0268 - acc: 0.9923 - val_loss: 0.0026 - val_acc: 1.0000\n",
      "Epoch 16/20\n",
      "20591/20591 [==============================] - 1s 48us/sample - loss: 0.0250 - acc: 0.9927 - val_loss: 0.0026 - val_acc: 1.0000\n",
      "Epoch 17/20\n",
      "20591/20591 [==============================] - 1s 50us/sample - loss: 0.0274 - acc: 0.9914 - val_loss: 0.0030 - val_acc: 1.0000\n",
      "Epoch 18/20\n",
      "20591/20591 [==============================] - 1s 48us/sample - loss: 0.0204 - acc: 0.9949 - val_loss: 0.0020 - val_acc: 1.0000\n",
      "Epoch 19/20\n",
      "20591/20591 [==============================] - 1s 45us/sample - loss: 0.0212 - acc: 0.9936 - val_loss: 0.0030 - val_acc: 0.9997\n",
      "Epoch 20/20\n",
      "20591/20591 [==============================] - 1s 50us/sample - loss: 0.0254 - acc: 0.9922 - val_loss: 0.0023 - val_acc: 0.9999\n",
      "7172/7172 [==============================] - 1s 87us/sample - loss: 0.3588 - acc: 0.9175\n",
      "Test accuracy for this model is 0.9174568057060242\n",
      "Train on 20591 samples, validate on 6864 samples\n",
      "Epoch 1/20\n",
      "20591/20591 [==============================] - 2s 99us/sample - loss: 1.9011 - acc: 0.4016 - val_loss: 0.9384 - val_acc: 0.6942\n",
      "Epoch 2/20\n",
      "20591/20591 [==============================] - 1s 47us/sample - loss: 0.6665 - acc: 0.7810 - val_loss: 0.3482 - val_acc: 0.8996\n",
      "Epoch 3/20\n",
      "20591/20591 [==============================] - 1s 45us/sample - loss: 0.3470 - acc: 0.8875 - val_loss: 0.1689 - val_acc: 0.9596\n",
      "Epoch 4/20\n",
      "20591/20591 [==============================] - 1s 44us/sample - loss: 0.2124 - acc: 0.9292 - val_loss: 0.0832 - val_acc: 0.9844\n",
      "Epoch 5/20\n",
      "20591/20591 [==============================] - 1s 46us/sample - loss: 0.1451 - acc: 0.9536 - val_loss: 0.0490 - val_acc: 0.9933\n",
      "Epoch 6/20\n",
      "20591/20591 [==============================] - 1s 40us/sample - loss: 0.0976 - acc: 0.9710 - val_loss: 0.0335 - val_acc: 0.9923\n",
      "Epoch 7/20\n",
      "20591/20591 [==============================] - 1s 48us/sample - loss: 0.0804 - acc: 0.9755 - val_loss: 0.0253 - val_acc: 0.9977\n",
      "Epoch 8/20\n",
      "20591/20591 [==============================] - 1s 43us/sample - loss: 0.0690 - acc: 0.9784 - val_loss: 0.0163 - val_acc: 0.9984\n",
      "Epoch 9/20\n",
      "20591/20591 [==============================] - 1s 53us/sample - loss: 0.0500 - acc: 0.9856 - val_loss: 0.0137 - val_acc: 0.9984\n",
      "Epoch 10/20\n",
      "20591/20591 [==============================] - 1s 39us/sample - loss: 0.0424 - acc: 0.9874 - val_loss: 0.0091 - val_acc: 0.9988\n",
      "Epoch 11/20\n",
      "20591/20591 [==============================] - 1s 38us/sample - loss: 0.0349 - acc: 0.9895 - val_loss: 0.0055 - val_acc: 0.9993\n",
      "Epoch 12/20\n",
      "20591/20591 [==============================] - 1s 39us/sample - loss: 0.0340 - acc: 0.9903 - val_loss: 0.0050 - val_acc: 0.9999\n",
      "Epoch 13/20\n",
      "20591/20591 [==============================] - 1s 38us/sample - loss: 0.0303 - acc: 0.9911 - val_loss: 0.0034 - val_acc: 1.0000\n",
      "Epoch 14/20\n",
      "20591/20591 [==============================] - 1s 39us/sample - loss: 0.0246 - acc: 0.9932 - val_loss: 0.0054 - val_acc: 0.9996\n",
      "Epoch 15/20\n",
      "20591/20591 [==============================] - 1s 39us/sample - loss: 0.0301 - acc: 0.9908 - val_loss: 0.0038 - val_acc: 0.9999\n",
      "Epoch 16/20\n",
      "20591/20591 [==============================] - 1s 39us/sample - loss: 0.0238 - acc: 0.9931 - val_loss: 0.0023 - val_acc: 0.9999\n",
      "Epoch 17/20\n",
      "20591/20591 [==============================] - 1s 38us/sample - loss: 0.0232 - acc: 0.9929 - val_loss: 0.0043 - val_acc: 0.9993\n",
      "Epoch 18/20\n",
      "20591/20591 [==============================] - 1s 41us/sample - loss: 0.0181 - acc: 0.9951 - val_loss: 0.0014 - val_acc: 1.0000\n",
      "Epoch 19/20\n",
      "20591/20591 [==============================] - 1s 38us/sample - loss: 0.0152 - acc: 0.9957 - val_loss: 0.0013 - val_acc: 1.0000\n",
      "Epoch 20/20\n"
     ]
    },
    {
     "name": "stdout",
     "output_type": "stream",
     "text": [
      "20591/20591 [==============================] - 1s 38us/sample - loss: 0.0140 - acc: 0.9962 - val_loss: 0.0016 - val_acc: 1.0000\n",
      "7172/7172 [==============================] - 1s 74us/sample - loss: 0.3515 - acc: 0.9182\n",
      "Test accuracy for this model is 0.9181539416313171\n",
      "Train on 20591 samples, validate on 6864 samples\n",
      "Epoch 1/20\n",
      "20591/20591 [==============================] - 2s 118us/sample - loss: 2.1808 - acc: 0.3198 - val_loss: 1.2413 - val_acc: 0.5951\n",
      "Epoch 2/20\n",
      "20591/20591 [==============================] - 1s 49us/sample - loss: 0.9785 - acc: 0.6803 - val_loss: 0.5521 - val_acc: 0.8284\n",
      "Epoch 3/20\n",
      "20591/20591 [==============================] - 1s 54us/sample - loss: 0.5078 - acc: 0.8286 - val_loss: 0.2903 - val_acc: 0.9175\n",
      "Epoch 4/20\n",
      "20591/20591 [==============================] - 1s 48us/sample - loss: 0.3054 - acc: 0.8989 - val_loss: 0.1628 - val_acc: 0.9527\n",
      "Epoch 5/20\n",
      "20591/20591 [==============================] - 1s 47us/sample - loss: 0.2049 - acc: 0.9320 - val_loss: 0.0929 - val_acc: 0.9824\n",
      "Epoch 6/20\n",
      "20591/20591 [==============================] - 1s 53us/sample - loss: 0.1521 - acc: 0.9506 - val_loss: 0.0558 - val_acc: 0.9886\n",
      "Epoch 7/20\n",
      "20591/20591 [==============================] - 1s 47us/sample - loss: 0.1100 - acc: 0.9660 - val_loss: 0.0362 - val_acc: 0.9936\n",
      "Epoch 8/20\n",
      "20591/20591 [==============================] - 1s 47us/sample - loss: 0.0904 - acc: 0.9716 - val_loss: 0.0330 - val_acc: 0.9930\n",
      "Epoch 9/20\n",
      "20591/20591 [==============================] - 1s 54us/sample - loss: 0.0736 - acc: 0.9767 - val_loss: 0.0193 - val_acc: 0.9974\n",
      "Epoch 10/20\n",
      "20591/20591 [==============================] - 1s 50us/sample - loss: 0.0647 - acc: 0.9789 - val_loss: 0.0200 - val_acc: 0.9953\n",
      "Epoch 11/20\n",
      "20591/20591 [==============================] - 1s 46us/sample - loss: 0.0573 - acc: 0.9825 - val_loss: 0.0140 - val_acc: 0.9968\n",
      "Epoch 12/20\n",
      "20591/20591 [==============================] - 1s 47us/sample - loss: 0.0495 - acc: 0.9851 - val_loss: 0.0100 - val_acc: 0.9980\n",
      "Epoch 13/20\n",
      "20591/20591 [==============================] - 1s 48us/sample - loss: 0.0429 - acc: 0.9864 - val_loss: 0.0087 - val_acc: 0.9987\n",
      "Epoch 14/20\n",
      "20591/20591 [==============================] - 1s 45us/sample - loss: 0.0409 - acc: 0.9878 - val_loss: 0.0085 - val_acc: 0.9990\n",
      "Epoch 15/20\n",
      "20591/20591 [==============================] - 1s 47us/sample - loss: 0.0313 - acc: 0.9913 - val_loss: 0.0060 - val_acc: 0.9990\n",
      "Epoch 16/20\n",
      "20591/20591 [==============================] - 1s 46us/sample - loss: 0.0344 - acc: 0.9899 - val_loss: 0.0046 - val_acc: 0.9999\n",
      "Epoch 17/20\n",
      "20591/20591 [==============================] - 1s 46us/sample - loss: 0.0358 - acc: 0.9884 - val_loss: 0.0039 - val_acc: 0.9997\n",
      "Epoch 18/20\n",
      "20591/20591 [==============================] - 1s 51us/sample - loss: 0.0275 - acc: 0.9911 - val_loss: 0.0107 - val_acc: 0.9971\n",
      "Epoch 19/20\n",
      "20591/20591 [==============================] - 1s 43us/sample - loss: 0.0300 - acc: 0.9909 - val_loss: 0.0052 - val_acc: 0.9993\n",
      "Epoch 20/20\n",
      "20591/20591 [==============================] - 1s 41us/sample - loss: 0.0245 - acc: 0.9926 - val_loss: 0.0024 - val_acc: 1.0000\n",
      "7172/7172 [==============================] - 1s 81us/sample - loss: 0.4325 - acc: 0.9056\n",
      "Test accuracy for this model is 0.905605137348175\n"
     ]
    }
   ],
   "source": [
    "#optimize batch size\n",
    "batch_accuracies = {}\n",
    "\n",
    "for batch_size in batch_size_range: \n",
    "    tempModel = testModel_HyperParamLoop() #create temporary model with default dropout 0.2\n",
    "    tempModel.compile(optimizer = opt, loss = loss, metrics = ['accuracy']) #compile temporary model\n",
    "    tempModelHist = tempModel.fit(cnn_x_train, y_train, validation_split = 0.25, \n",
    "                              batch_size= batch_size, epochs=20, shuffle=True, callbacks = [early_stopping, history]) \n",
    "                            # testing range of batch sizes\n",
    "    trainAcc = tempModelHist.history['acc'][-1] #gets final training accuracy\n",
    "    testLoss, testAcc = tempModel.evaluate(cnn_x_test, y_test) #gets test loss and accuracy\n",
    "    print(\"Test accuracy for this model is {}\".format(testAcc))\n",
    "    batch_accuracies[batch_size] = [trainAcc, testAcc] #save model accuracy in dictionary"
   ]
  },
  {
   "cell_type": "code",
   "execution_count": 110,
   "metadata": {},
   "outputs": [],
   "source": [
    "def GetKey(acc_dict,val):\n",
    "    for key, value in acc_dict.items():\n",
    "        if val == value[1]:\n",
    "            return key"
   ]
  },
  {
   "cell_type": "code",
   "execution_count": 111,
   "metadata": {},
   "outputs": [
    {
     "name": "stdout",
     "output_type": "stream",
     "text": [
      "Optimal batch size is 125\n"
     ]
    }
   ],
   "source": [
    "# get optimal batch size via max test accuracy\n",
    "# print(batch_accuracies)\n",
    "max_test_acc = max(batch_accuracies.values())[1]\n",
    "optimal_batch_size = GetKey(batch_accuracies, max_test_acc)\n",
    "print('Optimal batch size is {}'.format(optimal_batch_size) )"
   ]
  },
  {
   "cell_type": "code",
   "execution_count": 112,
   "metadata": {},
   "outputs": [
    {
     "name": "stdout",
     "output_type": "stream",
     "text": [
      "Train on 20591 samples, validate on 6864 samples\n",
      "Epoch 1/20\n",
      "20591/20591 [==============================] - 3s 124us/sample - loss: 2.2424 - acc: 0.3134 - val_loss: 1.2890 - val_acc: 0.6109\n",
      "Epoch 2/20\n",
      "20591/20591 [==============================] - 1s 60us/sample - loss: 0.9955 - acc: 0.6802 - val_loss: 0.6218 - val_acc: 0.8100\n",
      "Epoch 3/20\n",
      "20591/20591 [==============================] - 1s 60us/sample - loss: 0.5509 - acc: 0.8137 - val_loss: 0.2985 - val_acc: 0.9100\n",
      "Epoch 4/20\n",
      "20591/20591 [==============================] - 1s 59us/sample - loss: 0.3156 - acc: 0.8926 - val_loss: 0.1521 - val_acc: 0.9642\n",
      "Epoch 5/20\n",
      "20591/20591 [==============================] - 1s 60us/sample - loss: 0.1961 - acc: 0.9356 - val_loss: 0.0947 - val_acc: 0.9761\n",
      "Epoch 6/20\n",
      "20591/20591 [==============================] - 1s 59us/sample - loss: 0.1351 - acc: 0.9568 - val_loss: 0.0449 - val_acc: 0.9936\n",
      "Epoch 7/20\n",
      "20591/20591 [==============================] - 1s 60us/sample - loss: 0.1006 - acc: 0.9672 - val_loss: 0.0286 - val_acc: 0.9958\n",
      "Epoch 8/20\n",
      "20591/20591 [==============================] - 1s 61us/sample - loss: 0.0717 - acc: 0.9783 - val_loss: 0.0174 - val_acc: 0.9971\n",
      "Epoch 9/20\n",
      "20591/20591 [==============================] - 1s 62us/sample - loss: 0.0610 - acc: 0.9815 - val_loss: 0.0179 - val_acc: 0.9953\n",
      "Epoch 10/20\n",
      "20591/20591 [==============================] - 1s 71us/sample - loss: 0.0522 - acc: 0.9842 - val_loss: 0.0099 - val_acc: 0.9993\n",
      "Epoch 11/20\n",
      "20591/20591 [==============================] - 2s 78us/sample - loss: 0.0393 - acc: 0.9880 - val_loss: 0.0094 - val_acc: 0.9964\n",
      "Epoch 12/20\n",
      "20591/20591 [==============================] - 2s 75us/sample - loss: 0.0345 - acc: 0.9901 - val_loss: 0.0052 - val_acc: 0.9993\n",
      "Epoch 13/20\n",
      "20591/20591 [==============================] - 2s 78us/sample - loss: 0.0268 - acc: 0.9923 - val_loss: 0.0058 - val_acc: 0.9988\n",
      "Epoch 14/20\n",
      "20591/20591 [==============================] - 2s 73us/sample - loss: 0.0316 - acc: 0.9904 - val_loss: 0.0062 - val_acc: 0.9994\n",
      "Epoch 15/20\n",
      "20591/20591 [==============================] - 2s 73us/sample - loss: 0.0280 - acc: 0.9915 - val_loss: 0.0111 - val_acc: 0.9969\n",
      "Epoch 16/20\n",
      "20591/20591 [==============================] - 2s 80us/sample - loss: 0.0229 - acc: 0.9929 - val_loss: 0.0030 - val_acc: 0.9994\n",
      "Epoch 17/20\n",
      "20591/20591 [==============================] - 1s 67us/sample - loss: 0.0185 - acc: 0.9946 - val_loss: 0.0017 - val_acc: 0.9997\n",
      "Epoch 18/20\n",
      "20591/20591 [==============================] - 1s 62us/sample - loss: 0.0226 - acc: 0.9927 - val_loss: 0.0034 - val_acc: 0.9999\n",
      "Epoch 19/20\n",
      "20591/20591 [==============================] - 2s 73us/sample - loss: 0.0141 - acc: 0.9953 - val_loss: 0.0010 - val_acc: 1.0000\n",
      "Epoch 20/20\n",
      "20591/20591 [==============================] - 1s 65us/sample - loss: 0.0132 - acc: 0.9966 - val_loss: 4.3373e-04 - val_acc: 1.0000\n",
      "7172/7172 [==============================] - 1s 91us/sample - loss: 0.5094 - acc: 0.8982\n",
      "Test accuracy for this model is 0.8982152938842773\n",
      "Train on 20591 samples, validate on 6864 samples\n",
      "Epoch 1/20\n",
      "20591/20591 [==============================] - 3s 146us/sample - loss: 1.6615 - acc: 0.4795 - val_loss: 0.6787 - val_acc: 0.7736\n",
      "Epoch 2/20\n",
      "20591/20591 [==============================] - 2s 74us/sample - loss: 0.4131 - acc: 0.8596 - val_loss: 0.1230 - val_acc: 0.9612\n",
      "Epoch 3/20\n",
      "20591/20591 [==============================] - 1s 65us/sample - loss: 0.1755 - acc: 0.9414 - val_loss: 0.0502 - val_acc: 0.9886\n",
      "Epoch 4/20\n",
      "20591/20591 [==============================] - 1s 64us/sample - loss: 0.0823 - acc: 0.9734 - val_loss: 0.0158 - val_acc: 0.9962\n",
      "Epoch 5/20\n",
      "20591/20591 [==============================] - 1s 65us/sample - loss: 0.0631 - acc: 0.9801 - val_loss: 0.0633 - val_acc: 0.9847\n",
      "Epoch 6/20\n",
      "20591/20591 [==============================] - 1s 70us/sample - loss: 0.0549 - acc: 0.9819 - val_loss: 0.0050 - val_acc: 0.9994\n",
      "Epoch 7/20\n",
      "20591/20591 [==============================] - 2s 78us/sample - loss: 0.0456 - acc: 0.9841 - val_loss: 0.0080 - val_acc: 0.9981\n",
      "Epoch 8/20\n",
      "20591/20591 [==============================] - 2s 76us/sample - loss: 0.0366 - acc: 0.9891 - val_loss: 0.0024 - val_acc: 0.9999\n",
      "Epoch 9/20\n",
      "20591/20591 [==============================] - 2s 76us/sample - loss: 0.0301 - acc: 0.9901 - val_loss: 0.0126 - val_acc: 0.9959\n",
      "Epoch 10/20\n",
      "20591/20591 [==============================] - 1s 69us/sample - loss: 0.0234 - acc: 0.9928 - val_loss: 0.0012 - val_acc: 1.0000\n",
      "Epoch 11/20\n",
      "20591/20591 [==============================] - 1s 68us/sample - loss: 0.0135 - acc: 0.9961 - val_loss: 5.1827e-04 - val_acc: 0.9999\n",
      "Epoch 12/20\n",
      "20591/20591 [==============================] - 1s 69us/sample - loss: 0.0302 - acc: 0.9909 - val_loss: 0.0018 - val_acc: 1.0000\n",
      "Epoch 13/20\n",
      "20591/20591 [==============================] - 1s 72us/sample - loss: 0.0158 - acc: 0.9955 - val_loss: 8.1430e-04 - val_acc: 0.9999\n",
      "Epoch 14/20\n",
      "20591/20591 [==============================] - 1s 70us/sample - loss: 0.0293 - acc: 0.9905 - val_loss: 0.0035 - val_acc: 1.0000\n",
      "Epoch 15/20\n",
      "20591/20591 [==============================] - 1s 67us/sample - loss: 0.0098 - acc: 0.9969 - val_loss: 2.4551e-04 - val_acc: 1.0000\n",
      "Epoch 16/20\n",
      "20591/20591 [==============================] - 1s 60us/sample - loss: 0.0296 - acc: 0.9911 - val_loss: 0.0071 - val_acc: 0.9985\n",
      "Epoch 17/20\n",
      "20591/20591 [==============================] - 1s 62us/sample - loss: 0.0125 - acc: 0.9963 - val_loss: 4.7966e-04 - val_acc: 1.0000\n",
      "Epoch 18/20\n",
      "20591/20591 [==============================] - 1s 59us/sample - loss: 0.0206 - acc: 0.9939 - val_loss: 5.7364e-04 - val_acc: 0.9999\n",
      "Epoch 19/20\n",
      "20591/20591 [==============================] - 2s 86us/sample - loss: 0.0078 - acc: 0.9975 - val_loss: 7.1934e-04 - val_acc: 1.0000\n",
      "Epoch 20/20\n",
      "20591/20591 [==============================] - 2s 85us/sample - loss: 0.0161 - acc: 0.9946 - val_loss: 0.0025 - val_acc: 0.9991\n",
      "7172/7172 [==============================] - 1s 94us/sample - loss: 0.3857 - acc: 0.9194\n",
      "Test accuracy for this model is 0.9194087982177734\n",
      "Train on 20591 samples, validate on 6864 samples\n",
      "Epoch 1/20\n",
      "20591/20591 [==============================] - 3s 163us/sample - loss: 1.4701 - acc: 0.5338 - val_loss: 0.4227 - val_acc: 0.8657\n",
      "Epoch 2/20\n",
      "20591/20591 [==============================] - 1s 67us/sample - loss: 0.2871 - acc: 0.9004 - val_loss: 0.0692 - val_acc: 0.9803\n",
      "Epoch 3/20\n",
      "20591/20591 [==============================] - 1s 61us/sample - loss: 0.1233 - acc: 0.9576 - val_loss: 0.0288 - val_acc: 0.9933\n",
      "Epoch 4/20\n",
      "20591/20591 [==============================] - 1s 62us/sample - loss: 0.0756 - acc: 0.9741 - val_loss: 0.0156 - val_acc: 0.9971\n",
      "Epoch 5/20\n",
      "20591/20591 [==============================] - 1s 59us/sample - loss: 0.0558 - acc: 0.9807 - val_loss: 0.0174 - val_acc: 0.9958\n",
      "Epoch 6/20\n",
      "20591/20591 [==============================] - 1s 58us/sample - loss: 0.0487 - acc: 0.9841 - val_loss: 0.0605 - val_acc: 0.9779\n",
      "Epoch 7/20\n",
      "20591/20591 [==============================] - 1s 60us/sample - loss: 0.0582 - acc: 0.9802 - val_loss: 0.0051 - val_acc: 0.9987\n",
      "Epoch 8/20\n",
      "20591/20591 [==============================] - 1s 60us/sample - loss: 0.0340 - acc: 0.9888 - val_loss: 0.0113 - val_acc: 0.9975\n",
      "Epoch 9/20\n",
      "20591/20591 [==============================] - 1s 64us/sample - loss: 0.0312 - acc: 0.9897 - val_loss: 0.0073 - val_acc: 0.9993\n",
      "Epoch 10/20\n",
      "20591/20591 [==============================] - 1s 68us/sample - loss: 0.0252 - acc: 0.9919 - val_loss: 7.0427e-04 - val_acc: 1.0000\n",
      "Epoch 11/20\n",
      "20591/20591 [==============================] - 2s 74us/sample - loss: 0.0260 - acc: 0.9919 - val_loss: 8.1210e-04 - val_acc: 0.9999\n",
      "Epoch 12/20\n",
      "20591/20591 [==============================] - 2s 79us/sample - loss: 0.0252 - acc: 0.9919 - val_loss: 0.0030 - val_acc: 0.9985\n",
      "Epoch 13/20\n",
      "20591/20591 [==============================] - 1s 66us/sample - loss: 0.0206 - acc: 0.9932 - val_loss: 0.0063 - val_acc: 0.9965\n",
      "Epoch 14/20\n",
      "20591/20591 [==============================] - 2s 84us/sample - loss: 0.0229 - acc: 0.9929 - val_loss: 0.0016 - val_acc: 0.9997\n",
      "Epoch 15/20\n",
      "20591/20591 [==============================] - 2s 85us/sample - loss: 0.0174 - acc: 0.9945 - val_loss: 0.0025 - val_acc: 0.9997\n",
      "Epoch 16/20\n"
     ]
    },
    {
     "name": "stdout",
     "output_type": "stream",
     "text": [
      "20591/20591 [==============================] - 2s 81us/sample - loss: 0.0247 - acc: 0.9925 - val_loss: 0.0021 - val_acc: 0.9997\n",
      "Epoch 17/20\n",
      "20591/20591 [==============================] - 1s 65us/sample - loss: 0.0206 - acc: 0.9935 - val_loss: 0.0029 - val_acc: 0.9994\n",
      "Epoch 18/20\n",
      "20591/20591 [==============================] - 2s 81us/sample - loss: 0.0123 - acc: 0.9954 - val_loss: 7.2973e-04 - val_acc: 0.9999\n",
      "Epoch 19/20\n",
      "20591/20591 [==============================] - 1s 70us/sample - loss: 0.0217 - acc: 0.9934 - val_loss: 0.0014 - val_acc: 0.9997\n",
      "Epoch 20/20\n",
      "20591/20591 [==============================] - 2s 80us/sample - loss: 0.0108 - acc: 0.9967 - val_loss: 4.8917e-04 - val_acc: 0.9999\n",
      "7172/7172 [==============================] - 1s 118us/sample - loss: 0.3139 - acc: 0.9318\n",
      "Test accuracy for this model is 0.9318181872367859\n",
      "Train on 20591 samples, validate on 6864 samples\n",
      "Epoch 1/20\n",
      "20591/20591 [==============================] - 3s 135us/sample - loss: 1.6430 - acc: 0.4775 - val_loss: 0.4250 - val_acc: 0.8502\n",
      "Epoch 2/20\n",
      "20591/20591 [==============================] - 1s 61us/sample - loss: 0.3567 - acc: 0.8729 - val_loss: 0.1136 - val_acc: 0.9663\n",
      "Epoch 3/20\n",
      "20591/20591 [==============================] - 1s 58us/sample - loss: 0.1530 - acc: 0.9460 - val_loss: 0.0421 - val_acc: 0.9895\n",
      "Epoch 4/20\n",
      "20591/20591 [==============================] - 1s 71us/sample - loss: 0.0949 - acc: 0.9679 - val_loss: 0.0546 - val_acc: 0.9811\n",
      "Epoch 5/20\n",
      "20591/20591 [==============================] - 1s 72us/sample - loss: 0.0681 - acc: 0.9773 - val_loss: 0.0234 - val_acc: 0.9936\n",
      "Epoch 6/20\n",
      "20591/20591 [==============================] - 1s 72us/sample - loss: 0.0608 - acc: 0.9801 - val_loss: 0.0083 - val_acc: 0.9996\n",
      "Epoch 7/20\n",
      "20591/20591 [==============================] - 1s 73us/sample - loss: 0.0493 - acc: 0.9838 - val_loss: 0.0067 - val_acc: 0.9984\n",
      "Epoch 8/20\n",
      "20591/20591 [==============================] - 2s 77us/sample - loss: 0.0376 - acc: 0.9873 - val_loss: 0.0091 - val_acc: 0.9977\n",
      "Epoch 9/20\n",
      "20591/20591 [==============================] - 1s 68us/sample - loss: 0.0568 - acc: 0.9801 - val_loss: 0.0155 - val_acc: 0.9937\n",
      "Epoch 10/20\n",
      "20591/20591 [==============================] - 2s 75us/sample - loss: 0.0474 - acc: 0.9852 - val_loss: 0.0091 - val_acc: 0.9977\n",
      "Epoch 11/20\n",
      "20591/20591 [==============================] - 1s 71us/sample - loss: 0.0405 - acc: 0.9873 - val_loss: 0.0054 - val_acc: 0.9991\n",
      "Epoch 12/20\n",
      "20591/20591 [==============================] - 2s 81us/sample - loss: 0.0276 - acc: 0.9908 - val_loss: 0.0023 - val_acc: 0.9993\n",
      "Epoch 13/20\n",
      "20591/20591 [==============================] - 2s 83us/sample - loss: 0.0328 - acc: 0.9889 - val_loss: 0.0015 - val_acc: 0.9999\n",
      "Epoch 14/20\n",
      "20591/20591 [==============================] - 2s 85us/sample - loss: 0.0230 - acc: 0.9922 - val_loss: 0.0010 - val_acc: 0.9997\n",
      "Epoch 15/20\n",
      "20591/20591 [==============================] - 2s 82us/sample - loss: 0.0373 - acc: 0.9890 - val_loss: 0.0013 - val_acc: 0.9999\n",
      "Epoch 16/20\n",
      "20591/20591 [==============================] - 2s 82us/sample - loss: 0.0268 - acc: 0.9912 - val_loss: 0.0136 - val_acc: 0.9968\n",
      "Epoch 17/20\n",
      "20591/20591 [==============================] - 2s 75us/sample - loss: 0.0462 - acc: 0.9856 - val_loss: 0.0187 - val_acc: 0.9968\n",
      "Epoch 18/20\n",
      "20591/20591 [==============================] - 2s 84us/sample - loss: 0.0288 - acc: 0.9910 - val_loss: 9.7019e-04 - val_acc: 0.9999\n",
      "Epoch 19/20\n",
      "20591/20591 [==============================] - 2s 86us/sample - loss: 0.0431 - acc: 0.9879 - val_loss: 0.0052 - val_acc: 0.9983\n",
      "Epoch 20/20\n",
      "20591/20591 [==============================] - 2s 83us/sample - loss: 0.0369 - acc: 0.9888 - val_loss: 0.0155 - val_acc: 0.9943\n",
      "7172/7172 [==============================] - 1s 86us/sample - loss: 0.5738 - acc: 0.8995\n",
      "Test accuracy for this model is 0.8994701504707336\n",
      "Train on 20591 samples, validate on 6864 samples\n",
      "Epoch 1/20\n",
      "20591/20591 [==============================] - 3s 130us/sample - loss: 1.7315 - acc: 0.4468 - val_loss: 0.5151 - val_acc: 0.8319\n",
      "Epoch 2/20\n",
      "20591/20591 [==============================] - 1s 61us/sample - loss: 0.3882 - acc: 0.8620 - val_loss: 0.1062 - val_acc: 0.9682\n",
      "Epoch 3/20\n",
      "20591/20591 [==============================] - 1s 69us/sample - loss: 0.1600 - acc: 0.9433 - val_loss: 0.0306 - val_acc: 0.9939\n",
      "Epoch 4/20\n",
      "20591/20591 [==============================] - 2s 75us/sample - loss: 0.1170 - acc: 0.9597 - val_loss: 0.0253 - val_acc: 0.9936\n",
      "Epoch 5/20\n",
      "20591/20591 [==============================] - 1s 72us/sample - loss: 0.0913 - acc: 0.9702 - val_loss: 0.0279 - val_acc: 0.9911\n",
      "Epoch 6/20\n",
      "20591/20591 [==============================] - 1s 67us/sample - loss: 0.0908 - acc: 0.9714 - val_loss: 0.0142 - val_acc: 0.9974\n",
      "Epoch 7/20\n",
      "20591/20591 [==============================] - 1s 66us/sample - loss: 0.0537 - acc: 0.9825 - val_loss: 0.0140 - val_acc: 0.9959\n",
      "Epoch 8/20\n",
      "20591/20591 [==============================] - 1s 70us/sample - loss: 0.0677 - acc: 0.9790 - val_loss: 0.0061 - val_acc: 0.9996\n",
      "Epoch 9/20\n",
      "20591/20591 [==============================] - 1s 72us/sample - loss: 0.0679 - acc: 0.9795 - val_loss: 0.0063 - val_acc: 0.9990\n",
      "Epoch 10/20\n",
      "20591/20591 [==============================] - 1s 68us/sample - loss: 0.0450 - acc: 0.9853 - val_loss: 0.0029 - val_acc: 0.9997\n",
      "Epoch 11/20\n",
      "20591/20591 [==============================] - 2s 75us/sample - loss: 0.0378 - acc: 0.9883 - val_loss: 0.0052 - val_acc: 0.9987\n",
      "Epoch 12/20\n",
      "20591/20591 [==============================] - 2s 76us/sample - loss: 0.0473 - acc: 0.9842 - val_loss: 0.0047 - val_acc: 0.9984\n",
      "Epoch 13/20\n",
      "20591/20591 [==============================] - 2s 77us/sample - loss: 0.0628 - acc: 0.9806 - val_loss: 0.0043 - val_acc: 0.9987\n",
      "Epoch 14/20\n",
      "20591/20591 [==============================] - 1s 72us/sample - loss: 0.0645 - acc: 0.9809 - val_loss: 0.0046 - val_acc: 0.9984\n",
      "Epoch 15/20\n",
      "20591/20591 [==============================] - 1s 67us/sample - loss: 0.0616 - acc: 0.9821 - val_loss: 0.0080 - val_acc: 0.9983\n",
      "Epoch 16/20\n",
      "20591/20591 [==============================] - 2s 74us/sample - loss: 0.0509 - acc: 0.9849 - val_loss: 0.0071 - val_acc: 0.9978\n",
      "Epoch 17/20\n",
      "20591/20591 [==============================] - 2s 81us/sample - loss: 0.0573 - acc: 0.9844 - val_loss: 0.0280 - val_acc: 0.9907\n",
      "Epoch 18/20\n",
      "20591/20591 [==============================] - 2s 81us/sample - loss: 0.0656 - acc: 0.9801 - val_loss: 0.0027 - val_acc: 0.9997\n",
      "Epoch 19/20\n",
      "20591/20591 [==============================] - 1s 72us/sample - loss: 0.0476 - acc: 0.9864 - val_loss: 0.0116 - val_acc: 0.9965\n",
      "Epoch 20/20\n",
      "20591/20591 [==============================] - 1s 70us/sample - loss: 0.0443 - acc: 0.9873 - val_loss: 0.0021 - val_acc: 0.9991\n",
      "7172/7172 [==============================] - 1s 107us/sample - loss: 0.7688 - acc: 0.8982\n",
      "Test accuracy for this model is 0.8982152938842773\n"
     ]
    }
   ],
   "source": [
    "# optimize learning rate\n",
    "learning_rates = {}\n",
    "\n",
    "for learning_rate in learning_rate_range: \n",
    "    tempModel = testModel_HyperParamLoop() #create temporary model with default 0.2 dropout\n",
    "    opt = keras.optimizers.Adam(learning_rate= learning_rate) #update learning rate each loop\n",
    "    tempModel.compile(optimizer = opt, loss = loss, metrics = ['accuracy']) #compile temporary model\n",
    "    tempModelHist = tempModel.fit(cnn_x_train, y_train, validation_split = 0.25, \n",
    "                              batch_size= optimal_batch_size, epochs=20, shuffle=True, callbacks = [early_stopping, history]) \n",
    "                            # testing range of batch sizes\n",
    "    trainAcc = tempModelHist.history['acc'][-1] #gets final training accuracy\n",
    "    testLoss, testAcc = tempModel.evaluate(cnn_x_test, y_test) #gets test loss and accuracy\n",
    "    print(\"Test accuracy for this model is {}\".format(testAcc))\n",
    "    learning_rates[learning_rate] = [trainAcc, testAcc] #save model accuracy in dictionary"
   ]
  },
  {
   "cell_type": "code",
   "execution_count": 113,
   "metadata": {},
   "outputs": [
    {
     "name": "stdout",
     "output_type": "stream",
     "text": [
      "Optimal learning rate is 0.005\n"
     ]
    }
   ],
   "source": [
    "# get optimal learning rate via max test accuracy\n",
    "# print(learning_rates)\n",
    "max_test_acc = max(learning_rates.values())[1]\n",
    "optimal_learning_rate = GetKey(learning_rates, max_test_acc)\n",
    "opt = keras.optimizers.Adam(learning_rate = optimal_learning_rate) # set SGD optimization with optimal lr\n",
    "print('Optimal learning rate is {}'.format(optimal_learning_rate))"
   ]
  },
  {
   "cell_type": "code",
   "execution_count": 119,
   "metadata": {},
   "outputs": [
    {
     "name": "stdout",
     "output_type": "stream",
     "text": [
      "0.1\n",
      "Train on 20591 samples, validate on 6864 samples\n",
      "Epoch 1/20\n",
      "20591/20591 [==============================] - 3s 164us/sample - loss: 1.6063 - acc: 0.4909 - val_loss: 0.4955 - val_acc: 0.8326\n",
      "Epoch 2/20\n",
      "20591/20591 [==============================] - 2s 74us/sample - loss: 0.3196 - acc: 0.8897 - val_loss: 0.1370 - val_acc: 0.9547\n",
      "Epoch 3/20\n",
      "20591/20591 [==============================] - 2s 87us/sample - loss: 0.0961 - acc: 0.9681 - val_loss: 0.0482 - val_acc: 0.9863\n",
      "Epoch 4/20\n",
      "20591/20591 [==============================] - 2s 89us/sample - loss: 0.0689 - acc: 0.9771 - val_loss: 0.0289 - val_acc: 0.9916\n",
      "Epoch 5/20\n",
      "20591/20591 [==============================] - 2s 94us/sample - loss: 0.0539 - acc: 0.9808 - val_loss: 0.0128 - val_acc: 0.9971\n",
      "Epoch 6/20\n",
      "20591/20591 [==============================] - 2s 94us/sample - loss: 0.0365 - acc: 0.9882 - val_loss: 0.0064 - val_acc: 0.9985\n",
      "Epoch 7/20\n",
      "20591/20591 [==============================] - 2s 87us/sample - loss: 0.0179 - acc: 0.9950 - val_loss: 0.0039 - val_acc: 0.9997\n",
      "Epoch 8/20\n",
      "20591/20591 [==============================] - 2s 79us/sample - loss: 0.0548 - acc: 0.9848 - val_loss: 0.0025 - val_acc: 0.9997\n",
      "Epoch 9/20\n",
      "20591/20591 [==============================] - 1s 72us/sample - loss: 0.0206 - acc: 0.9934 - val_loss: 0.0102 - val_acc: 0.9952\n",
      "Epoch 10/20\n",
      "20591/20591 [==============================] - 1s 70us/sample - loss: 0.0280 - acc: 0.9906 - val_loss: 0.0040 - val_acc: 0.9983\n",
      "Epoch 11/20\n",
      "20591/20591 [==============================] - 1s 69us/sample - loss: 0.0224 - acc: 0.9922 - val_loss: 0.0019 - val_acc: 0.9997\n",
      "Epoch 12/20\n",
      "20591/20591 [==============================] - 2s 82us/sample - loss: 0.0223 - acc: 0.9931 - val_loss: 0.0127 - val_acc: 0.9978\n",
      "Epoch 13/20\n",
      "20591/20591 [==============================] - 1s 72us/sample - loss: 0.0247 - acc: 0.9920 - val_loss: 0.0056 - val_acc: 0.9987\n",
      "Epoch 14/20\n",
      "20591/20591 [==============================] - 1s 66us/sample - loss: 0.0180 - acc: 0.9949 - val_loss: 0.0011 - val_acc: 0.9999\n",
      "Epoch 15/20\n",
      "20591/20591 [==============================] - 1s 63us/sample - loss: 0.0101 - acc: 0.9972 - val_loss: 0.0028 - val_acc: 0.9991\n",
      "Epoch 16/20\n",
      "20591/20591 [==============================] - 1s 67us/sample - loss: 0.0168 - acc: 0.9950 - val_loss: 0.0096 - val_acc: 0.9972\n",
      "Epoch 17/20\n",
      "20591/20591 [==============================] - 1s 60us/sample - loss: 0.0267 - acc: 0.9919 - val_loss: 0.0020 - val_acc: 0.9997\n",
      "Epoch 18/20\n",
      "20591/20591 [==============================] - 1s 73us/sample - loss: 0.0213 - acc: 0.9933 - val_loss: 0.0027 - val_acc: 0.9994\n",
      "Epoch 19/20\n",
      "20591/20591 [==============================] - 1s 67us/sample - loss: 0.0205 - acc: 0.9934 - val_loss: 0.0027 - val_acc: 0.9991\n",
      "Epoch 20/20\n",
      "20591/20591 [==============================] - 1s 71us/sample - loss: 0.0222 - acc: 0.9934 - val_loss: 0.0027 - val_acc: 0.9997\n",
      "7172/7172 [==============================] - 1s 103us/sample - loss: 0.5873 - acc: 0.9039\n",
      "Test accuracy for this model is 0.9039319753646851\n",
      "0.2\n",
      "Train on 20591 samples, validate on 6864 samples\n",
      "Epoch 1/20\n",
      "20591/20591 [==============================] - 4s 211us/sample - loss: 3.1864 - acc: 0.0451 - val_loss: 3.1818 - val_acc: 0.0401\n",
      "Epoch 2/20\n",
      "20591/20591 [==============================] - 2s 83us/sample - loss: 3.1794 - acc: 0.0420 - val_loss: 3.1799 - val_acc: 0.0468\n",
      "Epoch 3/20\n",
      "20591/20591 [==============================] - 2s 75us/sample - loss: 3.1787 - acc: 0.0443 - val_loss: 3.1790 - val_acc: 0.0468\n",
      "Epoch 4/20\n",
      "20591/20591 [==============================] - 2s 81us/sample - loss: 3.1779 - acc: 0.0439 - val_loss: 3.1785 - val_acc: 0.0468\n",
      "Epoch 5/20\n",
      "20591/20591 [==============================] - 2s 80us/sample - loss: 3.1776 - acc: 0.0450 - val_loss: 3.1785 - val_acc: 0.0468\n",
      "Epoch 6/20\n",
      "20591/20591 [==============================] - 2s 80us/sample - loss: 3.1772 - acc: 0.0462 - val_loss: 3.1781 - val_acc: 0.0468\n",
      "Epoch 7/20\n",
      "20591/20591 [==============================] - 2s 82us/sample - loss: 3.1771 - acc: 0.0448 - val_loss: 3.1770 - val_acc: 0.0468\n",
      "Epoch 8/20\n",
      "20591/20591 [==============================] - 2s 80us/sample - loss: 3.1773 - acc: 0.0456 - val_loss: 3.1778 - val_acc: 0.0468\n",
      "Epoch 9/20\n",
      "20591/20591 [==============================] - 2s 79us/sample - loss: 3.1771 - acc: 0.0452 - val_loss: 3.1771 - val_acc: 0.0468\n",
      "Epoch 10/20\n",
      "20591/20591 [==============================] - 2s 80us/sample - loss: 3.1769 - acc: 0.0440 - val_loss: 3.1767 - val_acc: 0.0468\n",
      "Epoch 11/20\n",
      "20591/20591 [==============================] - 2s 78us/sample - loss: 3.1770 - acc: 0.0463 - val_loss: 3.1768 - val_acc: 0.0468\n",
      "Epoch 12/20\n",
      "20591/20591 [==============================] - 2s 77us/sample - loss: 3.1769 - acc: 0.0437 - val_loss: 3.1766 - val_acc: 0.0468\n",
      "Epoch 13/20\n",
      "20591/20591 [==============================] - 2s 86us/sample - loss: 3.1768 - acc: 0.0467 - val_loss: 3.1770 - val_acc: 0.0440\n",
      "Epoch 14/20\n",
      "20591/20591 [==============================] - 2s 77us/sample - loss: 3.1766 - acc: 0.0463 - val_loss: 3.1773 - val_acc: 0.0468\n",
      "Epoch 15/20\n",
      "20591/20591 [==============================] - 2s 76us/sample - loss: 3.1767 - acc: 0.0460 - val_loss: 3.1765 - val_acc: 0.0468\n",
      "Epoch 16/20\n",
      "20591/20591 [==============================] - 2s 80us/sample - loss: 3.1766 - acc: 0.0434 - val_loss: 3.1765 - val_acc: 0.0409\n",
      "Epoch 17/20\n",
      "20591/20591 [==============================] - 2s 77us/sample - loss: 3.1766 - acc: 0.0472 - val_loss: 3.1764 - val_acc: 0.0468\n",
      "Epoch 18/20\n",
      "20591/20591 [==============================] - 2s 73us/sample - loss: 3.1766 - acc: 0.0463 - val_loss: 3.1772 - val_acc: 0.0468\n",
      "Epoch 19/20\n",
      "20591/20591 [==============================] - 1s 73us/sample - loss: 3.1765 - acc: 0.0451 - val_loss: 3.1768 - val_acc: 0.0440\n",
      "Epoch 20/20\n",
      "20591/20591 [==============================] - 3s 150us/sample - loss: 3.1763 - acc: 0.0462 - val_loss: 3.1771 - val_acc: 0.0468\n",
      "7172/7172 [==============================] - 1s 113us/sample - loss: 3.2021 - acc: 0.0201\n",
      "Test accuracy for this model is 0.020078081637620926\n",
      "0.3\n",
      "Train on 20591 samples, validate on 6864 samples\n",
      "Epoch 1/20\n",
      "20591/20591 [==============================] - 4s 216us/sample - loss: 3.1979 - acc: 0.0417 - val_loss: 3.1788 - val_acc: 0.0399\n",
      "Epoch 2/20\n",
      "20591/20591 [==============================] - 2s 79us/sample - loss: 3.1796 - acc: 0.0453 - val_loss: 3.1780 - val_acc: 0.0440\n",
      "Epoch 3/20\n",
      "20591/20591 [==============================] - 2s 83us/sample - loss: 3.1781 - acc: 0.0443 - val_loss: 3.1775 - val_acc: 0.0500\n",
      "Epoch 4/20\n",
      "20591/20591 [==============================] - 1s 67us/sample - loss: 3.1777 - acc: 0.0439 - val_loss: 3.1775 - val_acc: 0.0468\n",
      "Epoch 5/20\n",
      "20591/20591 [==============================] - 2s 76us/sample - loss: 3.1777 - acc: 0.0451 - val_loss: 3.1780 - val_acc: 0.0468\n",
      "Epoch 6/20\n",
      "20591/20591 [==============================] - 2s 80us/sample - loss: 3.1776 - acc: 0.0454 - val_loss: 3.1774 - val_acc: 0.0409\n",
      "Epoch 7/20\n",
      "20591/20591 [==============================] - 2s 79us/sample - loss: 3.1771 - acc: 0.0447 - val_loss: 3.1773 - val_acc: 0.0468\n",
      "Epoch 8/20\n",
      "20591/20591 [==============================] - 2s 91us/sample - loss: 3.1771 - acc: 0.0452 - val_loss: 3.1769 - val_acc: 0.0468\n",
      "Epoch 9/20\n",
      "20591/20591 [==============================] - 2s 83us/sample - loss: 3.1768 - acc: 0.0462 - val_loss: 3.1776 - val_acc: 0.0468\n",
      "Epoch 10/20\n",
      "20591/20591 [==============================] - 2s 84us/sample - loss: 3.1770 - acc: 0.0437 - val_loss: 3.1766 - val_acc: 0.0468\n",
      "Epoch 11/20\n",
      "20591/20591 [==============================] - 2s 93us/sample - loss: 3.1771 - acc: 0.0451 - val_loss: 3.1773 - val_acc: 0.0468\n",
      "Epoch 12/20\n",
      "20591/20591 [==============================] - 2s 90us/sample - loss: 3.1770 - acc: 0.0459 - val_loss: 3.1769 - val_acc: 0.0468\n",
      "Epoch 13/20\n",
      "20591/20591 [==============================] - 2s 85us/sample - loss: 3.1765 - acc: 0.0453 - val_loss: 3.1766 - val_acc: 0.0468\n",
      "Epoch 14/20\n",
      "20591/20591 [==============================] - 2s 87us/sample - loss: 3.1767 - acc: 0.0473 - val_loss: 3.1781 - val_acc: 0.0468\n",
      "Epoch 15/20\n",
      "20591/20591 [==============================] - 2s 83us/sample - loss: 3.1767 - acc: 0.0468 - val_loss: 3.1768 - val_acc: 0.0468\n",
      "Epoch 16/20\n"
     ]
    },
    {
     "name": "stdout",
     "output_type": "stream",
     "text": [
      "20591/20591 [==============================] - 2s 96us/sample - loss: 3.1765 - acc: 0.0460 - val_loss: 3.1765 - val_acc: 0.0468\n",
      "Epoch 17/20\n",
      "20591/20591 [==============================] - 4s 175us/sample - loss: 3.1765 - acc: 0.0464 - val_loss: 3.1765 - val_acc: 0.0500\n",
      "7172/7172 [==============================] - 1s 112us/sample - loss: 3.2025 - acc: 0.0201\n",
      "Test accuracy for this model is 0.020078081637620926\n"
     ]
    }
   ],
   "source": [
    "dropout_rates = {}\n",
    "opt = keras.optimizers.Adam(learning_rate= optimal_learning_rate)\n",
    "\n",
    "for dropout in dropout_rate_range:\n",
    "    print(dropout)\n",
    "    tempModel = testModel_HyperParamLoop(dropout) #create temporary model\n",
    "    tempModel.compile(optimizer = opt, loss = loss, metrics = ['accuracy']) #compile temporary model\n",
    "    #fit model with optimal batch size\n",
    "    tempModelHist = tempModel.fit(cnn_x_train, y_train, validation_split = 0.25, \n",
    "                              batch_size= optimal_batch_size, epochs=20, shuffle=True, callbacks = [early_stopping, history])\n",
    "                                \n",
    "    trainAcc = tempModelHist.history['acc'][-1] #gets final training accuracy\n",
    "    testLoss, testAcc = tempModel.evaluate(cnn_x_test, y_test) #gets test loss and accuracy\n",
    "    print(\"Test accuracy for this model is {}\".format(testAcc))\n",
    "    dropout_rates[dropout] = [trainAcc, testAcc] #save model accuracy in dictionary"
   ]
  },
  {
   "cell_type": "code",
   "execution_count": 120,
   "metadata": {},
   "outputs": [
    {
     "name": "stdout",
     "output_type": "stream",
     "text": [
      "Optimal dropout rate is 0.1\n"
     ]
    }
   ],
   "source": [
    "# get optimal dropout rate via max test accuracy\n",
    "'''no clue why the accuracy plummets to 4%'''\n",
    "max_test_acc = max(dropout_rates.values())[1]\n",
    "optimal_dropout_rate = GetKey(dropout_rates, max_test_acc)\n",
    "opt = keras.optimizers.Adam(learning_rate = optimal_learning_rate) # set SGD optimization with optimal lr\n",
    "print('Optimal dropout rate is {}'.format(optimal_dropout_rate))"
   ]
  },
  {
   "cell_type": "markdown",
   "metadata": {},
   "source": [
    "### Optimal hyperparameters\n",
    "- batch size = 125\n",
    "- dropout rate = 0.1\n",
    "- learning rate = 0.005"
   ]
  },
  {
   "cell_type": "code",
   "execution_count": 116,
   "metadata": {},
   "outputs": [
    {
     "data": {
      "text/plain": [
       "{0.1: [0.9943179, 0.90532625],\n",
       " 0.15: [0.045213927, 0.020078082],\n",
       " 0.2: [0.047447912, 0.034160625],\n",
       " 0.25: [0.046865135, 0.029141104],\n",
       " 0.3: [0.045893837, 0.020078082]}"
      ]
     },
     "execution_count": 116,
     "metadata": {},
     "output_type": "execute_result"
    }
   ],
   "source": [
    "dropout_rates"
   ]
  }
 ],
 "metadata": {
  "kernelspec": {
   "display_name": "Python 3",
   "language": "python",
   "name": "python3"
  },
  "language_info": {
   "codemirror_mode": {
    "name": "ipython",
    "version": 3
   },
   "file_extension": ".py",
   "mimetype": "text/x-python",
   "name": "python",
   "nbconvert_exporter": "python",
   "pygments_lexer": "ipython3",
   "version": "3.7.6"
  }
 },
 "nbformat": 4,
 "nbformat_minor": 4
}
