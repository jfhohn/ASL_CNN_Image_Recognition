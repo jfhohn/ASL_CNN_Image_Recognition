{
 "cells": [
  {
   "cell_type": "code",
   "execution_count": 1,
   "metadata": {},
   "outputs": [],
   "source": [
    "import tensorflow as tf\n",
    "import tensorflow.keras as keras\n",
    "import numpy as np\n",
    "import matplotlib.pyplot as plt\n",
    "import pandas as pd\n",
    "%matplotlib inline\n",
    "from tensorflow.keras.datasets import mnist"
   ]
  },
  {
   "cell_type": "code",
   "execution_count": 25,
   "metadata": {},
   "outputs": [],
   "source": [
    "df_test = pd.read_csv('./sign_mnist_test.csv')\n",
    "df_train = pd.read_csv('./sign_mnist_train.csv')"
   ]
  },
  {
   "cell_type": "code",
   "execution_count": 3,
   "metadata": {},
   "outputs": [],
   "source": [
    "#separate labels (letter classes) from training data set\n",
    "#drop label from rest of pixels\n",
    "labels_train = df_train['label']\n",
    "df_train = df_train.drop('label',axis = 1)"
   ]
  },
  {
   "cell_type": "code",
   "execution_count": 26,
   "metadata": {},
   "outputs": [
    {
     "data": {
      "text/html": [
       "<div>\n",
       "<style scoped>\n",
       "    .dataframe tbody tr th:only-of-type {\n",
       "        vertical-align: middle;\n",
       "    }\n",
       "\n",
       "    .dataframe tbody tr th {\n",
       "        vertical-align: top;\n",
       "    }\n",
       "\n",
       "    .dataframe thead th {\n",
       "        text-align: right;\n",
       "    }\n",
       "</style>\n",
       "<table border=\"1\" class=\"dataframe\">\n",
       "  <thead>\n",
       "    <tr style=\"text-align: right;\">\n",
       "      <th></th>\n",
       "      <th>label</th>\n",
       "      <th>pixel1</th>\n",
       "      <th>pixel2</th>\n",
       "      <th>pixel3</th>\n",
       "      <th>pixel4</th>\n",
       "      <th>pixel5</th>\n",
       "      <th>pixel6</th>\n",
       "      <th>pixel7</th>\n",
       "      <th>pixel8</th>\n",
       "      <th>pixel9</th>\n",
       "      <th>...</th>\n",
       "      <th>pixel775</th>\n",
       "      <th>pixel776</th>\n",
       "      <th>pixel777</th>\n",
       "      <th>pixel778</th>\n",
       "      <th>pixel779</th>\n",
       "      <th>pixel780</th>\n",
       "      <th>pixel781</th>\n",
       "      <th>pixel782</th>\n",
       "      <th>pixel783</th>\n",
       "      <th>pixel784</th>\n",
       "    </tr>\n",
       "  </thead>\n",
       "  <tbody>\n",
       "    <tr>\n",
       "      <th>0</th>\n",
       "      <td>6</td>\n",
       "      <td>149</td>\n",
       "      <td>149</td>\n",
       "      <td>150</td>\n",
       "      <td>150</td>\n",
       "      <td>150</td>\n",
       "      <td>151</td>\n",
       "      <td>151</td>\n",
       "      <td>150</td>\n",
       "      <td>151</td>\n",
       "      <td>...</td>\n",
       "      <td>138</td>\n",
       "      <td>148</td>\n",
       "      <td>127</td>\n",
       "      <td>89</td>\n",
       "      <td>82</td>\n",
       "      <td>96</td>\n",
       "      <td>106</td>\n",
       "      <td>112</td>\n",
       "      <td>120</td>\n",
       "      <td>107</td>\n",
       "    </tr>\n",
       "    <tr>\n",
       "      <th>1</th>\n",
       "      <td>5</td>\n",
       "      <td>126</td>\n",
       "      <td>128</td>\n",
       "      <td>131</td>\n",
       "      <td>132</td>\n",
       "      <td>133</td>\n",
       "      <td>134</td>\n",
       "      <td>135</td>\n",
       "      <td>135</td>\n",
       "      <td>136</td>\n",
       "      <td>...</td>\n",
       "      <td>47</td>\n",
       "      <td>104</td>\n",
       "      <td>194</td>\n",
       "      <td>183</td>\n",
       "      <td>186</td>\n",
       "      <td>184</td>\n",
       "      <td>184</td>\n",
       "      <td>184</td>\n",
       "      <td>182</td>\n",
       "      <td>180</td>\n",
       "    </tr>\n",
       "    <tr>\n",
       "      <th>2</th>\n",
       "      <td>10</td>\n",
       "      <td>85</td>\n",
       "      <td>88</td>\n",
       "      <td>92</td>\n",
       "      <td>96</td>\n",
       "      <td>105</td>\n",
       "      <td>123</td>\n",
       "      <td>135</td>\n",
       "      <td>143</td>\n",
       "      <td>147</td>\n",
       "      <td>...</td>\n",
       "      <td>68</td>\n",
       "      <td>166</td>\n",
       "      <td>242</td>\n",
       "      <td>227</td>\n",
       "      <td>230</td>\n",
       "      <td>227</td>\n",
       "      <td>226</td>\n",
       "      <td>225</td>\n",
       "      <td>224</td>\n",
       "      <td>222</td>\n",
       "    </tr>\n",
       "    <tr>\n",
       "      <th>3</th>\n",
       "      <td>0</td>\n",
       "      <td>203</td>\n",
       "      <td>205</td>\n",
       "      <td>207</td>\n",
       "      <td>206</td>\n",
       "      <td>207</td>\n",
       "      <td>209</td>\n",
       "      <td>210</td>\n",
       "      <td>209</td>\n",
       "      <td>210</td>\n",
       "      <td>...</td>\n",
       "      <td>154</td>\n",
       "      <td>248</td>\n",
       "      <td>247</td>\n",
       "      <td>248</td>\n",
       "      <td>253</td>\n",
       "      <td>236</td>\n",
       "      <td>230</td>\n",
       "      <td>240</td>\n",
       "      <td>253</td>\n",
       "      <td>255</td>\n",
       "    </tr>\n",
       "    <tr>\n",
       "      <th>4</th>\n",
       "      <td>3</td>\n",
       "      <td>188</td>\n",
       "      <td>191</td>\n",
       "      <td>193</td>\n",
       "      <td>195</td>\n",
       "      <td>199</td>\n",
       "      <td>201</td>\n",
       "      <td>202</td>\n",
       "      <td>203</td>\n",
       "      <td>203</td>\n",
       "      <td>...</td>\n",
       "      <td>26</td>\n",
       "      <td>40</td>\n",
       "      <td>64</td>\n",
       "      <td>48</td>\n",
       "      <td>29</td>\n",
       "      <td>46</td>\n",
       "      <td>49</td>\n",
       "      <td>46</td>\n",
       "      <td>46</td>\n",
       "      <td>53</td>\n",
       "    </tr>\n",
       "  </tbody>\n",
       "</table>\n",
       "<p>5 rows × 785 columns</p>\n",
       "</div>"
      ],
      "text/plain": [
       "   label  pixel1  pixel2  pixel3  pixel4  pixel5  pixel6  pixel7  pixel8  \\\n",
       "0      6     149     149     150     150     150     151     151     150   \n",
       "1      5     126     128     131     132     133     134     135     135   \n",
       "2     10      85      88      92      96     105     123     135     143   \n",
       "3      0     203     205     207     206     207     209     210     209   \n",
       "4      3     188     191     193     195     199     201     202     203   \n",
       "\n",
       "   pixel9  ...  pixel775  pixel776  pixel777  pixel778  pixel779  pixel780  \\\n",
       "0     151  ...       138       148       127        89        82        96   \n",
       "1     136  ...        47       104       194       183       186       184   \n",
       "2     147  ...        68       166       242       227       230       227   \n",
       "3     210  ...       154       248       247       248       253       236   \n",
       "4     203  ...        26        40        64        48        29        46   \n",
       "\n",
       "   pixel781  pixel782  pixel783  pixel784  \n",
       "0       106       112       120       107  \n",
       "1       184       184       182       180  \n",
       "2       226       225       224       222  \n",
       "3       230       240       253       255  \n",
       "4        49        46        46        53  \n",
       "\n",
       "[5 rows x 785 columns]"
      ]
     },
     "execution_count": 26,
     "metadata": {},
     "output_type": "execute_result"
    }
   ],
   "source": [
    "df_test.head()"
   ]
  },
  {
   "cell_type": "code",
   "execution_count": 4,
   "metadata": {},
   "outputs": [],
   "source": [
    "# #separate labels (letter classes) from test data set\n",
    "#drop label from rest of pixels\n",
    "labels_test = df_test['label']\n",
    "df_test = df_test.drop('label',axis = 1)"
   ]
  },
  {
   "cell_type": "code",
   "execution_count": 5,
   "metadata": {},
   "outputs": [],
   "source": [
    "#convert pandas to numpy arrays\n",
    "np_test =df_test.to_numpy()\n",
    "np_train = df_train.to_numpy()\n",
    "labels_train = labels_train.to_numpy()\n",
    "labels_test = labels_test.to_numpy()"
   ]
  },
  {
   "cell_type": "code",
   "execution_count": 6,
   "metadata": {},
   "outputs": [],
   "source": [
    "# This loads in the dataset. Thankfully, TensorFlow already has methods to load this dataset\n",
    "# (x_train, y_train), (x_test, y_test) = mnist.load_data()\n",
    "\n",
    "#define target values\n",
    "y_train = labels_train\n",
    "y_test = labels_test\n",
    "\n",
    "# Normalize input values\n",
    "x_train = np_train/255. #0-1\n",
    "x_test = np_test/255.\n",
    "\n",
    "# Generate 32x32 image set for use in LeNet\n",
    "cnn_x_train = x_train.reshape(-1,28,28,1) # don't know what this 1 does\n",
    "cnn_x_test = x_test.reshape(-1,28,28,1)\n",
    "# cnn_x_train = np.pad(x_train, ((0,0),(2,2),(2,2))).reshape((-1, 32, 32, 1))\n",
    "# cnn_x_test = np.pad(x_test, ((0,0),(2,2),(2,2))).reshape((-1, 32, 32, 1))\n",
    "\n",
    "# Resize images for use in MLP\n",
    "mlp_x_train = x_train.reshape((x_train.shape[0], 784))\n",
    "mlp_x_test = x_test.reshape((x_test.shape[0], 784))"
   ]
  },
  {
   "cell_type": "code",
   "execution_count": 7,
   "metadata": {},
   "outputs": [
    {
     "data": {
      "text/plain": [
       "(27455, 784)"
      ]
     },
     "execution_count": 7,
     "metadata": {},
     "output_type": "execute_result"
    }
   ],
   "source": [
    "mlp_x_train.shape"
   ]
  },
  {
   "cell_type": "code",
   "execution_count": 11,
   "metadata": {},
   "outputs": [
    {
     "name": "stdout",
     "output_type": "stream",
     "text": [
      "Model: \"model_2\"\n",
      "_________________________________________________________________\n",
      "Layer (type)                 Output Shape              Param #   \n",
      "=================================================================\n",
      "input_3 (InputLayer)         [(None, 784)]             0         \n",
      "_________________________________________________________________\n",
      "dense_6 (Dense)              (None, 512)               401920    \n",
      "_________________________________________________________________\n",
      "dense_7 (Dense)              (None, 512)               262656    \n",
      "_________________________________________________________________\n",
      "dense_8 (Dense)              (None, 25)                12825     \n",
      "=================================================================\n",
      "Total params: 677,401\n",
      "Trainable params: 677,401\n",
      "Non-trainable params: 0\n",
      "_________________________________________________________________\n"
     ]
    }
   ],
   "source": [
    "# Implements the network using TensorFlow.Keras\n",
    "def MLPNetwork(inputDim):\n",
    "    # input layer (note that batches are already taken care of for you)\n",
    "    x = keras.Input(shape=(inputDim,))\n",
    "    \n",
    "    # subsequent dense layers\n",
    "    a1 = keras.layers.Dense(512, activation='relu')(x)\n",
    "    a2 = keras.layers.Dense(512, activation='relu')(a1)\n",
    "    \n",
    "    # classification dense layer\n",
    "    logits = keras.layers.Dense(25, activation='softmax')(a2)\n",
    "    \n",
    "    # Creates the model given the above structure\n",
    "    model = keras.Model(inputs=x, outputs=logits)\n",
    "    return model\n",
    "\n",
    "MLPmod = MLPNetwork(784)\n",
    "MLPmod.summary()"
   ]
  },
  {
   "cell_type": "code",
   "execution_count": 12,
   "metadata": {},
   "outputs": [
    {
     "name": "stdout",
     "output_type": "stream",
     "text": [
      "Train on 27455 samples\n",
      "Epoch 1/10\n",
      "27455/27455 [==============================] - 3s 92us/sample - loss: 1.5604 - acc: 0.5092\n",
      "Epoch 2/10\n",
      "27455/27455 [==============================] - 3s 93us/sample - loss: 0.5710 - acc: 0.8145\n",
      "Epoch 3/10\n",
      "27455/27455 [==============================] - 2s 88us/sample - loss: 0.2801 - acc: 0.9108\n",
      "Epoch 4/10\n",
      "27455/27455 [==============================] - 2s 87us/sample - loss: 0.1500 - acc: 0.9536\n",
      "Epoch 5/10\n",
      "27455/27455 [==============================] - 2s 88us/sample - loss: 0.0912 - acc: 0.9729\n",
      "Epoch 6/10\n",
      "27455/27455 [==============================] - 3s 92us/sample - loss: 0.0920 - acc: 0.9706\n",
      "Epoch 7/10\n",
      "27455/27455 [==============================] - 3s 93us/sample - loss: 0.0606 - acc: 0.9812\n",
      "Epoch 8/10\n",
      "27455/27455 [==============================] - 2s 89us/sample - loss: 0.0630 - acc: 0.9811\n",
      "Epoch 9/10\n",
      "27455/27455 [==============================] - 2s 88us/sample - loss: 0.0511 - acc: 0.9832\n",
      "Epoch 10/10\n",
      "27455/27455 [==============================] - 2s 87us/sample - loss: 0.1057 - acc: 0.9664\n"
     ]
    }
   ],
   "source": [
    "# Sets up optimizer\n",
    "opt = keras.optimizers.Adam(learning_rate=0.001)\n",
    "MLPmod.compile(optimizer=opt, loss='sparse_categorical_crossentropy', metrics=['accuracy'])\n",
    "\n",
    "# The callback forces the network to train until it reaches 100% accuracy\n",
    "hist = MLPmod.fit(mlp_x_train, y_train, epochs=10, shuffle=True)"
   ]
  },
  {
   "cell_type": "code",
   "execution_count": 13,
   "metadata": {},
   "outputs": [
    {
     "name": "stdout",
     "output_type": "stream",
     "text": [
      "7172/7172 [==============================] - 0s 59us/sample - loss: 0.8733 - acc: 0.8196\n",
      "Test accuracy for this model is 0.8195761442184448\n"
     ]
    }
   ],
   "source": [
    "# Evaluate the trained network on the testing dataset\n",
    "testLoss, testAcc = MLPmod.evaluate(mlp_x_test, y_test)\n",
    "print(\"Test accuracy for this model is {}\".format(testAcc))"
   ]
  },
  {
   "cell_type": "code",
   "execution_count": 14,
   "metadata": {},
   "outputs": [
    {
     "name": "stdout",
     "output_type": "stream",
     "text": [
      "Model: \"model_3\"\n",
      "_________________________________________________________________\n",
      "Layer (type)                 Output Shape              Param #   \n",
      "=================================================================\n",
      "input_4 (InputLayer)         [(None, 28, 28, 1)]       0         \n",
      "_________________________________________________________________\n",
      "conv2d (Conv2D)              (None, 24, 24, 6)         156       \n",
      "_________________________________________________________________\n",
      "average_pooling2d (AveragePo (None, 12, 12, 6)         0         \n",
      "_________________________________________________________________\n",
      "conv2d_1 (Conv2D)            (None, 8, 8, 16)          2416      \n",
      "_________________________________________________________________\n",
      "average_pooling2d_1 (Average (None, 4, 4, 16)          0         \n",
      "_________________________________________________________________\n",
      "flatten (Flatten)            (None, 256)               0         \n",
      "_________________________________________________________________\n",
      "dense_9 (Dense)              (None, 120)               30840     \n",
      "_________________________________________________________________\n",
      "dense_10 (Dense)             (None, 84)                10164     \n",
      "_________________________________________________________________\n",
      "prelogits (Dense)            (None, 25)                2125      \n",
      "_________________________________________________________________\n",
      "logits (Activation)          (None, 25)                0         \n",
      "=================================================================\n",
      "Total params: 45,701\n",
      "Trainable params: 45,701\n",
      "Non-trainable params: 0\n",
      "_________________________________________________________________\n"
     ]
    }
   ],
   "source": [
    "# Creates the model within this function\n",
    "def LeNet():\n",
    "    # input\n",
    "    xIn = keras.Input(shape=(28,28,1))\n",
    "    \n",
    "    # subsequent layers\n",
    "    out = keras.layers.Conv2D(6, 5, activation='relu')(xIn)\n",
    "    out = keras.layers.AveragePooling2D(2, 2)(out)\n",
    "    out = keras.layers.Conv2D(16, 5, activation='relu')(out)\n",
    "    out = keras.layers.AveragePooling2D(2, 2)(out)\n",
    "    out = keras.layers.Flatten()(out)\n",
    "    out = keras.layers.Dense(120, activation='relu')(out)\n",
    "    out = keras.layers.Dense(84, activation='relu')(out)\n",
    "    out = keras.layers.Dense(25, name='prelogits')(out)  # more on this later\n",
    "    out = keras.layers.Activation('softmax', name='logits')(out)\n",
    "    \n",
    "    # Creates model\n",
    "    mod = keras.Model(inputs=xIn, outputs=out)\n",
    "    \n",
    "    return mod\n",
    "\n",
    "# Declares the model and prepares it for training\n",
    "LeNetMod = LeNet()\n",
    "opt = keras.optimizers.Adam()\n",
    "LeNetMod.compile(optimizer=opt, loss='sparse_categorical_crossentropy', metrics=['accuracy'])\n",
    "LeNetMod.summary()"
   ]
  },
  {
   "cell_type": "code",
   "execution_count": 15,
   "metadata": {},
   "outputs": [
    {
     "name": "stdout",
     "output_type": "stream",
     "text": [
      "Train on 27455 samples\n",
      "Epoch 1/10\n",
      "27455/27455 [==============================] - 3s 110us/sample - loss: 2.0506 - acc: 0.3706\n",
      "Epoch 2/10\n",
      "27455/27455 [==============================] - 1s 43us/sample - loss: 0.9260 - acc: 0.6998\n",
      "Epoch 3/10\n",
      "27455/27455 [==============================] - 1s 43us/sample - loss: 0.4922 - acc: 0.8442\n",
      "Epoch 4/10\n",
      "27455/27455 [==============================] - 1s 41us/sample - loss: 0.2598 - acc: 0.9197\n",
      "Epoch 5/10\n",
      "27455/27455 [==============================] - 1s 42us/sample - loss: 0.1362 - acc: 0.9652\n",
      "Epoch 6/10\n",
      "27455/27455 [==============================] - 1s 47us/sample - loss: 0.0745 - acc: 0.9838\n",
      "Epoch 7/10\n",
      "27455/27455 [==============================] - 1s 45us/sample - loss: 0.0390 - acc: 0.9945\n",
      "Epoch 8/10\n",
      "27455/27455 [==============================] - 1s 45us/sample - loss: 0.0267 - acc: 0.9961\n",
      "Epoch 9/10\n",
      "27455/27455 [==============================] - 1s 43us/sample - loss: 0.0176 - acc: 0.9976\n",
      "Epoch 10/10\n",
      "27455/27455 [==============================] - 1s 43us/sample - loss: 0.0095 - acc: 0.9994\n"
     ]
    }
   ],
   "source": [
    "# Trains the network using mini-batch learning\n",
    "cnnHist = LeNetMod.fit(cnn_x_train, y_train, batch_size=128, epochs=10, shuffle=True)"
   ]
  },
  {
   "cell_type": "code",
   "execution_count": 16,
   "metadata": {},
   "outputs": [
    {
     "name": "stdout",
     "output_type": "stream",
     "text": [
      "7172/7172 [==============================] - 1s 90us/sample - loss: 0.6429 - acc: 0.8491\n",
      "Test accuracy for this model is 0.8491355180740356\n"
     ]
    }
   ],
   "source": [
    "# Evaluate the trained network on the testing dataset\n",
    "testLoss, testAcc = LeNetMod.evaluate(cnn_x_test, y_test)\n",
    "print(\"Test accuracy for this model is {}\".format(testAcc))"
   ]
  },
  {
   "cell_type": "code",
   "execution_count": 27,
   "metadata": {},
   "outputs": [
    {
     "data": {
      "text/plain": [
       "Text(0.5, 1.0, 'Number 7 classified as 6')"
      ]
     },
     "execution_count": 27,
     "metadata": {},
     "output_type": "execute_result"
    },
    {
     "data": {
      "image/png": "[encoded data removed]",
      "text/plain": [
       "<Figure size 432x288 with 1 Axes>"
      ]
     },
     "metadata": {
      "needs_background": "light"
     },
     "output_type": "display_data"
    }
   ],
   "source": [
    "# Plot an incorrect value...\n",
    "preds = LeNetMod.predict(cnn_x_test)\n",
    "preds = np.argmax(preds, axis=1)\n",
    "incorrectPreds = np.argwhere(preds != y_test)\n",
    "randIncInd = np.random.choice(incorrectPreds.reshape(-1))\n",
    "plt.imshow(cnn_x_test[randIncInd].reshape(28,28), cmap = 'gray')\n",
    "plt.title(\"Number {} classified as {}\".format(y_test[randIncInd], preds[randIncInd]))"
   ]
  },
  {
   "cell_type": "code",
   "execution_count": 15,
   "metadata": {},
   "outputs": [
    {
     "data": {
      "text/plain": [
       "Text(95.72222222222221, 0.5, 'Actual')"
      ]
     },
     "execution_count": 15,
     "metadata": {},
     "output_type": "execute_result"
    },
    {
     "data": {
      "image/png": "[encoded data removed]",
      "text/plain": [
       "<Figure size 1000x1000 with 2 Axes>"
      ]
     },
     "metadata": {
      "needs_background": "light"
     },
     "output_type": "display_data"
    }
   ],
   "source": [
    "from sklearn.metrics import confusion_matrix\n",
    "from seaborn import heatmap\n",
    "\n",
    "conMat = confusion_matrix(y_test, preds)\n",
    "plt.figure(figsize=(10,10), dpi=100)\n",
    "heatmap(conMat/np.sum(conMat,axis=1), annot=True, annot_kws={\"size\": 5}, fmt='.2%', cmap='Blues')\n",
    "plt.title(\"Confusion Matrix\")\n",
    "plt.xlabel(\"Predicted\")\n",
    "plt.ylabel(\"Actual\")"
   ]
  },
  {
   "cell_type": "markdown",
   "metadata": {},
   "source": [
    "### "
   ]
  }
 ],
 "metadata": {
  "kernelspec": {
   "display_name": "Python 3",
   "language": "python",
   "name": "python3"
  },
  "language_info": {
   "codemirror_mode": {
    "name": "ipython",
    "version": 3
   },
   "file_extension": ".py",
   "mimetype": "text/x-python",
   "name": "python",
   "nbconvert_exporter": "python",
   "pygments_lexer": "ipython3",
   "version": "3.7.6"
  }
 },
 "nbformat": 4,
 "nbformat_minor": 4
}
